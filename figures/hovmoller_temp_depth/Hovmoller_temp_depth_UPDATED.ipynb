{
 "cells": [
  {
   "cell_type": "code",
   "execution_count": 1,
   "id": "905b342d",
   "metadata": {},
   "outputs": [
    {
     "name": "stdout",
     "output_type": "stream",
     "text": [
      "netcdf_index loaded.\n",
      "Available exptdata keys:  ['1deg', '025deg', '01deg']\n"
     ]
    }
   ],
   "source": [
    "%matplotlib inline\n",
    "\n",
    "import pandas as pd\n",
    "import cosima_cookbook as cc\n",
    "import matplotlib.pyplot as plt\n",
    "import xarray as xr\n",
    "import numpy as np\n",
    "import IPython.display\n",
    "import cmocean as cm\n",
    "import pandas as pd\n",
    "\n",
    "from dask.distributed import Client, progress\n",
    "\n",
    "import sys, os\n",
    "\n",
    "os.chdir(os.path.join(os.getcwd(), \"ACCESS-OM2-updated/figures/hovmoller_temp_depth\"))\n",
    "sys.path.append(os.path.join(os.getcwd(), '..'))  # so we can import ../exptdata\n",
    "import exptdata\n",
    "print('Available exptdata keys: ', [k for k in exptdata.exptdict.keys()])"
   ]
  },
  {
   "cell_type": "code",
   "execution_count": 2,
   "id": "668196d1",
   "metadata": {},
   "outputs": [],
   "source": [
    "figdir = ''\n",
    "def savefigure(fname):\n",
    "    plt.savefig(os.path.join(figdir, fname+'.png'),dpi=300, bbox_inches=\"tight\")  # comment out to disable saving\n",
    "    #plt.savefig(os.path.join(figdir, fname+'.pdf'),dpi=300, bbox_inches=\"tight\")  # comment out to disable saving\n",
    "    return"
   ]
  },
  {
   "cell_type": "markdown",
   "id": "9f926c26",
   "metadata": {},
   "source": [
    "## To deal with memory issues:\n",
    "* In a terminal on VDI (either over VNC or through SSH and inside screen/tmux), run:\n",
    "`dask-scheduler`\n",
    "* This should output the scheduler address, like `tcp://10.6.1.23:8786`. \n",
    "* Now, in another terminal (ensuring that the default conda module has cosima_cookbook installed, as all workers will need access to that), run:\n",
    "`dask-worker tcp://10.6.1.23:8786 --local-directory /local/g40/aek156`\n",
    "* Then, make sure the following cell matches the scheduler address."
   ]
  },
  {
   "cell_type": "code",
   "execution_count": 3,
   "id": "8d321c2b",
   "metadata": {},
   "outputs": [
    {
     "data": {
      "text/html": [
       "<table style=\"border: 2px solid white;\">\n",
       "<tr>\n",
       "<td style=\"vertical-align: top; border: 0px solid white\">\n",
       "<h3>Client</h3>\n",
       "<ul>\n",
       "  <li><b>Scheduler: </b>tcp://10.0.64.16:8786\n",
       "  <li><b>Dashboard: </b><a href='http://10.0.64.16:8787/status' target='_blank'>http://10.0.64.16:8787/status</a>\n",
       "</ul>\n",
       "</td>\n",
       "<td style=\"vertical-align: top; border: 0px solid white\">\n",
       "<h3>Cluster</h3>\n",
       "<ul>\n",
       "  <li><b>Workers: </b>6</li>\n",
       "  <li><b>Cores: </b>6</li>\n",
       "  <li><b>Memory: </b>24.00 GB</li>\n",
       "</ul>\n",
       "</td>\n",
       "</tr>\n",
       "</table>"
      ],
      "text/plain": [
       "<Client: scheduler='tcp://10.0.64.16:8786' processes=6 cores=6>"
      ]
     },
     "execution_count": 3,
     "metadata": {},
     "output_type": "execute_result"
    }
   ],
   "source": [
    "client = Client(\"tcp://10.6.1.23:8786\")\n",
    "client"
   ]
  },
  {
   "cell_type": "code",
   "execution_count": null,
   "id": "4118b5f0",
   "metadata": {},
   "outputs": [],
   "source": [
    "session = cc.database.create_session()"
   ]
  },
  {
   "cell_type": "code",
   "execution_count": 7,
   "id": "3407d9c3",
   "metadata": {},
   "outputs": [
    {
     "name": "stdout",
     "output_type": "stream",
     "text": [
      "CPU times: user 43 s, sys: 29.7 s, total: 1min 12s\n",
      "Wall time: 1min 37s\n"
     ]
    }
   ],
   "source": [
    "%%time\n",
    "ekey='1deg'\n",
    "expt = exptdata.exptdict[ekey]['expt']\n",
    "n_files = exptdata.exptdict[ekey]['n_files']\n",
    "time_units = exptdata.exptdict[ekey]['time_units']\n",
    "offset = exptdata.exptdict[ekey]['offset']\n",
    "\n",
    "\n",
    "darray = cc.querying.getvar(session=session, expt=expt, variable='temp', chunks={'st_ocean': None}, n=n_files)\n",
    "if offset:\n",
    "    td = pd.Timedelta(days=offset)\n",
    "    darray = darray.assign_coords(time=darray.time + td)\n",
    "temp = darray\n",
    "\n",
    "## This is the correct way to do this plot, but I don't have the right WOA13 data for now, \n",
    "# so am creating an alternative way for 1° output \n",
    "darray = cc.querying.getvar(session=session, expt='woa13/10_KDS50', variable='temp')\n",
    "temp_WOA13 = darray.mean('time')\n",
    "\n",
    "# hacky renaming of variables so we can use as a dask array -- there's probably an elegant way to do this\n",
    "temp_WOA13 = temp_WOA13.rename({'GRID_Y_T': 'yt_ocean', 'GRID_X_T': 'xt_ocean', 'ZT': 'st_ocean'})\n",
    "temp_WOA13['st_ocean'] = temp.st_ocean\n",
    "temp_WOA13['xt_ocean'] = temp.xt_ocean\n",
    "temp_WOA13['yt_ocean'] = temp.yt_ocean\n",
    "temp_WOA13 = temp_WOA13.astype(np.float32)\n",
    "\n",
    "temp_anom = temp - temp_WOA13 - 273.15\n",
    "\n",
    "darray = cc.querying.getvar(session=session, expt=expt, variable='area_t', n=1)\n",
    "area_t = darray\n",
    "mask = temp.isel(time=0).copy()\n",
    "mask = mask/mask                 ## This seems pretty dodgy to me, but it works!!\n",
    "area = mask*area_t\n",
    "area_sum = area.sum(['yt_ocean', 'xt_ocean']).load()\n",
    "\n",
    "var =area_t*temp_anom\n",
    "temp_hov = var.sum(['yt_ocean', 'xt_ocean']).load()\n",
    "temp_hov_1deg = temp_hov/area_sum\n",
    "\n",
    "IPython.display.clear_output()\n",
    "temp_hov_1deg"
   ]
  },
  {
   "cell_type": "code",
   "execution_count": 5,
   "id": "14644f2a",
   "metadata": {
    "scrolled": false
   },
   "outputs": [
    {
     "name": "stdout",
     "output_type": "stream",
     "text": [
      "CPU times: user 1min 28s, sys: 34.2 s, total: 2min 2s\n",
      "Wall time: 5min 33s\n"
     ]
    }
   ],
   "source": [
    "%%time\n",
    "ekey='025deg'\n",
    "expt = exptdata.exptdict[ekey]['expt']\n",
    "n_files = exptdata.exptdict[ekey]['n_files']\n",
    "time_units = exptdata.exptdict[ekey]['time_units']\n",
    "offset = exptdata.exptdict[ekey]['offset']\n",
    "darray = cc.querying.getvar(session=session, expt=expt, variable='temp', chunks={'st_ocean': None}, n=n_files)\n",
    "if offset:\n",
    "    td = pd.Timedelta(days=offset)\n",
    "    darray = darray.assign_coords(time=darray.time + td)\n",
    "temp = darray\n",
    "darray = cc.querying.getvar(session=session, expt='woa13/025_KDS50', variable='temp')\n",
    "temp_WOA13 = darray.mean('time')\n",
    "# hacky renaming of variables so we can use as a dask array -- there's probably an elegant way to do this\n",
    "temp_WOA13 = temp_WOA13.rename({'GRID_Y_T': 'yt_ocean', 'GRID_X_T': 'xt_ocean', 'ZT': 'st_ocean'})\n",
    "temp_WOA13['st_ocean'] = temp.st_ocean\n",
    "temp_WOA13['xt_ocean'] = temp.xt_ocean\n",
    "temp_WOA13['yt_ocean'] = temp.yt_ocean\n",
    "\n",
    "temp_WOA13 = temp_WOA13.astype(np.float32)\n",
    "\n",
    "temp_anom = temp - temp_WOA13 - 273.15\n",
    "\n",
    "darray = cc.querying.getvar(session=session, expt=expt, variable='area_t', n=1)\n",
    "area_t = darray\n",
    "mask = temp.isel(time=0).copy()\n",
    "mask = mask/mask                 ## This seems pretty dodgy to me, but it works!!\n",
    "area = mask*area_t\n",
    "area_sum = area.sum(['yt_ocean', 'xt_ocean']).load()\n",
    "\n",
    "var =area_t*temp_anom\n",
    "temp_hov = var.sum(['yt_ocean', 'xt_ocean']).load()\n",
    "temp_hov_025deg = temp_hov/area_sum\n",
    "\n",
    "IPython.display.clear_output()"
   ]
  },
  {
   "cell_type": "code",
   "execution_count": 4,
   "id": "75afe48e",
   "metadata": {},
   "outputs": [
    {
     "name": "stdout",
     "output_type": "stream",
     "text": [
      "Using database sqlite:////g/data3/hh5/tmp/cosima/cosima-cookbook/cosima-cookbook.db\n",
      "<xarray.DataArray 'temp' (time: 396, st_ocean: 75, yt_ocean: 2700, xt_ocean: 3600)>\n",
      "dask.array<shape=(396, 75, 2700, 3600), dtype=float32, chunksize=(1, 75, 300, 400)>\n",
      "Coordinates:\n",
      "  * xt_ocean  (xt_ocean) float64 -279.9 -279.8 -279.7 ... 79.75 79.85 79.95\n",
      "  * st_ocean  (st_ocean) float64 0.5413 1.681 2.94 ... 5.511e+03 5.709e+03\n",
      "  * yt_ocean  (yt_ocean) float64 -81.11 -81.07 -81.02 ... 89.89 89.94 89.98\n",
      "  * time      (time) datetime64[ns] 1985-01-14T12:00:00 ... 2017-12-14T12:00:00\n",
      "Attributes:\n",
      "    long_name:      Potential temperature\n",
      "    units:          degrees K\n",
      "    valid_range:    [-10. 500.]\n",
      "    cell_methods:   time: mean\n",
      "    time_avg_info:  average_T1,average_T2,average_DT\n",
      "    coordinates:    geolon_t geolat_t\n",
      "    standard_name:  sea_water_potential_temperature\n",
      "CPU times: user 15.4 s, sys: 9.28 s, total: 24.7 s\n",
      "Wall time: 34.7 s\n"
     ]
    }
   ],
   "source": [
    "%%time\n",
    "ekey='01deg'\n",
    "chunks={'st_ocean':None, 'xt_ocean': 400, 'yt_ocean': 300}\n",
    "\n",
    "expt = exptdata.exptdict[ekey]['expt']\n",
    "n_files = exptdata.exptdict[ekey]['n_files']\n",
    "time_units = exptdata.exptdict[ekey]['time_units']\n",
    "offset = exptdata.exptdict[ekey]['offset']\n",
    "\n",
    "darray = cc.querying.getvar(session=session, expt=expt, variable='temp', chunks=chunks, n=n_files)\n",
    "if offset:\n",
    "    td = pd.Timedelta(days=offset)\n",
    "    darray = darray.assign_coords(time=darray.time + td)\n",
    "temp = darray\n",
    "print(temp)"
   ]
  },
  {
   "cell_type": "code",
   "execution_count": 5,
   "id": "1478c2d0",
   "metadata": {},
   "outputs": [
    {
     "name": "stdout",
     "output_type": "stream",
     "text": [
      "Using database sqlite:////g/data3/hh5/tmp/cosima/cosima-cookbook/cosima-cookbook.db\n",
      "CPU times: user 29 s, sys: 10.4 s, total: 39.4 s\n",
      "Wall time: 7min 8s\n"
     ]
    }
   ],
   "source": [
    "%%time\n",
    "darray = cc.querying.getvar(session=session, expt='woa13/01', variable='temp')\n",
    "temp_WOA13 = darray.mean('time')\n",
    "# hacky renaming of variables so we can use as a dask array -- there's probably an elegant way to do this\n",
    "temp_WOA13 = temp_WOA13.rename({'GRID_Y_T': 'yt_ocean', 'GRID_X_T': 'xt_ocean', 'ZT': 'st_ocean'})\n",
    "temp_WOA13['st_ocean'] = temp.st_ocean\n",
    "temp_WOA13['xt_ocean'] = temp.xt_ocean\n",
    "temp_WOA13['yt_ocean'] = temp.yt_ocean\n",
    "\n",
    "# force calculation and save to disk -- we could probably skip the .load() and write directly\n",
    "temp_WOA13.to_netcdf('/local/g40/amh157/woa13.nc')"
   ]
  },
  {
   "cell_type": "code",
   "execution_count": 6,
   "id": "64e6b3ab",
   "metadata": {},
   "outputs": [
    {
     "name": "stdout",
     "output_type": "stream",
     "text": [
      "<xarray.DataArray 'temp' (time: 396, st_ocean: 75, yt_ocean: 2700, xt_ocean: 3600)>\n",
      "dask.array<shape=(396, 75, 2700, 3600), dtype=float32, chunksize=(1, 75, 300, 400)>\n",
      "Coordinates:\n",
      "  * xt_ocean  (xt_ocean) float64 -279.9 -279.8 -279.7 ... 79.75 79.85 79.95\n",
      "  * st_ocean  (st_ocean) float64 0.5413 1.681 2.94 ... 5.511e+03 5.709e+03\n",
      "  * yt_ocean  (yt_ocean) float64 -81.11 -81.07 -81.02 ... 89.89 89.94 89.98\n",
      "  * time      (time) datetime64[ns] 1985-01-14T12:00:00 ... 2017-12-14T12:00:00\n",
      "CPU times: user 48 ms, sys: 25 ms, total: 73 ms\n",
      "Wall time: 135 ms\n"
     ]
    }
   ],
   "source": [
    "%%time\n",
    "# rechunk to match ocean.nc data\n",
    "temp_WOA13 = xr.open_dataset('/local/g40/amh157/woa13.nc', chunks=chunks).temp\n",
    "temp_WOA13 = temp_WOA13.astype(np.float32)\n",
    "\n",
    "temp_anom = temp - temp_WOA13 - 273.15\n",
    "print(temp_anom)"
   ]
  },
  {
   "cell_type": "code",
   "execution_count": 7,
   "id": "57ae7353",
   "metadata": {},
   "outputs": [
    {
     "name": "stdout",
     "output_type": "stream",
     "text": [
      "Using database sqlite:////g/data3/hh5/tmp/cosima/cosima-cookbook/cosima-cookbook.db\n",
      "CPU times: user 15.1 s, sys: 9.2 s, total: 24.3 s\n",
      "Wall time: 33.6 s\n"
     ]
    }
   ],
   "source": [
    "%%time\n",
    "darray = cc.querying.getvar(session=session, expt=expt, variable='area_t', n=1, chunks={'xt_ocean': 400, 'yt_ocean': 300})\n",
    "area_t = darray\n",
    "mask = temp.isel(time=0).copy()\n",
    "mask = mask/mask                 ## This seems pretty dodgy to me, but it works!!\n",
    "area = mask*area_t\n",
    "area_sum = area.sum(['yt_ocean', 'xt_ocean']).load()"
   ]
  },
  {
   "cell_type": "code",
   "execution_count": 8,
   "id": "83068220",
   "metadata": {
    "scrolled": true
   },
   "outputs": [
    {
     "name": "stdout",
     "output_type": "stream",
     "text": [
      "CPU times: user 469 ms, sys: 4 ms, total: 473 ms\n",
      "Wall time: 470 ms\n"
     ]
    }
   ],
   "source": [
    "%%time\n",
    "var =area_t*temp_anom\n",
    "temp_hov = var.sum(['yt_ocean', 'xt_ocean'])"
   ]
  },
  {
   "cell_type": "code",
   "execution_count": 9,
   "id": "726fb58b",
   "metadata": {},
   "outputs": [
    {
     "data": {
      "application/vnd.jupyter.widget-view+json": {
       "model_id": "8c7908c9e0584936b8399f2597c29094",
       "version_major": 2,
       "version_minor": 0
      },
      "text/plain": [
       "VBox()"
      ]
     },
     "metadata": {},
     "output_type": "display_data"
    }
   ],
   "source": [
    "# This bit not working for me any longer?\n",
    "#x=temp_hov.persist()\n",
    "#progress(x)"
   ]
  },
  {
   "cell_type": "code",
   "execution_count": 9,
   "id": "a7c9e87c",
   "metadata": {},
   "outputs": [
    {
     "name": "stdout",
     "output_type": "stream",
     "text": [
      "CPU times: user 2min 58s, sys: 21.8 s, total: 3min 19s\n",
      "Wall time: 19h 59min 25s\n"
     ]
    }
   ],
   "source": [
    "%%time\n",
    "temp_hov_01deg = temp_hov/area_sum\n",
    "temp_hov_01deg.load()"
   ]
  },
  {
   "cell_type": "code",
   "execution_count": 8,
   "id": "d3bb11ef",
   "metadata": {
    "scrolled": false
   },
   "outputs": [
    {
     "name": "stdout",
     "output_type": "stream",
     "text": [
      "CPU times: user 11 ms, sys: 2 ms, total: 13 ms\n",
      "Wall time: 10.2 ms\n"
     ]
    }
   ],
   "source": [
    "%%time\n",
    "#temp_hov.to_netcdf('/local/g40/amh157/temp_hov.nc')\n",
    "#temp_hov_01deg.to_netcdf('/local/g40/amh157/temp_hov_01deg.nc')\n",
    "temp_hov_01deg = xr.open_dataarray('/local/g40/amh157/temp_hov_01deg.nc')"
   ]
  },
  {
   "cell_type": "code",
   "execution_count": 9,
   "id": "4121ff09",
   "metadata": {},
   "outputs": [
    {
     "data": {
      "image/png": "[encoded data removed]",
      "text/plain": [
       "<Figure size 1008x432 with 7 Axes>"
      ]
     },
     "metadata": {
      "needs_background": "light"
     },
     "output_type": "display_data"
    }
   ],
   "source": [
    "fig,ax = plt.subplots(2,3,sharex=True,figsize=(14,6))\n",
    "plt.subplots_adjust(hspace=0)\n",
    "levs = np.arange(-1.0,1.0001,0.05)\n",
    "\n",
    "# 1deg\n",
    "t_up = temp_hov_1deg.sel(st_ocean=slice(0,1000))\n",
    "t_lo = temp_hov_1deg.sel(st_ocean=slice(1000,6000))\n",
    "\n",
    "axx=ax[0,0]\n",
    "t_up.T.plot.contourf(ax=axx,levels=levs,cmap = cm.cm.balance,yincrease=False,add_colorbar=False)\n",
    "axx.set_ylabel('')\n",
    "axx.set_title('(a) ACCESS-OM2')\n",
    "axx=ax[1,0]\n",
    "p1=t_lo.T.plot.contourf(ax=axx,levels=levs,cmap = cm.cm.balance,yincrease=False,add_colorbar=False)\n",
    "axx.set_ylabel('Depth (m)')\n",
    "axx.set_xlabel('Year')\n",
    "\n",
    "# 025deg\n",
    "t_up = temp_hov_025deg.sel(st_ocean=slice(0,1000))\n",
    "t_lo = temp_hov_025deg.sel(st_ocean=slice(1000,6000))\n",
    "\n",
    "axx=ax[0,1]\n",
    "t_up.T.plot.contourf(ax=axx,levels=levs,cmap = cm.cm.balance,yincrease=False,add_colorbar=False)\n",
    "axx.set_ylabel('')\n",
    "axx.set_xlabel('')\n",
    "axx.set_title('(b) ACCESS-OM2-025')\n",
    "plt.xlim([pd.datetime(1958,1,1),pd.datetime(2017,12,31)])\n",
    "axx=ax[1,1]\n",
    "p1=t_lo.T.plot.contourf(ax=axx,levels=levs,cmap = cm.cm.balance,yincrease=False,add_colorbar=False)\n",
    "axx.set_ylabel('')\n",
    "axx.set_xlabel('Year')\n",
    "plt.xlim([pd.datetime(1958,1,1),pd.datetime(2017,12,31)])\n",
    "\n",
    "# 01deg\n",
    "t_up = temp_hov_01deg.sel(st_ocean=slice(0,1000))\n",
    "t_lo = temp_hov_01deg.sel(st_ocean=slice(1000,6000))\n",
    "\n",
    "axx=ax[0,2]\n",
    "t_up.T.plot.contourf(ax=axx,levels=levs,cmap = cm.cm.balance,yincrease=False,add_colorbar=False)\n",
    "axx.set_ylabel('')\n",
    "axx.set_xlabel('')\n",
    "plt.xlim([pd.datetime(1958,1,1),pd.datetime(2017,12,31)])\n",
    "axx.set_title('(c) ACCESS-OM2-01')\n",
    "axx=ax[1,2]\n",
    "p1=t_lo.T.plot.contourf(ax=axx,levels=levs,cmap = cm.cm.balance,yincrease=False,add_colorbar=False)\n",
    "axx.set_ylabel('')\n",
    "axx.set_xlabel('Year')\n",
    "plt.xlim([pd.datetime(1958,1,1),pd.datetime(2017,12,31)])\n",
    "\n",
    "ax1 = plt.axes([0.92,0.25,0.015,0.5])\n",
    "cb = plt.colorbar(p1,cax=ax1,orientation='vertical')\n",
    "ax1.xaxis.set_label_position(\"top\")\n",
    "cb.ax.set_xlabel('°C')\n",
    "\n",
    "savefigure('tz_hovmoller')"
   ]
  },
  {
   "cell_type": "code",
   "execution_count": null,
   "id": "fea48b7f",
   "metadata": {},
   "outputs": [],
   "source": []
  }
 ],
 "metadata": {
  "kernelspec": {
   "display_name": "Python [conda env:analysis3-19.01]",
   "language": "python",
   "name": "conda-env-analysis3-19.01-py"
  },
  "language_info": {
   "codemirror_mode": {
    "name": "ipython",
    "version": 3
   },
   "file_extension": ".py",
   "mimetype": "text/x-python",
   "name": "python",
   "nbconvert_exporter": "python",
   "pygments_lexer": "ipython3",
   "version": "3.6.7"
  }
 },
 "nbformat": 4,
 "nbformat_minor": 5
}

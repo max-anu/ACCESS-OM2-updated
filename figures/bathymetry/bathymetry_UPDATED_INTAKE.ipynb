{
 "cells": [
  {
   "cell_type": "code",
   "execution_count": 1,
   "id": "3eea5664",
   "metadata": {},
   "outputs": [
    {
     "name": "stdout",
     "output_type": "stream",
     "text": [
      "Available exptdata keys:  ['1deg', '025deg', '01deg']\n"
     ]
    }
   ],
   "source": [
    "%matplotlib inline\n",
    "\n",
    "import pandas as pd\n",
    "import intake\n",
    "catalog = intake.cat.access_nri\n",
    "import matplotlib.pyplot as plt\n",
    "import numpy as np\n",
    "from matplotlib import cm\n",
    "from mpl_toolkits.basemap import Basemap # plot on map projections\n",
    "import netCDF4 as nc\n",
    "import IPython.display\n",
    "import cmocean\n",
    "from glob import glob\n",
    "import os,sys\n",
    "import yaml\n",
    "import math\n",
    "import xarray as xr\n",
    "import copy\n",
    "\n",
    "\n",
    "os.chdir(os.path.join(os.getcwd(), \"ACCESS-OM2-updated/figures/bathymetry\"))\n",
    "sys.path.append(os.path.join(os.getcwd(), '..'))  # so we can import ../exptdata\n",
    "import exptdata\n",
    "print('Available exptdata keys: ', [k for k in exptdata.exptdict.keys()])"
   ]
  },
  {
   "cell_type": "code",
   "execution_count": 2,
   "id": "f3aa99be",
   "metadata": {},
   "outputs": [],
   "source": [
    "figdir = ''\n",
    "def savefigure(fname):\n",
    "    plt.savefig(os.path.join(figdir, fname),dpi=300, bbox_inches=\"tight\")  # comment out to disable saving\n",
    "#     plt.savefig(os.path.join(figdir, fname+'.pdf'),dpi=300, bbox_inches=\"tight\")  # comment out to disable saving\n",
    "    return\n",
    "fileprefix = ''"
   ]
  },
  {
   "cell_type": "code",
   "execution_count": 3,
   "id": "2b960927",
   "metadata": {},
   "outputs": [],
   "source": [
    "data = copy.deepcopy(exptdata.exptdict)  # to store fields under the same keys as exptdata.exptdict\n",
    "\n",
    "# inputs used for final runs, copied from /short/public\n",
    "data['1deg']['mominput'] = 'access-om2/input_236a3011/mom_1deg'\n",
    "data['025deg']['mominput'] = 'access-om2/input_236a3011/mom_025deg'\n",
    "data['01deg']['mominput'] = 'access-om2/input_38570c62/mom_01deg'"
   ]
  },
  {
   "cell_type": "code",
   "execution_count": null,
   "id": "4595423b-26ba-43df-b99c-ca795da1ed69",
   "metadata": {},
   "outputs": [],
   "source": [
    "# add new ryf run\n",
    "data['01deg_jra55v13_ryf9091'] = \\\n",
    "              {'model': 'access-om2-01',\n",
    "               'expt': '01deg_jra55v13_ryf9091/',\n",
    "               'desc': 'ACCESS-OM2-01 RYF 1990-91',\n",
    "               'n_files': None,\n",
    "#                'time_units': 'days since 0001-01-01',\n",
    "               'time_units': 'days since 1988-01-01', # so .sel(time=slice(pd.Timestamp(1998,1,1),None)) removes first 10 years\n",
    "               'offset': None,\n",
    "               'exptdir': '/g/data3/hh5/tmp/cosima/access-om2-01/01deg_jra55v13_ryf9091/',\n",
    "               'mominput': 'access-om2/input_08022019/mom_01deg'}\n",
    "fileprefix = 'new_'"
   ]
  },
  {
   "cell_type": "code",
   "execution_count": null,
   "id": "f311b198-ad0e-40b1-861f-606b78943a50",
   "metadata": {},
   "outputs": [],
   "source": [
    "# add new ryf run\n",
    "data['01deg_jra55v13_ryf9091_topo_bug_test'] = \\\n",
    "              {'model': 'access-om2-01',\n",
    "               'expt': '01deg_jra55v13_ryf9091_topo_bug_test/',\n",
    "               'desc': 'ACCESS-OM2-01 RYF 1990-91 topo bug test',\n",
    "               'n_files': None,\n",
    "#                'time_units': 'days since 0001-01-01',\n",
    "               'time_units': 'days since 1988-01-01', # so .sel(time=slice(pd.Timestamp(1998,1,1),None)) removes first 10 years\n",
    "               'offset': None,\n",
    "               'exptdir': '/g/data3/hh5/tmp/cosima/access-om2-01/01deg_jra55v13_ryf9091_topo_bug_test/',\n",
    "               'mominput': 'access-om2/input_08022019/mom_01deg'}\n",
    "fileprefix = 'new_'"
   ]
  },
  {
   "cell_type": "code",
   "execution_count": 4,
   "id": "60942567",
   "metadata": {},
   "outputs": [
    {
     "name": "stdout",
     "output_type": "stream",
     "text": [
      "1deg /g/data/hh5/tmp/cosima/access-om2/1deg_jra55v13_iaf_spinup1_B1/output059\n"
     ]
    },
    {
     "ename": "FileNotFoundError",
     "evalue": "[Errno 2] No such file or directory: b'/home/198/mp7041/ACCESS-OM2-updated/figures/bathymetry/access-om2/input_236a3011/mom_1deg/topog.nc'",
     "output_type": "error",
     "traceback": [
      "\u001b[0;31m---------------------------------------------------------------------------\u001b[0m",
      "\u001b[0;31mKeyError\u001b[0m                                  Traceback (most recent call last)",
      "File \u001b[0;32m/g/data/hh5/public/apps/miniconda3/envs/analysis3-23.07/lib/python3.10/site-packages/xarray/backends/file_manager.py:211\u001b[0m, in \u001b[0;36mCachingFileManager._acquire_with_cache_info\u001b[0;34m(self, needs_lock)\u001b[0m\n\u001b[1;32m    210\u001b[0m \u001b[38;5;28;01mtry\u001b[39;00m:\n\u001b[0;32m--> 211\u001b[0m     file \u001b[38;5;241m=\u001b[39m \u001b[38;5;28;43mself\u001b[39;49m\u001b[38;5;241;43m.\u001b[39;49m\u001b[43m_cache\u001b[49m\u001b[43m[\u001b[49m\u001b[38;5;28;43mself\u001b[39;49m\u001b[38;5;241;43m.\u001b[39;49m\u001b[43m_key\u001b[49m\u001b[43m]\u001b[49m\n\u001b[1;32m    212\u001b[0m \u001b[38;5;28;01mexcept\u001b[39;00m \u001b[38;5;167;01mKeyError\u001b[39;00m:\n",
      "File \u001b[0;32m/g/data/hh5/public/apps/miniconda3/envs/analysis3-23.07/lib/python3.10/site-packages/xarray/backends/lru_cache.py:56\u001b[0m, in \u001b[0;36mLRUCache.__getitem__\u001b[0;34m(self, key)\u001b[0m\n\u001b[1;32m     55\u001b[0m \u001b[38;5;28;01mwith\u001b[39;00m \u001b[38;5;28mself\u001b[39m\u001b[38;5;241m.\u001b[39m_lock:\n\u001b[0;32m---> 56\u001b[0m     value \u001b[38;5;241m=\u001b[39m \u001b[38;5;28;43mself\u001b[39;49m\u001b[38;5;241;43m.\u001b[39;49m\u001b[43m_cache\u001b[49m\u001b[43m[\u001b[49m\u001b[43mkey\u001b[49m\u001b[43m]\u001b[49m\n\u001b[1;32m     57\u001b[0m     \u001b[38;5;28mself\u001b[39m\u001b[38;5;241m.\u001b[39m_cache\u001b[38;5;241m.\u001b[39mmove_to_end(key)\n",
      "\u001b[0;31mKeyError\u001b[0m: [<class 'netCDF4._netCDF4.Dataset'>, ('/home/198/mp7041/ACCESS-OM2-updated/figures/bathymetry/access-om2/input_236a3011/mom_1deg/topog.nc',), 'r', (('clobber', True), ('diskless', False), ('format', 'NETCDF4'), ('persist', False)), '6d17db02-b133-42d4-9683-f274c14fe990']",
      "\nDuring handling of the above exception, another exception occurred:\n",
      "\u001b[0;31mFileNotFoundError\u001b[0m                         Traceback (most recent call last)",
      "Cell \u001b[0;32mIn[4], line 9\u001b[0m\n\u001b[1;32m      7\u001b[0m e[\u001b[38;5;124m'\u001b[39m\u001b[38;5;124mst_edges_ocean\u001b[39m\u001b[38;5;124m'\u001b[39m] \u001b[38;5;241m=\u001b[39m xr\u001b[38;5;241m.\u001b[39mopen_dataset(e[\u001b[38;5;124m'\u001b[39m\u001b[38;5;124mlastout\u001b[39m\u001b[38;5;124m'\u001b[39m]\u001b[38;5;241m+\u001b[39m\u001b[38;5;124m'\u001b[39m\u001b[38;5;124m/ocean/ocean.nc\u001b[39m\u001b[38;5;124m'\u001b[39m)\u001b[38;5;241m.\u001b[39mst_edges_ocean\u001b[38;5;66;03m#.values\u001b[39;00m\n\u001b[1;32m      8\u001b[0m e[\u001b[38;5;124m'\u001b[39m\u001b[38;5;124mkmt\u001b[39m\u001b[38;5;124m'\u001b[39m] \u001b[38;5;241m=\u001b[39m xr\u001b[38;5;241m.\u001b[39mopen_dataset(e[\u001b[38;5;124m'\u001b[39m\u001b[38;5;124mlastout\u001b[39m\u001b[38;5;124m'\u001b[39m]\u001b[38;5;241m+\u001b[39m\u001b[38;5;124m'\u001b[39m\u001b[38;5;124m/ocean/ocean_grid.nc\u001b[39m\u001b[38;5;124m'\u001b[39m)\u001b[38;5;241m.\u001b[39mkmt \u001b[38;5;66;03m#.values\u001b[39;00m\n\u001b[0;32m----> 9\u001b[0m e[\u001b[38;5;124m'\u001b[39m\u001b[38;5;124mdepth\u001b[39m\u001b[38;5;124m'\u001b[39m] \u001b[38;5;241m=\u001b[39m \u001b[43mxr\u001b[49m\u001b[38;5;241;43m.\u001b[39;49m\u001b[43mopen_dataset\u001b[49m\u001b[43m(\u001b[49m\u001b[43me\u001b[49m\u001b[43m[\u001b[49m\u001b[38;5;124;43m'\u001b[39;49m\u001b[38;5;124;43mmominput\u001b[39;49m\u001b[38;5;124;43m'\u001b[39;49m\u001b[43m]\u001b[49m\u001b[38;5;241;43m+\u001b[39;49m\u001b[38;5;124;43m'\u001b[39;49m\u001b[38;5;124;43m/topog.nc\u001b[39;49m\u001b[38;5;124;43m'\u001b[39;49m\u001b[43m)\u001b[49m\u001b[38;5;241m.\u001b[39mdepth  \u001b[38;5;66;03m# partial depth\u001b[39;00m\n\u001b[1;32m     10\u001b[0m kmt_idx \u001b[38;5;241m=\u001b[39m e[\u001b[38;5;124m'\u001b[39m\u001b[38;5;124mkmt\u001b[39m\u001b[38;5;124m'\u001b[39m]\u001b[38;5;241m.\u001b[39mastype(np\u001b[38;5;241m.\u001b[39mint64)\u001b[38;5;241m.\u001b[39mclip(\u001b[38;5;28mmin\u001b[39m\u001b[38;5;241m=\u001b[39m\u001b[38;5;241m0\u001b[39m)\n\u001b[1;32m     11\u001b[0m tmp \u001b[38;5;241m=\u001b[39m e[\u001b[38;5;124m'\u001b[39m\u001b[38;5;124mst_edges_ocean\u001b[39m\u001b[38;5;124m'\u001b[39m][kmt_idx]  \u001b[38;5;66;03m# full depth, land is zero\u001b[39;00m\n",
      "File \u001b[0;32m/g/data/hh5/public/apps/miniconda3/envs/analysis3-23.07/lib/python3.10/site-packages/xarray/backends/api.py:573\u001b[0m, in \u001b[0;36mopen_dataset\u001b[0;34m(filename_or_obj, engine, chunks, cache, decode_cf, mask_and_scale, decode_times, decode_timedelta, use_cftime, concat_characters, decode_coords, drop_variables, inline_array, chunked_array_type, from_array_kwargs, backend_kwargs, **kwargs)\u001b[0m\n\u001b[1;32m    561\u001b[0m decoders \u001b[38;5;241m=\u001b[39m _resolve_decoders_kwargs(\n\u001b[1;32m    562\u001b[0m     decode_cf,\n\u001b[1;32m    563\u001b[0m     open_backend_dataset_parameters\u001b[38;5;241m=\u001b[39mbackend\u001b[38;5;241m.\u001b[39mopen_dataset_parameters,\n\u001b[0;32m   (...)\u001b[0m\n\u001b[1;32m    569\u001b[0m     decode_coords\u001b[38;5;241m=\u001b[39mdecode_coords,\n\u001b[1;32m    570\u001b[0m )\n\u001b[1;32m    572\u001b[0m overwrite_encoded_chunks \u001b[38;5;241m=\u001b[39m kwargs\u001b[38;5;241m.\u001b[39mpop(\u001b[38;5;124m\"\u001b[39m\u001b[38;5;124moverwrite_encoded_chunks\u001b[39m\u001b[38;5;124m\"\u001b[39m, \u001b[38;5;28;01mNone\u001b[39;00m)\n\u001b[0;32m--> 573\u001b[0m backend_ds \u001b[38;5;241m=\u001b[39m \u001b[43mbackend\u001b[49m\u001b[38;5;241;43m.\u001b[39;49m\u001b[43mopen_dataset\u001b[49m\u001b[43m(\u001b[49m\n\u001b[1;32m    574\u001b[0m \u001b[43m    \u001b[49m\u001b[43mfilename_or_obj\u001b[49m\u001b[43m,\u001b[49m\n\u001b[1;32m    575\u001b[0m \u001b[43m    \u001b[49m\u001b[43mdrop_variables\u001b[49m\u001b[38;5;241;43m=\u001b[39;49m\u001b[43mdrop_variables\u001b[49m\u001b[43m,\u001b[49m\n\u001b[1;32m    576\u001b[0m \u001b[43m    \u001b[49m\u001b[38;5;241;43m*\u001b[39;49m\u001b[38;5;241;43m*\u001b[39;49m\u001b[43mdecoders\u001b[49m\u001b[43m,\u001b[49m\n\u001b[1;32m    577\u001b[0m \u001b[43m    \u001b[49m\u001b[38;5;241;43m*\u001b[39;49m\u001b[38;5;241;43m*\u001b[39;49m\u001b[43mkwargs\u001b[49m\u001b[43m,\u001b[49m\n\u001b[1;32m    578\u001b[0m \u001b[43m\u001b[49m\u001b[43m)\u001b[49m\n\u001b[1;32m    579\u001b[0m ds \u001b[38;5;241m=\u001b[39m _dataset_from_backend_dataset(\n\u001b[1;32m    580\u001b[0m     backend_ds,\n\u001b[1;32m    581\u001b[0m     filename_or_obj,\n\u001b[0;32m   (...)\u001b[0m\n\u001b[1;32m    591\u001b[0m     \u001b[38;5;241m*\u001b[39m\u001b[38;5;241m*\u001b[39mkwargs,\n\u001b[1;32m    592\u001b[0m )\n\u001b[1;32m    593\u001b[0m \u001b[38;5;28;01mreturn\u001b[39;00m ds\n",
      "File \u001b[0;32m/g/data/hh5/public/apps/miniconda3/envs/analysis3-23.07/lib/python3.10/site-packages/xarray/backends/netCDF4_.py:603\u001b[0m, in \u001b[0;36mNetCDF4BackendEntrypoint.open_dataset\u001b[0;34m(self, filename_or_obj, mask_and_scale, decode_times, concat_characters, decode_coords, drop_variables, use_cftime, decode_timedelta, group, mode, format, clobber, diskless, persist, lock, autoclose)\u001b[0m\n\u001b[1;32m    582\u001b[0m \u001b[38;5;28;01mdef\u001b[39;00m \u001b[38;5;21mopen_dataset\u001b[39m(  \u001b[38;5;66;03m# type: ignore[override]  # allow LSP violation, not supporting **kwargs\u001b[39;00m\n\u001b[1;32m    583\u001b[0m     \u001b[38;5;28mself\u001b[39m,\n\u001b[1;32m    584\u001b[0m     filename_or_obj: \u001b[38;5;28mstr\u001b[39m \u001b[38;5;241m|\u001b[39m os\u001b[38;5;241m.\u001b[39mPathLike[Any] \u001b[38;5;241m|\u001b[39m BufferedIOBase \u001b[38;5;241m|\u001b[39m AbstractDataStore,\n\u001b[0;32m   (...)\u001b[0m\n\u001b[1;32m    600\u001b[0m     autoclose\u001b[38;5;241m=\u001b[39m\u001b[38;5;28;01mFalse\u001b[39;00m,\n\u001b[1;32m    601\u001b[0m ) \u001b[38;5;241m-\u001b[39m\u001b[38;5;241m>\u001b[39m Dataset:\n\u001b[1;32m    602\u001b[0m     filename_or_obj \u001b[38;5;241m=\u001b[39m _normalize_path(filename_or_obj)\n\u001b[0;32m--> 603\u001b[0m     store \u001b[38;5;241m=\u001b[39m \u001b[43mNetCDF4DataStore\u001b[49m\u001b[38;5;241;43m.\u001b[39;49m\u001b[43mopen\u001b[49m\u001b[43m(\u001b[49m\n\u001b[1;32m    604\u001b[0m \u001b[43m        \u001b[49m\u001b[43mfilename_or_obj\u001b[49m\u001b[43m,\u001b[49m\n\u001b[1;32m    605\u001b[0m \u001b[43m        \u001b[49m\u001b[43mmode\u001b[49m\u001b[38;5;241;43m=\u001b[39;49m\u001b[43mmode\u001b[49m\u001b[43m,\u001b[49m\n\u001b[1;32m    606\u001b[0m \u001b[43m        \u001b[49m\u001b[38;5;28;43mformat\u001b[39;49m\u001b[38;5;241;43m=\u001b[39;49m\u001b[38;5;28;43mformat\u001b[39;49m\u001b[43m,\u001b[49m\n\u001b[1;32m    607\u001b[0m \u001b[43m        \u001b[49m\u001b[43mgroup\u001b[49m\u001b[38;5;241;43m=\u001b[39;49m\u001b[43mgroup\u001b[49m\u001b[43m,\u001b[49m\n\u001b[1;32m    608\u001b[0m \u001b[43m        \u001b[49m\u001b[43mclobber\u001b[49m\u001b[38;5;241;43m=\u001b[39;49m\u001b[43mclobber\u001b[49m\u001b[43m,\u001b[49m\n\u001b[1;32m    609\u001b[0m \u001b[43m        \u001b[49m\u001b[43mdiskless\u001b[49m\u001b[38;5;241;43m=\u001b[39;49m\u001b[43mdiskless\u001b[49m\u001b[43m,\u001b[49m\n\u001b[1;32m    610\u001b[0m \u001b[43m        \u001b[49m\u001b[43mpersist\u001b[49m\u001b[38;5;241;43m=\u001b[39;49m\u001b[43mpersist\u001b[49m\u001b[43m,\u001b[49m\n\u001b[1;32m    611\u001b[0m \u001b[43m        \u001b[49m\u001b[43mlock\u001b[49m\u001b[38;5;241;43m=\u001b[39;49m\u001b[43mlock\u001b[49m\u001b[43m,\u001b[49m\n\u001b[1;32m    612\u001b[0m \u001b[43m        \u001b[49m\u001b[43mautoclose\u001b[49m\u001b[38;5;241;43m=\u001b[39;49m\u001b[43mautoclose\u001b[49m\u001b[43m,\u001b[49m\n\u001b[1;32m    613\u001b[0m \u001b[43m    \u001b[49m\u001b[43m)\u001b[49m\n\u001b[1;32m    615\u001b[0m     store_entrypoint \u001b[38;5;241m=\u001b[39m StoreBackendEntrypoint()\n\u001b[1;32m    616\u001b[0m     \u001b[38;5;28;01mwith\u001b[39;00m close_on_error(store):\n",
      "File \u001b[0;32m/g/data/hh5/public/apps/miniconda3/envs/analysis3-23.07/lib/python3.10/site-packages/xarray/backends/netCDF4_.py:400\u001b[0m, in \u001b[0;36mNetCDF4DataStore.open\u001b[0;34m(cls, filename, mode, format, group, clobber, diskless, persist, lock, lock_maker, autoclose)\u001b[0m\n\u001b[1;32m    394\u001b[0m kwargs \u001b[38;5;241m=\u001b[39m \u001b[38;5;28mdict\u001b[39m(\n\u001b[1;32m    395\u001b[0m     clobber\u001b[38;5;241m=\u001b[39mclobber, diskless\u001b[38;5;241m=\u001b[39mdiskless, persist\u001b[38;5;241m=\u001b[39mpersist, \u001b[38;5;28mformat\u001b[39m\u001b[38;5;241m=\u001b[39m\u001b[38;5;28mformat\u001b[39m\n\u001b[1;32m    396\u001b[0m )\n\u001b[1;32m    397\u001b[0m manager \u001b[38;5;241m=\u001b[39m CachingFileManager(\n\u001b[1;32m    398\u001b[0m     netCDF4\u001b[38;5;241m.\u001b[39mDataset, filename, mode\u001b[38;5;241m=\u001b[39mmode, kwargs\u001b[38;5;241m=\u001b[39mkwargs\n\u001b[1;32m    399\u001b[0m )\n\u001b[0;32m--> 400\u001b[0m \u001b[38;5;28;01mreturn\u001b[39;00m \u001b[38;5;28;43mcls\u001b[39;49m\u001b[43m(\u001b[49m\u001b[43mmanager\u001b[49m\u001b[43m,\u001b[49m\u001b[43m \u001b[49m\u001b[43mgroup\u001b[49m\u001b[38;5;241;43m=\u001b[39;49m\u001b[43mgroup\u001b[49m\u001b[43m,\u001b[49m\u001b[43m \u001b[49m\u001b[43mmode\u001b[49m\u001b[38;5;241;43m=\u001b[39;49m\u001b[43mmode\u001b[49m\u001b[43m,\u001b[49m\u001b[43m \u001b[49m\u001b[43mlock\u001b[49m\u001b[38;5;241;43m=\u001b[39;49m\u001b[43mlock\u001b[49m\u001b[43m,\u001b[49m\u001b[43m \u001b[49m\u001b[43mautoclose\u001b[49m\u001b[38;5;241;43m=\u001b[39;49m\u001b[43mautoclose\u001b[49m\u001b[43m)\u001b[49m\n",
      "File \u001b[0;32m/g/data/hh5/public/apps/miniconda3/envs/analysis3-23.07/lib/python3.10/site-packages/xarray/backends/netCDF4_.py:347\u001b[0m, in \u001b[0;36mNetCDF4DataStore.__init__\u001b[0;34m(self, manager, group, mode, lock, autoclose)\u001b[0m\n\u001b[1;32m    345\u001b[0m \u001b[38;5;28mself\u001b[39m\u001b[38;5;241m.\u001b[39m_group \u001b[38;5;241m=\u001b[39m group\n\u001b[1;32m    346\u001b[0m \u001b[38;5;28mself\u001b[39m\u001b[38;5;241m.\u001b[39m_mode \u001b[38;5;241m=\u001b[39m mode\n\u001b[0;32m--> 347\u001b[0m \u001b[38;5;28mself\u001b[39m\u001b[38;5;241m.\u001b[39mformat \u001b[38;5;241m=\u001b[39m \u001b[38;5;28;43mself\u001b[39;49m\u001b[38;5;241;43m.\u001b[39;49m\u001b[43mds\u001b[49m\u001b[38;5;241m.\u001b[39mdata_model\n\u001b[1;32m    348\u001b[0m \u001b[38;5;28mself\u001b[39m\u001b[38;5;241m.\u001b[39m_filename \u001b[38;5;241m=\u001b[39m \u001b[38;5;28mself\u001b[39m\u001b[38;5;241m.\u001b[39mds\u001b[38;5;241m.\u001b[39mfilepath()\n\u001b[1;32m    349\u001b[0m \u001b[38;5;28mself\u001b[39m\u001b[38;5;241m.\u001b[39mis_remote \u001b[38;5;241m=\u001b[39m is_remote_uri(\u001b[38;5;28mself\u001b[39m\u001b[38;5;241m.\u001b[39m_filename)\n",
      "File \u001b[0;32m/g/data/hh5/public/apps/miniconda3/envs/analysis3-23.07/lib/python3.10/site-packages/xarray/backends/netCDF4_.py:409\u001b[0m, in \u001b[0;36mNetCDF4DataStore.ds\u001b[0;34m(self)\u001b[0m\n\u001b[1;32m    407\u001b[0m \u001b[38;5;129m@property\u001b[39m\n\u001b[1;32m    408\u001b[0m \u001b[38;5;28;01mdef\u001b[39;00m \u001b[38;5;21mds\u001b[39m(\u001b[38;5;28mself\u001b[39m):\n\u001b[0;32m--> 409\u001b[0m     \u001b[38;5;28;01mreturn\u001b[39;00m \u001b[38;5;28;43mself\u001b[39;49m\u001b[38;5;241;43m.\u001b[39;49m\u001b[43m_acquire\u001b[49m\u001b[43m(\u001b[49m\u001b[43m)\u001b[49m\n",
      "File \u001b[0;32m/g/data/hh5/public/apps/miniconda3/envs/analysis3-23.07/lib/python3.10/site-packages/xarray/backends/netCDF4_.py:403\u001b[0m, in \u001b[0;36mNetCDF4DataStore._acquire\u001b[0;34m(self, needs_lock)\u001b[0m\n\u001b[1;32m    402\u001b[0m \u001b[38;5;28;01mdef\u001b[39;00m \u001b[38;5;21m_acquire\u001b[39m(\u001b[38;5;28mself\u001b[39m, needs_lock\u001b[38;5;241m=\u001b[39m\u001b[38;5;28;01mTrue\u001b[39;00m):\n\u001b[0;32m--> 403\u001b[0m     \u001b[38;5;28;01mwith\u001b[39;00m \u001b[38;5;28mself\u001b[39m\u001b[38;5;241m.\u001b[39m_manager\u001b[38;5;241m.\u001b[39macquire_context(needs_lock) \u001b[38;5;28;01mas\u001b[39;00m root:\n\u001b[1;32m    404\u001b[0m         ds \u001b[38;5;241m=\u001b[39m _nc4_require_group(root, \u001b[38;5;28mself\u001b[39m\u001b[38;5;241m.\u001b[39m_group, \u001b[38;5;28mself\u001b[39m\u001b[38;5;241m.\u001b[39m_mode)\n\u001b[1;32m    405\u001b[0m     \u001b[38;5;28;01mreturn\u001b[39;00m ds\n",
      "File \u001b[0;32m/g/data/hh5/public/apps/miniconda3/envs/analysis3-23.07/lib/python3.10/contextlib.py:135\u001b[0m, in \u001b[0;36m_GeneratorContextManager.__enter__\u001b[0;34m(self)\u001b[0m\n\u001b[1;32m    133\u001b[0m \u001b[38;5;28;01mdel\u001b[39;00m \u001b[38;5;28mself\u001b[39m\u001b[38;5;241m.\u001b[39margs, \u001b[38;5;28mself\u001b[39m\u001b[38;5;241m.\u001b[39mkwds, \u001b[38;5;28mself\u001b[39m\u001b[38;5;241m.\u001b[39mfunc\n\u001b[1;32m    134\u001b[0m \u001b[38;5;28;01mtry\u001b[39;00m:\n\u001b[0;32m--> 135\u001b[0m     \u001b[38;5;28;01mreturn\u001b[39;00m \u001b[38;5;28;43mnext\u001b[39;49m\u001b[43m(\u001b[49m\u001b[38;5;28;43mself\u001b[39;49m\u001b[38;5;241;43m.\u001b[39;49m\u001b[43mgen\u001b[49m\u001b[43m)\u001b[49m\n\u001b[1;32m    136\u001b[0m \u001b[38;5;28;01mexcept\u001b[39;00m \u001b[38;5;167;01mStopIteration\u001b[39;00m:\n\u001b[1;32m    137\u001b[0m     \u001b[38;5;28;01mraise\u001b[39;00m \u001b[38;5;167;01mRuntimeError\u001b[39;00m(\u001b[38;5;124m\"\u001b[39m\u001b[38;5;124mgenerator didn\u001b[39m\u001b[38;5;124m'\u001b[39m\u001b[38;5;124mt yield\u001b[39m\u001b[38;5;124m\"\u001b[39m) \u001b[38;5;28;01mfrom\u001b[39;00m \u001b[38;5;28;01mNone\u001b[39;00m\n",
      "File \u001b[0;32m/g/data/hh5/public/apps/miniconda3/envs/analysis3-23.07/lib/python3.10/site-packages/xarray/backends/file_manager.py:199\u001b[0m, in \u001b[0;36mCachingFileManager.acquire_context\u001b[0;34m(self, needs_lock)\u001b[0m\n\u001b[1;32m    196\u001b[0m \u001b[38;5;129m@contextlib\u001b[39m\u001b[38;5;241m.\u001b[39mcontextmanager\n\u001b[1;32m    197\u001b[0m \u001b[38;5;28;01mdef\u001b[39;00m \u001b[38;5;21macquire_context\u001b[39m(\u001b[38;5;28mself\u001b[39m, needs_lock\u001b[38;5;241m=\u001b[39m\u001b[38;5;28;01mTrue\u001b[39;00m):\n\u001b[1;32m    198\u001b[0m \u001b[38;5;250m    \u001b[39m\u001b[38;5;124;03m\"\"\"Context manager for acquiring a file.\"\"\"\u001b[39;00m\n\u001b[0;32m--> 199\u001b[0m     file, cached \u001b[38;5;241m=\u001b[39m \u001b[38;5;28;43mself\u001b[39;49m\u001b[38;5;241;43m.\u001b[39;49m\u001b[43m_acquire_with_cache_info\u001b[49m\u001b[43m(\u001b[49m\u001b[43mneeds_lock\u001b[49m\u001b[43m)\u001b[49m\n\u001b[1;32m    200\u001b[0m     \u001b[38;5;28;01mtry\u001b[39;00m:\n\u001b[1;32m    201\u001b[0m         \u001b[38;5;28;01myield\u001b[39;00m file\n",
      "File \u001b[0;32m/g/data/hh5/public/apps/miniconda3/envs/analysis3-23.07/lib/python3.10/site-packages/xarray/backends/file_manager.py:217\u001b[0m, in \u001b[0;36mCachingFileManager._acquire_with_cache_info\u001b[0;34m(self, needs_lock)\u001b[0m\n\u001b[1;32m    215\u001b[0m     kwargs \u001b[38;5;241m=\u001b[39m kwargs\u001b[38;5;241m.\u001b[39mcopy()\n\u001b[1;32m    216\u001b[0m     kwargs[\u001b[38;5;124m\"\u001b[39m\u001b[38;5;124mmode\u001b[39m\u001b[38;5;124m\"\u001b[39m] \u001b[38;5;241m=\u001b[39m \u001b[38;5;28mself\u001b[39m\u001b[38;5;241m.\u001b[39m_mode\n\u001b[0;32m--> 217\u001b[0m file \u001b[38;5;241m=\u001b[39m \u001b[38;5;28;43mself\u001b[39;49m\u001b[38;5;241;43m.\u001b[39;49m\u001b[43m_opener\u001b[49m\u001b[43m(\u001b[49m\u001b[38;5;241;43m*\u001b[39;49m\u001b[38;5;28;43mself\u001b[39;49m\u001b[38;5;241;43m.\u001b[39;49m\u001b[43m_args\u001b[49m\u001b[43m,\u001b[49m\u001b[43m \u001b[49m\u001b[38;5;241;43m*\u001b[39;49m\u001b[38;5;241;43m*\u001b[39;49m\u001b[43mkwargs\u001b[49m\u001b[43m)\u001b[49m\n\u001b[1;32m    218\u001b[0m \u001b[38;5;28;01mif\u001b[39;00m \u001b[38;5;28mself\u001b[39m\u001b[38;5;241m.\u001b[39m_mode \u001b[38;5;241m==\u001b[39m \u001b[38;5;124m\"\u001b[39m\u001b[38;5;124mw\u001b[39m\u001b[38;5;124m\"\u001b[39m:\n\u001b[1;32m    219\u001b[0m     \u001b[38;5;66;03m# ensure file doesn't get overridden when opened again\u001b[39;00m\n\u001b[1;32m    220\u001b[0m     \u001b[38;5;28mself\u001b[39m\u001b[38;5;241m.\u001b[39m_mode \u001b[38;5;241m=\u001b[39m \u001b[38;5;124m\"\u001b[39m\u001b[38;5;124ma\u001b[39m\u001b[38;5;124m\"\u001b[39m\n",
      "File \u001b[0;32msrc/netCDF4/_netCDF4.pyx:2353\u001b[0m, in \u001b[0;36mnetCDF4._netCDF4.Dataset.__init__\u001b[0;34m()\u001b[0m\n",
      "File \u001b[0;32msrc/netCDF4/_netCDF4.pyx:1963\u001b[0m, in \u001b[0;36mnetCDF4._netCDF4._ensure_nc_success\u001b[0;34m()\u001b[0m\n",
      "\u001b[0;31mFileNotFoundError\u001b[0m: [Errno 2] No such file or directory: b'/home/198/mp7041/ACCESS-OM2-updated/figures/bathymetry/access-om2/input_236a3011/mom_1deg/topog.nc'"
     ]
    }
   ],
   "source": [
    "for ekey in data.keys():\n",
    "    e = data[ekey]\n",
    "    outdirs = glob(os.path.join(e['exptdir'], 'output*'))\n",
    "    outdirs.sort()\n",
    "    e['lastout'] = outdirs[-1]\n",
    "    print(ekey, e['lastout'])\n",
    "    e['st_edges_ocean'] = xr.open_dataset(e['lastout']+'/ocean/ocean.nc').st_edges_ocean#.values\n",
    "    e['kmt'] = xr.open_dataset(e['lastout']+'/ocean/ocean_grid.nc').kmt #.values\n",
    "    e['depth'] = xr.open_dataset(e['mominput']+'/topog.nc').depth  # partial depth\n",
    "    kmt_idx = e['kmt'].astype(np.int64).clip(min=0)\n",
    "    tmp = e['st_edges_ocean'][kmt_idx]  # full depth, land is zero\n",
    "    e['depth_full'] = tmp.where(tmp > 0)  # full depth, land is nan\n",
    "    dzfull = e['st_edges_ocean'].diff('st_edges_ocean')\n",
    "    dzftmp = dzfull[e['kmt'].astype(np.int64).clip(min=1)-1]  # full depth dz, land is wrong\n",
    "    e['dz_full'] = dzftmp.where(tmp > 0)  # full depth dz, land is nan\n",
    "    dztmp = e['depth'].values - e['st_edges_ocean'][(kmt_idx-1).clip(min=0)]  # partial depth dz, land is wrong\n",
    "    e['dz'] = dztmp.where(tmp > 0)  # partial depth dz, land is nan"
   ]
  },
  {
   "cell_type": "code",
   "execution_count": null,
   "id": "5caf08bd",
   "metadata": {},
   "outputs": [],
   "source": [
    "for ekey in data.keys():\n",
    "    e = data[ekey]\n",
    "    print(ekey, e['desc'])\n",
    "    print('min levels =', int(e['kmt'].min().item(0)))\n",
    "    print('min partial cell depth   =', e['depth'].where(e['depth']>0).min().item(0),'m')\n",
    "#     print('min full cell depth =', e['st_edges_ocean'][int(e['kmt'].min().item(0))].item(0),'m')\n",
    "    print('min full cell depth =', e['depth_full'].min().item(0),'m')\n",
    "    print('max full cell depth =', e['depth_full'].max().item(0),'m')\n",
    "    print('min partial cell thickness at bottom =', e['dz'].min().item(0),'m')\n",
    "    print('min full cell thickness at bottom =', e['dz_full'].min().item(0),'m')\n",
    "    ratio = e['dz']/e['dz_full']\n",
    "    print('min partial/full thickness at bottom =', ratio.min().item(0))\n",
    "    print('max partial/full thickness at bottom =', ratio.max().item(0))\n",
    "    print('number of cells with partial > full thickness at bottom =', ratio.where(ratio>1).count().item(0))\n",
    "    print('min partial-full thickness at bottom, where partial>full =', (e['dz']-e['dz_full']).where(e['dz']>e['dz_full']+1e-5).min().item(0))\n",
    "    print('max partial-full thickness at bottom =', (e['dz']-e['dz_full']).max().item(0))\n",
    "\n",
    "    print()"
   ]
  },
  {
   "cell_type": "code",
   "execution_count": null,
   "id": "9bed1b34",
   "metadata": {},
   "outputs": [],
   "source": [
    "e['depth_full'].plot()"
   ]
  },
  {
   "cell_type": "code",
   "execution_count": null,
   "id": "0ba47a40",
   "metadata": {},
   "outputs": [],
   "source": [
    "e['dz_full'].plot()"
   ]
  },
  {
   "cell_type": "code",
   "execution_count": null,
   "id": "fbf935b8",
   "metadata": {},
   "outputs": [],
   "source": [
    "e['dz'].plot()"
   ]
  },
  {
   "cell_type": "code",
   "execution_count": null,
   "id": "0e18d49d",
   "metadata": {},
   "outputs": [],
   "source": [
    "ratio.plot()"
   ]
  },
  {
   "cell_type": "code",
   "execution_count": null,
   "id": "2b306b81",
   "metadata": {},
   "outputs": [],
   "source": [
    "ratio.where(ratio>-1).plot(figsize=(12,6))"
   ]
  },
  {
   "cell_type": "code",
   "execution_count": null,
   "id": "394729fe",
   "metadata": {},
   "outputs": [],
   "source": [
    "thickdiff = e['dz']-e['dz_full']\n",
    "thickdiff.where(thickdiff>=0).plot(figsize=(12,6))"
   ]
  },
  {
   "cell_type": "code",
   "execution_count": null,
   "id": "edaada9f",
   "metadata": {},
   "outputs": [],
   "source": [
    "# depth below which there is some degree of partial cell\n",
    "data['01deg']['st_edges_ocean'][1:].where(e['st_edges_ocean'].diff('st_edges_ocean')>10)"
   ]
  },
  {
   "cell_type": "code",
   "execution_count": null,
   "id": "a428b784",
   "metadata": {},
   "outputs": [],
   "source": [
    "# depth below which 20% threshold is actual lower limit\n",
    "data['01deg']['st_edges_ocean'][1:].where(e['st_edges_ocean'].diff('st_edges_ocean')>50)"
   ]
  },
  {
   "cell_type": "code",
   "execution_count": null,
   "id": "3c21abd3",
   "metadata": {},
   "outputs": [],
   "source": [
    "plt.figure(figsize=(12,6))\n",
    "for i, ekey in enumerate(data.keys()):\n",
    "    e = data[ekey]\n",
    "    plt.subplot(1,len(data.keys()),i+1)\n",
    "    plt.plot([0, 230],[0,230],'k',linewidth=0.2)\n",
    "    plt.plot([0, 230],[0,230*0.2],'k',linewidth=0.2)\n",
    "    plt.scatter(e['dz_full'], e['dz'], s=0.2)\n",
    "    plt.xlim(0,230)\n",
    "    plt.ylim(0,230)\n",
    "    plt.yticks(np.arange(0, 231, step=10))\n",
    "    plt.xlabel('Full cell dz (m)')\n",
    "    plt.title(e['desc'])\n",
    "    if i == 0:\n",
    "        plt.ylabel('Partial cell dz (m)')\n",
    "    else:\n",
    "        plt.gca().axes.yaxis.set_ticklabels([])\n",
    "plt.tight_layout()\n",
    "savefigure(fileprefix+'partialcells.png')"
   ]
  },
  {
   "cell_type": "code",
   "execution_count": null,
   "id": "db33f3cc",
   "metadata": {},
   "outputs": [],
   "source": [
    "plt.figure(figsize=(12,6))\n",
    "for i, ekey in enumerate(data.keys()):\n",
    "    e = data[ekey]\n",
    "    plt.subplot(1,len(data.keys()),i+1)\n",
    "    plt.plot([0, 20],[0,20],'k',linewidth=0.2)\n",
    "    plt.plot([0, 20],[0,20*0.2],'k',linewidth=0.2)\n",
    "    plt.scatter(e['dz_full'], e['dz'], s=0.2)\n",
    "    plt.xlim(0,20)\n",
    "    plt.ylim(0,20)\n",
    "    plt.yticks(np.arange(0, 21, step=1))\n",
    "    plt.xlabel('Full cell dz (m)')\n",
    "    plt.title(e['desc'])\n",
    "    if i == 0:\n",
    "        plt.ylabel('Partial cell dz (m)')\n",
    "    else:\n",
    "        plt.gca().axes.yaxis.set_ticklabels([])\n",
    "plt.tight_layout()\n",
    "savefigure(fileprefix+'partialcells_closeup.png')"
   ]
  },
  {
   "cell_type": "code",
   "execution_count": null,
   "id": "6266a4e1",
   "metadata": {},
   "outputs": [],
   "source": [
    "plt.figure(figsize=(12,6))\n",
    "for ekey in data.keys():\n",
    "    e = data[ekey]\n",
    "    plt.hist(np.ma.ravel(e['depth']), bins=20000, alpha=0.5, log=True, label=e['desc'])\n",
    "plt.xlim(10,6000)\n",
    "plt.xscale('log')\n",
    "plt.xlabel('Depth (m)')\n",
    "plt.ylabel('Count');\n",
    "plt.title('Histogram of model depth');\n",
    "plt.legend(loc='upper right')"
   ]
  },
  {
   "cell_type": "code",
   "execution_count": null,
   "id": "3e038224",
   "metadata": {},
   "outputs": [],
   "source": [
    "plt.figure(figsize=(12,6))\n",
    "for ekey in data.keys():\n",
    "    e = data[ekey]\n",
    "    plt.hist(np.ma.ravel(e['dz']-e['dz_full']), bins=20000, alpha=0.5, log=True, label=e['desc'])\n",
    "plt.xlim(0.001,2)\n",
    "plt.xlabel('Partial depth - full depth (m)')\n",
    "plt.ylabel('Count');\n",
    "plt.title('Histogram of partial minus full depth');\n",
    "plt.legend(loc='upper right')"
   ]
  },
  {
   "cell_type": "code",
   "execution_count": null,
   "id": "3421cd40",
   "metadata": {},
   "outputs": [],
   "source": [
    "e['dz'].plot()"
   ]
  },
  {
   "cell_type": "code",
   "execution_count": null,
   "id": "497eced4",
   "metadata": {},
   "outputs": [],
   "source": [
    "e['dz_full'].plot()"
   ]
  },
  {
   "cell_type": "code",
   "execution_count": null,
   "id": "0b02cd31",
   "metadata": {},
   "outputs": [],
   "source": [
    "e['depth_full'].plot()"
   ]
  },
  {
   "cell_type": "code",
   "execution_count": null,
   "id": "277c4dd7",
   "metadata": {},
   "outputs": [],
   "source": [
    "e['depth'].plot()"
   ]
  }
 ],
 "metadata": {
  "kernelspec": {
   "display_name": "Python [conda env:analysis3-23.07] *",
   "language": "python",
   "name": "conda-env-analysis3-23.07-py"
  },
  "language_info": {
   "codemirror_mode": {
    "name": "ipython",
    "version": 3
   },
   "file_extension": ".py",
   "mimetype": "text/x-python",
   "name": "python",
   "nbconvert_exporter": "python",
   "pygments_lexer": "ipython3",
   "version": "3.10.12"
  }
 },
 "nbformat": 4,
 "nbformat_minor": 5
}

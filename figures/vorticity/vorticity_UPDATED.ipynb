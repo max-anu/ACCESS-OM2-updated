{
 "cells": [
  {
   "cell_type": "markdown",
   "id": "e85f05b8",
   "metadata": {},
   "source": [
    "# Vorticity\n",
    "Plot vertical relative vorticity $v_x - u_y$"
   ]
  },
  {
   "cell_type": "code",
   "execution_count": 1,
   "id": "592fbb40",
   "metadata": {},
   "outputs": [
    {
     "name": "stdout",
     "output_type": "stream",
     "text": [
      "Available exptdata keys:  ['1deg', '025deg', '01deg']\n"
     ]
    }
   ],
   "source": [
    "%matplotlib inline\n",
    "import pandas as pd\n",
    "import cosima_cookbook as cc\n",
    "from glob import glob\n",
    "import matplotlib.pyplot as plt\n",
    "from matplotlib.colors import LinearSegmentedColormap\n",
    "from mpl_toolkits.basemap import Basemap, shiftgrid\n",
    "import numpy as np\n",
    "import netCDF4 as nc\n",
    "import xarray as xr\n",
    "import cmocean as cm\n",
    "import cartopy\n",
    "import cartopy.crs as ccrs\n",
    "import pandas as pd\n",
    "import copy\n",
    "import math\n",
    "import psutil\n",
    "import gc\n",
    "\n",
    "import sys, os\n",
    "\n",
    "os.chdir(os.path.join(os.getcwd(), \"ACCESS-OM2-updated/figures/vorticity\"))\n",
    "sys.path.append(os.path.join(os.getcwd(), '..'))  # so we can import ../exptdata\n",
    "import exptdata\n",
    "print('Available exptdata keys: ', [k for k in exptdata.exptdict.keys()])"
   ]
  },
  {
   "cell_type": "code",
   "execution_count": 2,
   "id": "9d919218-9491-431b-83bc-453db0a3b832",
   "metadata": {},
   "outputs": [
    {
     "data": {
      "text/html": [
       "<div>\n",
       "    <div style=\"width: 24px; height: 24px; background-color: #e1e1e1; border: 3px solid #9D9D9D; border-radius: 5px; position: absolute;\"> </div>\n",
       "    <div style=\"margin-left: 48px;\">\n",
       "        <h3 style=\"margin-bottom: 0px;\">Client</h3>\n",
       "        <p style=\"color: #9D9D9D; margin-bottom: 0px;\">Client-f1608605-7141-11ee-8742-00000186fe80</p>\n",
       "        <table style=\"width: 100%; text-align: left;\">\n",
       "\n",
       "        <tr>\n",
       "        \n",
       "            <td style=\"text-align: left;\"><strong>Connection method:</strong> Direct</td>\n",
       "            <td style=\"text-align: left;\"></td>\n",
       "        \n",
       "        </tr>\n",
       "\n",
       "        \n",
       "            <tr>\n",
       "                <td style=\"text-align: left;\">\n",
       "                    <strong>Dashboard: </strong> <a href=\"/proxy/8787/status\" target=\"_blank\">/proxy/8787/status</a>\n",
       "                </td>\n",
       "                <td style=\"text-align: left;\"></td>\n",
       "            </tr>\n",
       "        \n",
       "\n",
       "        </table>\n",
       "\n",
       "        \n",
       "            <button style=\"margin-bottom: 12px;\" data-commandlinker-command=\"dask:populate-and-launch-layout\" data-commandlinker-args='{\"url\": \"/proxy/8787/status\" }'>\n",
       "                Launch dashboard in JupyterLab\n",
       "            </button>\n",
       "        \n",
       "\n",
       "        \n",
       "            <details>\n",
       "            <summary style=\"margin-bottom: 20px;\"><h3 style=\"display: inline;\">Scheduler Info</h3></summary>\n",
       "            <div style=\"\">\n",
       "    <div>\n",
       "        <div style=\"width: 24px; height: 24px; background-color: #FFF7E5; border: 3px solid #FF6132; border-radius: 5px; position: absolute;\"> </div>\n",
       "        <div style=\"margin-left: 48px;\">\n",
       "            <h3 style=\"margin-bottom: 0px;\">Scheduler</h3>\n",
       "            <p style=\"color: #9D9D9D; margin-bottom: 0px;\">Scheduler-065e4212-adf9-4de4-a7a7-c8aa2e8a7f86</p>\n",
       "            <table style=\"width: 100%; text-align: left;\">\n",
       "                <tr>\n",
       "                    <td style=\"text-align: left;\">\n",
       "                        <strong>Comm:</strong> tcp://10.6.46.29:8786\n",
       "                    </td>\n",
       "                    <td style=\"text-align: left;\">\n",
       "                        <strong>Workers:</strong> 2\n",
       "                    </td>\n",
       "                </tr>\n",
       "                <tr>\n",
       "                    <td style=\"text-align: left;\">\n",
       "                        <strong>Dashboard:</strong> <a href=\"/proxy/8787/status\" target=\"_blank\">/proxy/8787/status</a>\n",
       "                    </td>\n",
       "                    <td style=\"text-align: left;\">\n",
       "                        <strong>Total threads:</strong> 48\n",
       "                    </td>\n",
       "                </tr>\n",
       "                <tr>\n",
       "                    <td style=\"text-align: left;\">\n",
       "                        <strong>Started:</strong> 37 minutes ago\n",
       "                    </td>\n",
       "                    <td style=\"text-align: left;\">\n",
       "                        <strong>Total memory:</strong> 188.56 GiB\n",
       "                    </td>\n",
       "                </tr>\n",
       "            </table>\n",
       "        </div>\n",
       "    </div>\n",
       "\n",
       "    <details style=\"margin-left: 48px;\">\n",
       "        <summary style=\"margin-bottom: 20px;\">\n",
       "            <h3 style=\"display: inline;\">Workers</h3>\n",
       "        </summary>\n",
       "\n",
       "        \n",
       "        <div style=\"margin-bottom: 20px;\">\n",
       "            <div style=\"width: 24px; height: 24px; background-color: #DBF5FF; border: 3px solid #4CC9FF; border-radius: 5px; position: absolute;\"> </div>\n",
       "            <div style=\"margin-left: 48px;\">\n",
       "            <details>\n",
       "                <summary>\n",
       "                    <h4 style=\"margin-bottom: 0px; display: inline;\">Worker: tcp://10.6.46.29:40591</h4>\n",
       "                </summary>\n",
       "                <table style=\"width: 100%; text-align: left;\">\n",
       "                    <tr>\n",
       "                        <td style=\"text-align: left;\">\n",
       "                            <strong>Comm: </strong> tcp://10.6.46.29:40591\n",
       "                        </td>\n",
       "                        <td style=\"text-align: left;\">\n",
       "                            <strong>Total threads: </strong> 24\n",
       "                        </td>\n",
       "                    </tr>\n",
       "                    <tr>\n",
       "                        <td style=\"text-align: left;\">\n",
       "                            <strong>Dashboard: </strong> <a href=\"/proxy/35323/status\" target=\"_blank\">/proxy/35323/status</a>\n",
       "                        </td>\n",
       "                        <td style=\"text-align: left;\">\n",
       "                            <strong>Memory: </strong> 94.28 GiB\n",
       "                        </td>\n",
       "                    </tr>\n",
       "                    <tr>\n",
       "                        <td style=\"text-align: left;\">\n",
       "                            <strong>Nanny: </strong> tcp://10.6.46.29:35541\n",
       "                        </td>\n",
       "                        <td style=\"text-align: left;\"></td>\n",
       "                    </tr>\n",
       "                    <tr>\n",
       "                        <td colspan=\"2\" style=\"text-align: left;\">\n",
       "                            <strong>Local directory: </strong> /scratch/iq82/mp7041/dasktmp1/dask-scratch-space/worker-qvi26faf\n",
       "                        </td>\n",
       "                    </tr>\n",
       "\n",
       "                    \n",
       "\n",
       "                    \n",
       "                    <tr>\n",
       "                        <td style=\"text-align: left;\">\n",
       "                            <strong>Tasks executing: </strong> \n",
       "                        </td>\n",
       "                        <td style=\"text-align: left;\">\n",
       "                            <strong>Tasks in memory: </strong> \n",
       "                        </td>\n",
       "                    </tr>\n",
       "                    <tr>\n",
       "                        <td style=\"text-align: left;\">\n",
       "                            <strong>Tasks ready: </strong> \n",
       "                        </td>\n",
       "                        <td style=\"text-align: left;\">\n",
       "                            <strong>Tasks in flight: </strong>\n",
       "                        </td>\n",
       "                    </tr>\n",
       "                    <tr>\n",
       "                        <td style=\"text-align: left;\">\n",
       "                            <strong>CPU usage:</strong> 106.4%\n",
       "                        </td>\n",
       "                        <td style=\"text-align: left;\">\n",
       "                            <strong>Last seen: </strong> Just now\n",
       "                        </td>\n",
       "                    </tr>\n",
       "                    <tr>\n",
       "                        <td style=\"text-align: left;\">\n",
       "                            <strong>Memory usage: </strong> 1.01 GiB\n",
       "                        </td>\n",
       "                        <td style=\"text-align: left;\">\n",
       "                            <strong>Spilled bytes: </strong> 0 B\n",
       "                        </td>\n",
       "                    </tr>\n",
       "                    <tr>\n",
       "                        <td style=\"text-align: left;\">\n",
       "                            <strong>Read bytes: </strong> 1.65 MiB\n",
       "                        </td>\n",
       "                        <td style=\"text-align: left;\">\n",
       "                            <strong>Write bytes: </strong> 1.87 MiB\n",
       "                        </td>\n",
       "                    </tr>\n",
       "                    \n",
       "\n",
       "                </table>\n",
       "            </details>\n",
       "            </div>\n",
       "        </div>\n",
       "        \n",
       "        <div style=\"margin-bottom: 20px;\">\n",
       "            <div style=\"width: 24px; height: 24px; background-color: #DBF5FF; border: 3px solid #4CC9FF; border-radius: 5px; position: absolute;\"> </div>\n",
       "            <div style=\"margin-left: 48px;\">\n",
       "            <details>\n",
       "                <summary>\n",
       "                    <h4 style=\"margin-bottom: 0px; display: inline;\">Worker: tcp://10.6.46.29:44539</h4>\n",
       "                </summary>\n",
       "                <table style=\"width: 100%; text-align: left;\">\n",
       "                    <tr>\n",
       "                        <td style=\"text-align: left;\">\n",
       "                            <strong>Comm: </strong> tcp://10.6.46.29:44539\n",
       "                        </td>\n",
       "                        <td style=\"text-align: left;\">\n",
       "                            <strong>Total threads: </strong> 24\n",
       "                        </td>\n",
       "                    </tr>\n",
       "                    <tr>\n",
       "                        <td style=\"text-align: left;\">\n",
       "                            <strong>Dashboard: </strong> <a href=\"/proxy/35401/status\" target=\"_blank\">/proxy/35401/status</a>\n",
       "                        </td>\n",
       "                        <td style=\"text-align: left;\">\n",
       "                            <strong>Memory: </strong> 94.28 GiB\n",
       "                        </td>\n",
       "                    </tr>\n",
       "                    <tr>\n",
       "                        <td style=\"text-align: left;\">\n",
       "                            <strong>Nanny: </strong> tcp://10.6.46.29:46875\n",
       "                        </td>\n",
       "                        <td style=\"text-align: left;\"></td>\n",
       "                    </tr>\n",
       "                    <tr>\n",
       "                        <td colspan=\"2\" style=\"text-align: left;\">\n",
       "                            <strong>Local directory: </strong> /scratch/iq82/mp7041/dasktmp2/dask-scratch-space/worker-6j6tx0vo\n",
       "                        </td>\n",
       "                    </tr>\n",
       "\n",
       "                    \n",
       "\n",
       "                    \n",
       "                    <tr>\n",
       "                        <td style=\"text-align: left;\">\n",
       "                            <strong>Tasks executing: </strong> \n",
       "                        </td>\n",
       "                        <td style=\"text-align: left;\">\n",
       "                            <strong>Tasks in memory: </strong> \n",
       "                        </td>\n",
       "                    </tr>\n",
       "                    <tr>\n",
       "                        <td style=\"text-align: left;\">\n",
       "                            <strong>Tasks ready: </strong> \n",
       "                        </td>\n",
       "                        <td style=\"text-align: left;\">\n",
       "                            <strong>Tasks in flight: </strong>\n",
       "                        </td>\n",
       "                    </tr>\n",
       "                    <tr>\n",
       "                        <td style=\"text-align: left;\">\n",
       "                            <strong>CPU usage:</strong> 107.2%\n",
       "                        </td>\n",
       "                        <td style=\"text-align: left;\">\n",
       "                            <strong>Last seen: </strong> Just now\n",
       "                        </td>\n",
       "                    </tr>\n",
       "                    <tr>\n",
       "                        <td style=\"text-align: left;\">\n",
       "                            <strong>Memory usage: </strong> 1.07 GiB\n",
       "                        </td>\n",
       "                        <td style=\"text-align: left;\">\n",
       "                            <strong>Spilled bytes: </strong> 0 B\n",
       "                        </td>\n",
       "                    </tr>\n",
       "                    <tr>\n",
       "                        <td style=\"text-align: left;\">\n",
       "                            <strong>Read bytes: </strong> 1.66 MiB\n",
       "                        </td>\n",
       "                        <td style=\"text-align: left;\">\n",
       "                            <strong>Write bytes: </strong> 1.87 MiB\n",
       "                        </td>\n",
       "                    </tr>\n",
       "                    \n",
       "\n",
       "                </table>\n",
       "            </details>\n",
       "            </div>\n",
       "        </div>\n",
       "        \n",
       "\n",
       "    </details>\n",
       "</div>\n",
       "            </details>\n",
       "        \n",
       "\n",
       "    </div>\n",
       "</div>"
      ],
      "text/plain": [
       "<Client: 'tcp://10.6.46.29:8786' processes=2 threads=48, memory=188.56 GiB>"
      ]
     },
     "execution_count": 2,
     "metadata": {},
     "output_type": "execute_result"
    }
   ],
   "source": [
    "from dask.distributed import Client, progress\n",
    "client = Client(\"tcp://10.6.46.29:8786\")\n",
    "session = cc.database.create_session()\n",
    "client"
   ]
  },
  {
   "cell_type": "code",
   "execution_count": 3,
   "id": "73f16931",
   "metadata": {},
   "outputs": [],
   "source": [
    "# use with care - sometimes this apparently hangs\n",
    "# cc.start_cluster()"
   ]
  },
  {
   "cell_type": "markdown",
   "id": "6dd1502a-6794-4e72-b715-1866032140e0",
   "metadata": {},
   "source": [
    "# cc.build_index(careful=True)\n",
    "cc.build_index()"
   ]
  },
  {
   "cell_type": "code",
   "execution_count": 4,
   "id": "4790e504",
   "metadata": {},
   "outputs": [],
   "source": [
    "# from joblib import Memory\n",
    "# memory = Memory(cachedir='/g/data1/v45/cosima-cookbook/', verbose=0)"
   ]
  },
  {
   "cell_type": "code",
   "execution_count": 5,
   "id": "e950a845",
   "metadata": {},
   "outputs": [],
   "source": [
    "figdir = ''\n",
    "NOSYNC = 'NOSYNC/' # where to save figs we don't want to sync\n",
    "if not os.path.exists(NOSYNC):\n",
    "    os.makedirs(NOSYNC)\n",
    "def savefigure(fname):\n",
    "    plt.savefig(os.path.join(figdir, fname+'.png'),dpi=300, bbox_inches=\"tight\")  # comment out to disable saving\n",
    "#     plt.savefig(os.path.join(figdir, fname+'.pdf'),dpi=300, bbox_inches=\"tight\")  # comment out to disable saving\n",
    "    return"
   ]
  },
  {
   "cell_type": "code",
   "execution_count": 6,
   "id": "f4fd2111",
   "metadata": {},
   "outputs": [],
   "source": [
    "# clim_years = 20  # how many years to use for model climatology"
   ]
  },
  {
   "cell_type": "code",
   "execution_count": 7,
   "id": "c88b6e41",
   "metadata": {},
   "outputs": [],
   "source": [
    "tstart = pd.to_datetime('1996', format='%Y')  # start date for movie"
   ]
  },
  {
   "cell_type": "code",
   "execution_count": 8,
   "id": "f7d8f704",
   "metadata": {},
   "outputs": [],
   "source": [
    "# location coords: [ minlon, maxlon, minlat, maxlat ]\n",
    "# key names are used as filenames so should not have spaces\n",
    "locations = { \n",
    "#               'EAC_ACC_SouthPacific': [140-360,240-360,-65,-20], \n",
    "# #               'EAC_ACC':             [140-360,190-360,-65,-20],\n",
    "              'EAC':                     [145-360,175-360,-45,-20],\n",
    "              'Kuroshio':                [125-360,155-360,25,50],\n",
    "              'GulfStream':             [-85,-50,25,50],\n",
    "              'Agulhas':                 [10,40,-45,-20]\n",
    "    # TODO: ACC\n",
    "}"
   ]
  },
  {
   "cell_type": "code",
   "execution_count": 9,
   "id": "b16589c5",
   "metadata": {},
   "outputs": [
    {
     "ename": "ValueError",
     "evalue": "Every dimension needs a coordinate for inferring concatenation order",
     "output_type": "error",
     "traceback": [
      "\u001b[0;31m---------------------------------------------------------------------------\u001b[0m",
      "\u001b[0;31mValueError\u001b[0m                                Traceback (most recent call last)",
      "Cell \u001b[0;32mIn[9], line 5\u001b[0m\n\u001b[1;32m      2\u001b[0m expt \u001b[38;5;241m=\u001b[39m exptdata\u001b[38;5;241m.\u001b[39mexptdict[ekey][\u001b[38;5;124m'\u001b[39m\u001b[38;5;124mexpt\u001b[39m\u001b[38;5;124m'\u001b[39m]\n\u001b[1;32m      3\u001b[0m time_units \u001b[38;5;241m=\u001b[39m exptdata\u001b[38;5;241m.\u001b[39mexptdict[ekey][\u001b[38;5;124m'\u001b[39m\u001b[38;5;124mtime_units\u001b[39m\u001b[38;5;124m'\u001b[39m]\n\u001b[0;32m----> 5\u001b[0m darray \u001b[38;5;241m=\u001b[39m \u001b[43mcc\u001b[49m\u001b[38;5;241;43m.\u001b[39;49m\u001b[43mquerying\u001b[49m\u001b[38;5;241;43m.\u001b[39;49m\u001b[43mgetvar\u001b[49m\u001b[43m(\u001b[49m\u001b[43msession\u001b[49m\u001b[38;5;241;43m=\u001b[39;49m\u001b[43msession\u001b[49m\u001b[43m,\u001b[49m\u001b[43m \u001b[49m\u001b[43mexpt\u001b[49m\u001b[38;5;241;43m=\u001b[39;49m\u001b[43mexpt\u001b[49m\u001b[43m,\u001b[49m\u001b[43m \u001b[49m\u001b[43mvariable\u001b[49m\u001b[38;5;241;43m=\u001b[39;49m\u001b[38;5;124;43m'\u001b[39;49m\u001b[38;5;124;43mvorticity_z\u001b[39;49m\u001b[38;5;124;43m'\u001b[39;49m\u001b[43m)\u001b[49m\n\u001b[1;32m      6\u001b[0m vort \u001b[38;5;241m=\u001b[39m exptdata\u001b[38;5;241m.\u001b[39mjoinseams(darray\u001b[38;5;241m.\u001b[39misel(st_ocean_sub02\u001b[38;5;241m=\u001b[39m\u001b[38;5;241m1\u001b[39m))\n\u001b[1;32m      7\u001b[0m vortsnap \u001b[38;5;241m=\u001b[39m vort\u001b[38;5;241m.\u001b[39misel(time\u001b[38;5;241m=\u001b[39m\u001b[38;5;241m-\u001b[39m\u001b[38;5;241m1\u001b[39m)\n",
      "File \u001b[0;32m/g/data/hh5/public/apps/miniconda3/envs/analysis3-23.07/lib/python3.10/site-packages/cosima_cookbook/querying.py:368\u001b[0m, in \u001b[0;36mgetvar\u001b[0;34m(expt, variable, session, ncfile, start_time, end_time, n, frequency, attrs, attrs_unique, return_dataset, **kwargs)\u001b[0m\n\u001b[1;32m    364\u001b[0m     \u001b[38;5;28;01mreturn\u001b[39;00m d[variables]\n\u001b[1;32m    366\u001b[0m ncfiles \u001b[38;5;241m=\u001b[39m \u001b[38;5;28mlist\u001b[39m(\u001b[38;5;28mstr\u001b[39m(f\u001b[38;5;241m.\u001b[39mNCFile\u001b[38;5;241m.\u001b[39mncfile_path) \u001b[38;5;28;01mfor\u001b[39;00m f \u001b[38;5;129;01min\u001b[39;00m ncfiles)\n\u001b[0;32m--> 368\u001b[0m ds \u001b[38;5;241m=\u001b[39m \u001b[43mxr\u001b[49m\u001b[38;5;241;43m.\u001b[39;49m\u001b[43mopen_mfdataset\u001b[49m\u001b[43m(\u001b[49m\n\u001b[1;32m    369\u001b[0m \u001b[43m    \u001b[49m\u001b[43mncfiles\u001b[49m\u001b[43m,\u001b[49m\n\u001b[1;32m    370\u001b[0m \u001b[43m    \u001b[49m\u001b[43mparallel\u001b[49m\u001b[38;5;241;43m=\u001b[39;49m\u001b[38;5;28;43;01mTrue\u001b[39;49;00m\u001b[43m,\u001b[49m\n\u001b[1;32m    371\u001b[0m \u001b[43m    \u001b[49m\u001b[43mcombine\u001b[49m\u001b[38;5;241;43m=\u001b[39;49m\u001b[38;5;124;43m\"\u001b[39;49m\u001b[38;5;124;43mby_coords\u001b[39;49m\u001b[38;5;124;43m\"\u001b[39;49m\u001b[43m,\u001b[49m\n\u001b[1;32m    372\u001b[0m \u001b[43m    \u001b[49m\u001b[43mpreprocess\u001b[49m\u001b[38;5;241;43m=\u001b[39;49m\u001b[43m_preprocess\u001b[49m\u001b[43m,\u001b[49m\n\u001b[1;32m    373\u001b[0m \u001b[43m    \u001b[49m\u001b[38;5;241;43m*\u001b[39;49m\u001b[38;5;241;43m*\u001b[39;49m\u001b[43mxr_kwargs\u001b[49m\u001b[43m,\u001b[49m\n\u001b[1;32m    374\u001b[0m \u001b[43m\u001b[49m\u001b[43m)\u001b[49m\n\u001b[1;32m    376\u001b[0m \u001b[38;5;28;01mif\u001b[39;00m return_dataset:\n\u001b[1;32m    377\u001b[0m     da \u001b[38;5;241m=\u001b[39m ds\n",
      "File \u001b[0;32m/g/data/hh5/public/apps/miniconda3/envs/analysis3-23.07/lib/python3.10/site-packages/xarray/backends/api.py:1055\u001b[0m, in \u001b[0;36mopen_mfdataset\u001b[0;34m(paths, chunks, concat_dim, compat, preprocess, engine, data_vars, coords, combine, parallel, join, attrs_file, combine_attrs, **kwargs)\u001b[0m\n\u001b[1;32m   1042\u001b[0m     combined \u001b[38;5;241m=\u001b[39m _nested_combine(\n\u001b[1;32m   1043\u001b[0m         datasets,\n\u001b[1;32m   1044\u001b[0m         concat_dims\u001b[38;5;241m=\u001b[39mconcat_dim,\n\u001b[0;32m   (...)\u001b[0m\n\u001b[1;32m   1050\u001b[0m         combine_attrs\u001b[38;5;241m=\u001b[39mcombine_attrs,\n\u001b[1;32m   1051\u001b[0m     )\n\u001b[1;32m   1052\u001b[0m \u001b[38;5;28;01melif\u001b[39;00m combine \u001b[38;5;241m==\u001b[39m \u001b[38;5;124m\"\u001b[39m\u001b[38;5;124mby_coords\u001b[39m\u001b[38;5;124m\"\u001b[39m:\n\u001b[1;32m   1053\u001b[0m     \u001b[38;5;66;03m# Redo ordering from coordinates, ignoring how they were ordered\u001b[39;00m\n\u001b[1;32m   1054\u001b[0m     \u001b[38;5;66;03m# previously\u001b[39;00m\n\u001b[0;32m-> 1055\u001b[0m     combined \u001b[38;5;241m=\u001b[39m \u001b[43mcombine_by_coords\u001b[49m\u001b[43m(\u001b[49m\n\u001b[1;32m   1056\u001b[0m \u001b[43m        \u001b[49m\u001b[43mdatasets\u001b[49m\u001b[43m,\u001b[49m\n\u001b[1;32m   1057\u001b[0m \u001b[43m        \u001b[49m\u001b[43mcompat\u001b[49m\u001b[38;5;241;43m=\u001b[39;49m\u001b[43mcompat\u001b[49m\u001b[43m,\u001b[49m\n\u001b[1;32m   1058\u001b[0m \u001b[43m        \u001b[49m\u001b[43mdata_vars\u001b[49m\u001b[38;5;241;43m=\u001b[39;49m\u001b[43mdata_vars\u001b[49m\u001b[43m,\u001b[49m\n\u001b[1;32m   1059\u001b[0m \u001b[43m        \u001b[49m\u001b[43mcoords\u001b[49m\u001b[38;5;241;43m=\u001b[39;49m\u001b[43mcoords\u001b[49m\u001b[43m,\u001b[49m\n\u001b[1;32m   1060\u001b[0m \u001b[43m        \u001b[49m\u001b[43mjoin\u001b[49m\u001b[38;5;241;43m=\u001b[39;49m\u001b[43mjoin\u001b[49m\u001b[43m,\u001b[49m\n\u001b[1;32m   1061\u001b[0m \u001b[43m        \u001b[49m\u001b[43mcombine_attrs\u001b[49m\u001b[38;5;241;43m=\u001b[39;49m\u001b[43mcombine_attrs\u001b[49m\u001b[43m,\u001b[49m\n\u001b[1;32m   1062\u001b[0m \u001b[43m    \u001b[49m\u001b[43m)\u001b[49m\n\u001b[1;32m   1063\u001b[0m \u001b[38;5;28;01melse\u001b[39;00m:\n\u001b[1;32m   1064\u001b[0m     \u001b[38;5;28;01mraise\u001b[39;00m \u001b[38;5;167;01mValueError\u001b[39;00m(\n\u001b[1;32m   1065\u001b[0m         \u001b[38;5;124mf\u001b[39m\u001b[38;5;124m\"\u001b[39m\u001b[38;5;132;01m{\u001b[39;00mcombine\u001b[38;5;132;01m}\u001b[39;00m\u001b[38;5;124m is an invalid option for the keyword argument\u001b[39m\u001b[38;5;124m\"\u001b[39m\n\u001b[1;32m   1066\u001b[0m         \u001b[38;5;124m\"\u001b[39m\u001b[38;5;124m ``combine``\u001b[39m\u001b[38;5;124m\"\u001b[39m\n\u001b[1;32m   1067\u001b[0m     )\n",
      "File \u001b[0;32m/g/data/hh5/public/apps/miniconda3/envs/analysis3-23.07/lib/python3.10/site-packages/xarray/core/combine.py:958\u001b[0m, in \u001b[0;36mcombine_by_coords\u001b[0;34m(data_objects, compat, data_vars, coords, fill_value, join, combine_attrs)\u001b[0m\n\u001b[1;32m    954\u001b[0m     grouped_by_vars \u001b[38;5;241m=\u001b[39m itertools\u001b[38;5;241m.\u001b[39mgroupby(sorted_datasets, key\u001b[38;5;241m=\u001b[39mvars_as_keys)\n\u001b[1;32m    956\u001b[0m     \u001b[38;5;66;03m# Perform the multidimensional combine on each group of data variables\u001b[39;00m\n\u001b[1;32m    957\u001b[0m     \u001b[38;5;66;03m# before merging back together\u001b[39;00m\n\u001b[0;32m--> 958\u001b[0m     concatenated_grouped_by_data_vars \u001b[38;5;241m=\u001b[39m \u001b[38;5;28;43mtuple\u001b[39;49m\u001b[43m(\u001b[49m\n\u001b[1;32m    959\u001b[0m \u001b[43m        \u001b[49m\u001b[43m_combine_single_variable_hypercube\u001b[49m\u001b[43m(\u001b[49m\n\u001b[1;32m    960\u001b[0m \u001b[43m            \u001b[49m\u001b[38;5;28;43mtuple\u001b[39;49m\u001b[43m(\u001b[49m\u001b[43mdatasets_with_same_vars\u001b[49m\u001b[43m)\u001b[49m\u001b[43m,\u001b[49m\n\u001b[1;32m    961\u001b[0m \u001b[43m            \u001b[49m\u001b[43mfill_value\u001b[49m\u001b[38;5;241;43m=\u001b[39;49m\u001b[43mfill_value\u001b[49m\u001b[43m,\u001b[49m\n\u001b[1;32m    962\u001b[0m \u001b[43m            \u001b[49m\u001b[43mdata_vars\u001b[49m\u001b[38;5;241;43m=\u001b[39;49m\u001b[43mdata_vars\u001b[49m\u001b[43m,\u001b[49m\n\u001b[1;32m    963\u001b[0m \u001b[43m            \u001b[49m\u001b[43mcoords\u001b[49m\u001b[38;5;241;43m=\u001b[39;49m\u001b[43mcoords\u001b[49m\u001b[43m,\u001b[49m\n\u001b[1;32m    964\u001b[0m \u001b[43m            \u001b[49m\u001b[43mcompat\u001b[49m\u001b[38;5;241;43m=\u001b[39;49m\u001b[43mcompat\u001b[49m\u001b[43m,\u001b[49m\n\u001b[1;32m    965\u001b[0m \u001b[43m            \u001b[49m\u001b[43mjoin\u001b[49m\u001b[38;5;241;43m=\u001b[39;49m\u001b[43mjoin\u001b[49m\u001b[43m,\u001b[49m\n\u001b[1;32m    966\u001b[0m \u001b[43m            \u001b[49m\u001b[43mcombine_attrs\u001b[49m\u001b[38;5;241;43m=\u001b[39;49m\u001b[43mcombine_attrs\u001b[49m\u001b[43m,\u001b[49m\n\u001b[1;32m    967\u001b[0m \u001b[43m        \u001b[49m\u001b[43m)\u001b[49m\n\u001b[1;32m    968\u001b[0m \u001b[43m        \u001b[49m\u001b[38;5;28;43;01mfor\u001b[39;49;00m\u001b[43m \u001b[49m\u001b[38;5;28;43mvars\u001b[39;49m\u001b[43m,\u001b[49m\u001b[43m \u001b[49m\u001b[43mdatasets_with_same_vars\u001b[49m\u001b[43m \u001b[49m\u001b[38;5;129;43;01min\u001b[39;49;00m\u001b[43m \u001b[49m\u001b[43mgrouped_by_vars\u001b[49m\n\u001b[1;32m    969\u001b[0m \u001b[43m    \u001b[49m\u001b[43m)\u001b[49m\n\u001b[1;32m    971\u001b[0m \u001b[38;5;28;01mreturn\u001b[39;00m merge(\n\u001b[1;32m    972\u001b[0m     concatenated_grouped_by_data_vars,\n\u001b[1;32m    973\u001b[0m     compat\u001b[38;5;241m=\u001b[39mcompat,\n\u001b[0;32m   (...)\u001b[0m\n\u001b[1;32m    976\u001b[0m     combine_attrs\u001b[38;5;241m=\u001b[39mcombine_attrs,\n\u001b[1;32m    977\u001b[0m )\n",
      "File \u001b[0;32m/g/data/hh5/public/apps/miniconda3/envs/analysis3-23.07/lib/python3.10/site-packages/xarray/core/combine.py:959\u001b[0m, in \u001b[0;36m<genexpr>\u001b[0;34m(.0)\u001b[0m\n\u001b[1;32m    954\u001b[0m     grouped_by_vars \u001b[38;5;241m=\u001b[39m itertools\u001b[38;5;241m.\u001b[39mgroupby(sorted_datasets, key\u001b[38;5;241m=\u001b[39mvars_as_keys)\n\u001b[1;32m    956\u001b[0m     \u001b[38;5;66;03m# Perform the multidimensional combine on each group of data variables\u001b[39;00m\n\u001b[1;32m    957\u001b[0m     \u001b[38;5;66;03m# before merging back together\u001b[39;00m\n\u001b[1;32m    958\u001b[0m     concatenated_grouped_by_data_vars \u001b[38;5;241m=\u001b[39m \u001b[38;5;28mtuple\u001b[39m(\n\u001b[0;32m--> 959\u001b[0m         \u001b[43m_combine_single_variable_hypercube\u001b[49m\u001b[43m(\u001b[49m\n\u001b[1;32m    960\u001b[0m \u001b[43m            \u001b[49m\u001b[38;5;28;43mtuple\u001b[39;49m\u001b[43m(\u001b[49m\u001b[43mdatasets_with_same_vars\u001b[49m\u001b[43m)\u001b[49m\u001b[43m,\u001b[49m\n\u001b[1;32m    961\u001b[0m \u001b[43m            \u001b[49m\u001b[43mfill_value\u001b[49m\u001b[38;5;241;43m=\u001b[39;49m\u001b[43mfill_value\u001b[49m\u001b[43m,\u001b[49m\n\u001b[1;32m    962\u001b[0m \u001b[43m            \u001b[49m\u001b[43mdata_vars\u001b[49m\u001b[38;5;241;43m=\u001b[39;49m\u001b[43mdata_vars\u001b[49m\u001b[43m,\u001b[49m\n\u001b[1;32m    963\u001b[0m \u001b[43m            \u001b[49m\u001b[43mcoords\u001b[49m\u001b[38;5;241;43m=\u001b[39;49m\u001b[43mcoords\u001b[49m\u001b[43m,\u001b[49m\n\u001b[1;32m    964\u001b[0m \u001b[43m            \u001b[49m\u001b[43mcompat\u001b[49m\u001b[38;5;241;43m=\u001b[39;49m\u001b[43mcompat\u001b[49m\u001b[43m,\u001b[49m\n\u001b[1;32m    965\u001b[0m \u001b[43m            \u001b[49m\u001b[43mjoin\u001b[49m\u001b[38;5;241;43m=\u001b[39;49m\u001b[43mjoin\u001b[49m\u001b[43m,\u001b[49m\n\u001b[1;32m    966\u001b[0m \u001b[43m            \u001b[49m\u001b[43mcombine_attrs\u001b[49m\u001b[38;5;241;43m=\u001b[39;49m\u001b[43mcombine_attrs\u001b[49m\u001b[43m,\u001b[49m\n\u001b[1;32m    967\u001b[0m \u001b[43m        \u001b[49m\u001b[43m)\u001b[49m\n\u001b[1;32m    968\u001b[0m         \u001b[38;5;28;01mfor\u001b[39;00m \u001b[38;5;28mvars\u001b[39m, datasets_with_same_vars \u001b[38;5;129;01min\u001b[39;00m grouped_by_vars\n\u001b[1;32m    969\u001b[0m     )\n\u001b[1;32m    971\u001b[0m \u001b[38;5;28;01mreturn\u001b[39;00m merge(\n\u001b[1;32m    972\u001b[0m     concatenated_grouped_by_data_vars,\n\u001b[1;32m    973\u001b[0m     compat\u001b[38;5;241m=\u001b[39mcompat,\n\u001b[0;32m   (...)\u001b[0m\n\u001b[1;32m    976\u001b[0m     combine_attrs\u001b[38;5;241m=\u001b[39mcombine_attrs,\n\u001b[1;32m    977\u001b[0m )\n",
      "File \u001b[0;32m/g/data/hh5/public/apps/miniconda3/envs/analysis3-23.07/lib/python3.10/site-packages/xarray/core/combine.py:619\u001b[0m, in \u001b[0;36m_combine_single_variable_hypercube\u001b[0;34m(datasets, fill_value, data_vars, coords, compat, join, combine_attrs)\u001b[0m\n\u001b[1;32m    613\u001b[0m \u001b[38;5;28;01mif\u001b[39;00m \u001b[38;5;28mlen\u001b[39m(datasets) \u001b[38;5;241m==\u001b[39m \u001b[38;5;241m0\u001b[39m:\n\u001b[1;32m    614\u001b[0m     \u001b[38;5;28;01mraise\u001b[39;00m \u001b[38;5;167;01mValueError\u001b[39;00m(\n\u001b[1;32m    615\u001b[0m         \u001b[38;5;124m\"\u001b[39m\u001b[38;5;124mAt least one Dataset is required to resolve variable names \u001b[39m\u001b[38;5;124m\"\u001b[39m\n\u001b[1;32m    616\u001b[0m         \u001b[38;5;124m\"\u001b[39m\u001b[38;5;124mfor combined hypercube.\u001b[39m\u001b[38;5;124m\"\u001b[39m\n\u001b[1;32m    617\u001b[0m     )\n\u001b[0;32m--> 619\u001b[0m combined_ids, concat_dims \u001b[38;5;241m=\u001b[39m \u001b[43m_infer_concat_order_from_coords\u001b[49m\u001b[43m(\u001b[49m\u001b[38;5;28;43mlist\u001b[39;49m\u001b[43m(\u001b[49m\u001b[43mdatasets\u001b[49m\u001b[43m)\u001b[49m\u001b[43m)\u001b[49m\n\u001b[1;32m    621\u001b[0m \u001b[38;5;28;01mif\u001b[39;00m fill_value \u001b[38;5;129;01mis\u001b[39;00m \u001b[38;5;28;01mNone\u001b[39;00m:\n\u001b[1;32m    622\u001b[0m     \u001b[38;5;66;03m# check that datasets form complete hypercube\u001b[39;00m\n\u001b[1;32m    623\u001b[0m     _check_shape_tile_ids(combined_ids)\n",
      "File \u001b[0;32m/g/data/hh5/public/apps/miniconda3/envs/analysis3-23.07/lib/python3.10/site-packages/xarray/core/combine.py:92\u001b[0m, in \u001b[0;36m_infer_concat_order_from_coords\u001b[0;34m(datasets)\u001b[0m\n\u001b[1;32m     90\u001b[0m indexes \u001b[38;5;241m=\u001b[39m [ds\u001b[38;5;241m.\u001b[39m_indexes\u001b[38;5;241m.\u001b[39mget(dim) \u001b[38;5;28;01mfor\u001b[39;00m ds \u001b[38;5;129;01min\u001b[39;00m datasets]\n\u001b[1;32m     91\u001b[0m \u001b[38;5;28;01mif\u001b[39;00m \u001b[38;5;28many\u001b[39m(index \u001b[38;5;129;01mis\u001b[39;00m \u001b[38;5;28;01mNone\u001b[39;00m \u001b[38;5;28;01mfor\u001b[39;00m index \u001b[38;5;129;01min\u001b[39;00m indexes):\n\u001b[0;32m---> 92\u001b[0m     \u001b[38;5;28;01mraise\u001b[39;00m \u001b[38;5;167;01mValueError\u001b[39;00m(\n\u001b[1;32m     93\u001b[0m         \u001b[38;5;124m\"\u001b[39m\u001b[38;5;124mEvery dimension needs a coordinate for \u001b[39m\u001b[38;5;124m\"\u001b[39m\n\u001b[1;32m     94\u001b[0m         \u001b[38;5;124m\"\u001b[39m\u001b[38;5;124minferring concatenation order\u001b[39m\u001b[38;5;124m\"\u001b[39m\n\u001b[1;32m     95\u001b[0m     )\n\u001b[1;32m     97\u001b[0m \u001b[38;5;66;03m# TODO (benbovy, flexible indexes): support flexible indexes?\u001b[39;00m\n\u001b[1;32m     98\u001b[0m indexes \u001b[38;5;241m=\u001b[39m [index\u001b[38;5;241m.\u001b[39mto_pandas_index() \u001b[38;5;28;01mfor\u001b[39;00m index \u001b[38;5;129;01min\u001b[39;00m indexes]\n",
      "\u001b[0;31mValueError\u001b[0m: Every dimension needs a coordinate for inferring concatenation order"
     ]
    }
   ],
   "source": [
    "ekey = '01deg'\n",
    "expt = exptdata.exptdict[ekey]['expt']\n",
    "time_units = exptdata.exptdict[ekey]['time_units']\n",
    "\n",
    "darray = cc.querying.getvar(session=session, expt=expt, variable='vorticity_z')\n",
    "vort = exptdata.joinseams(darray.isel(st_ocean_sub02=1))\n",
    "vortsnap = vort.isel(time=-1)\n",
    "\n",
    "gridFileList = glob(os.path.join(exptdata.exptdict[ekey]['exptdir'], 'output*/ocean/ocean_grid.nc'))\n",
    "gridFileList.sort()\n",
    "ncFile = nc.Dataset(gridFileList[0],'r')\n",
    "lon_t = exptdata.joinseams(ncFile.variables['geolon_t'][...], tripole_flip=True, lon=True)\n",
    "lat_t = exptdata.joinseams(ncFile.variables['geolat_t'][...], tripole_flip=True)"
   ]
  },
  {
   "cell_type": "code",
   "execution_count": null,
   "id": "4bdf129d",
   "metadata": {},
   "outputs": [],
   "source": [
    "vortsnap"
   ]
  },
  {
   "cell_type": "code",
   "execution_count": 10,
   "id": "02b8be2d",
   "metadata": {},
   "outputs": [],
   "source": [
    "# make custom white-red-black-blue-white colormap instead of using cm.cm.balance\n",
    "# see https://matplotlib.org/examples/pylab_examples/custom_cmap.html\n",
    "colors = [(1,1,1), (1,0.5,0.5), (1,0,0), (0,0,0), (0,.4,1), (0.5,0.7,1), (1, 1, 1)]\n",
    "vortcmap = LinearSegmentedColormap.from_list('my-list', colors, N=255)"
   ]
  },
  {
   "cell_type": "code",
   "execution_count": 11,
   "id": "27df587a",
   "metadata": {},
   "outputs": [],
   "source": [
    "vmax = 4e-5\n",
    "levels = np.linspace(-vmax, vmax, 101)\n",
    "cbar_scale_factor = 1e-5  # scaling factor for colorbar tick labels\n",
    "# cbar_ticks = [ 0 if abs(v)<1e-9*vmax else v for v in levels[0::5] ]\n",
    "cbar_ticks = np.linspace(-vmax, vmax, 9)\n",
    "cbar_ticklabels = [ str(round(v/cbar_scale_factor,1)) for v in cbar_ticks ]\n",
    "\n",
    "font = {'size':13}\n",
    "tick_font=10"
   ]
  },
  {
   "cell_type": "code",
   "execution_count": 12,
   "id": "aca34d8f",
   "metadata": {},
   "outputs": [],
   "source": [
    "def plot_vort(lon_0=0, lat_0=0, zoom=4, date=None):\n",
    "    '''\n",
    "    Plot vorticity. lon_0 and lat_0 are centre of view.\n",
    "    '''\n",
    "    fig = plt.figure(figsize=(10,10))\n",
    "    # NB: projection='stere' doesn't work - not all contour levels plotted\n",
    "    m1 = Basemap(projection='ortho',lon_0=-105,lat_0=90,resolution=None)\n",
    "    xhalfsize = m1.urcrnrx/2/zoom\n",
    "    yhalfsize = m1.urcrnry/2/zoom\n",
    "    m = Basemap(projection='ortho',lon_0=lon_0,lat_0=lat_0,resolution=None,\n",
    "               llcrnrx=-xhalfsize,llcrnry=-yhalfsize,urcrnrx=xhalfsize,urcrnry=yhalfsize)\n",
    "    ax = fig.add_axes([0.1,0.1,0.8,0.8])\n",
    "    ax.axis('off') # hide axis frame\n",
    "    x,y = m(*(lon_t, lat_t))\n",
    "    vv = vort.sel(time=date, method='nearest')*np.sign(lat_t)\n",
    "# TODO: also select spatial region to reduce memory load\n",
    "    m.drawmapboundary(fill_color='gray') # background color - for non-ocean areas\n",
    "#     m.drawparallels(np.arange(-80.,81.,10.),labels=[True,False,False,True],size=tick_font,color='white',linewidth=0.5)\n",
    "#     m.drawmeridians(np.arange(-180.,180.,10.),labels=[True,False,False,True],size=tick_font,color='white',linewidth=0.5)\n",
    "#     m.drawparallels(np.arange(-80.,81.,10.),color='white',linewidth=0.5)\n",
    "#     m.drawmeridians(np.arange(-180.,180.,10.),color='white',linewidth=0.5)\n",
    "    ctr = m.contourf(x, y, vv, levels=levels, cmap=vortcmap, extend='both')\n",
    "    ctr.cmap.set_over(color='w', alpha=None)\n",
    "    ctr.cmap.set_under(color='w', alpha=None)\n",
    "#     cbar = m.colorbar(ctr, location = 'right', pad = \"6%\", shrink=0.8)\n",
    "\n",
    "    cbar = m.colorbar(ctr, location='right') #, shrink=0.8, aspect=30)\n",
    "\n",
    "    cbar.set_ticks(cbar_ticks)\n",
    "    cbar.set_ticklabels(cbar_ticklabels)\n",
    "    cbar.ax.tick_params(labelsize=tick_font)\n",
    "    cbar.set_label('Sign(f) * relative vorticity at 30m ('+str(cbar_scale_factor)+' 1/s)',size=15)\n",
    "    plt.title('Relative vorticity * sign(f) in '+exptdata.exptdict[ekey]['desc']+' at 30m', fontsize=18)\n",
    "    plt.annotate(date.strftime('%d-%m-%Y'),(1,1.02),xycoords='axes fraction')\n",
    "    \n",
    "    del(vv)\n",
    "    return fig"
   ]
  },
  {
   "cell_type": "markdown",
   "id": "c1acf3eb",
   "metadata": {},
   "source": [
    "## Define camera path\n",
    "Repeatedly circumnavigate globe with increasing latitude.\n",
    "\n",
    "0.2 degree shift/frame at 25fps would do a lap in 72s with 1800 frames\n",
    "\n",
    "With zoom=4, view covers about 25deg in latitude, so to cover 180deg would need 180/25 = about 7 laps.\n",
    "\n",
    "So a total of about 12600 frames, over 6Gb of images... infeasible!\n",
    "\n",
    "If frames are daily it will be about 5 years per lap and about 6 years in total.\n",
    "\n",
    "Movie run time about 100sec.\n",
    "\n",
    "20 days/sec might be a bit fast? but 20fps a bit jerky?\n",
    "\n",
    "looks like 1 deg steps are too jerky.\n",
    "\n",
    "try 0.25 deg steps\n",
    "\n",
    "\n",
    "### a more modest proposal\n",
    "\n",
    "zoom=2: camera view of ~60deg in latitude\n",
    "\n",
    "0.5deg shift/frame and 1 day per 0.5 deg => 720 frames & ~2yr per lap\n",
    "\n",
    "180/60=3 so 3 laps => 2160 frames, ~1Gb, ~6yr\n",
    "\n",
    "86sec at 25fps"
   ]
  },
  {
   "cell_type": "code",
   "execution_count": 13,
   "id": "8b1efd3a",
   "metadata": {},
   "outputs": [],
   "source": [
    "def camera(frame):\n",
    "    '''\n",
    "    Defines camera trajectory.\n",
    "    \n",
    "    Returns longitude, latitude and zoom for a given frame (frame can be real).\n",
    "    '''\n",
    "#     lat = -70+25*frame/10/360\n",
    "#     lon = (-30-frame/10)%360\n",
    "#     zoom = 4\n",
    "\n",
    "    lat = -90+60*frame/2/360\n",
    "    lon = (-30-frame/2)%360\n",
    "    zoom = 2\n",
    "\n",
    "    return lat, lon, zoom"
   ]
  },
  {
   "cell_type": "code",
   "execution_count": 14,
   "id": "b9a7651c",
   "metadata": {},
   "outputs": [
    {
     "name": "stdout",
     "output_type": "stream",
     "text": [
      "memory available: 173768.625 Mb\n",
      "Doing NOSYNC/vortmovie/01deg_vorticity_00000_1996_01_01_00330.0_-0090.0_02\n"
     ]
    },
    {
     "ename": "NameError",
     "evalue": "name 'lon_t' is not defined",
     "output_type": "error",
     "traceback": [
      "\u001b[0;31m---------------------------------------------------------------------------\u001b[0m",
      "\u001b[0;31mNameError\u001b[0m                                 Traceback (most recent call last)",
      "Cell \u001b[0;32mIn[14], line 16\u001b[0m\n\u001b[1;32m     14\u001b[0m         \u001b[38;5;28mprint\u001b[39m(\u001b[38;5;124m'\u001b[39m\u001b[38;5;124mmemory available:\u001b[39m\u001b[38;5;124m'\u001b[39m, psutil\u001b[38;5;241m.\u001b[39mvirtual_memory()\u001b[38;5;241m.\u001b[39mavailable\u001b[38;5;241m/\u001b[39m\u001b[38;5;241m1024\u001b[39m\u001b[38;5;241m/\u001b[39m\u001b[38;5;241m1024\u001b[39m, \u001b[38;5;124m'\u001b[39m\u001b[38;5;124mMb\u001b[39m\u001b[38;5;124m'\u001b[39m)\n\u001b[1;32m     15\u001b[0m         \u001b[38;5;28mprint\u001b[39m(\u001b[38;5;124m'\u001b[39m\u001b[38;5;124mDoing \u001b[39m\u001b[38;5;124m'\u001b[39m \u001b[38;5;241m+\u001b[39m outname)\n\u001b[0;32m---> 16\u001b[0m         fig \u001b[38;5;241m=\u001b[39m \u001b[43mplot_vort\u001b[49m\u001b[43m(\u001b[49m\u001b[43mlon_0\u001b[49m\u001b[38;5;241;43m=\u001b[39;49m\u001b[43mlon\u001b[49m\u001b[43m,\u001b[49m\u001b[43m \u001b[49m\u001b[43mlat_0\u001b[49m\u001b[38;5;241;43m=\u001b[39;49m\u001b[43mlat\u001b[49m\u001b[43m,\u001b[49m\u001b[43m \u001b[49m\u001b[43mzoom\u001b[49m\u001b[38;5;241;43m=\u001b[39;49m\u001b[43mzoom\u001b[49m\u001b[43m,\u001b[49m\u001b[43m \u001b[49m\u001b[43mdate\u001b[49m\u001b[38;5;241;43m=\u001b[39;49m\u001b[43mdate\u001b[49m\u001b[43m)\u001b[49m \n\u001b[1;32m     17\u001b[0m         plt\u001b[38;5;241m.\u001b[39msavefig(outname\u001b[38;5;241m+\u001b[39m\u001b[38;5;124m'\u001b[39m\u001b[38;5;124m.png\u001b[39m\u001b[38;5;124m'\u001b[39m,dpi\u001b[38;5;241m=\u001b[39m\u001b[38;5;241m110\u001b[39m, bbox_inches\u001b[38;5;241m=\u001b[39m\u001b[38;5;124m\"\u001b[39m\u001b[38;5;124mtight\u001b[39m\u001b[38;5;124m\"\u001b[39m)\n\u001b[1;32m     18\u001b[0m \u001b[38;5;66;03m#         fig.clf()\u001b[39;00m\n",
      "Cell \u001b[0;32mIn[12], line 14\u001b[0m, in \u001b[0;36mplot_vort\u001b[0;34m(lon_0, lat_0, zoom, date)\u001b[0m\n\u001b[1;32m     12\u001b[0m     ax \u001b[38;5;241m=\u001b[39m fig\u001b[38;5;241m.\u001b[39madd_axes([\u001b[38;5;241m0.1\u001b[39m,\u001b[38;5;241m0.1\u001b[39m,\u001b[38;5;241m0.8\u001b[39m,\u001b[38;5;241m0.8\u001b[39m])\n\u001b[1;32m     13\u001b[0m     ax\u001b[38;5;241m.\u001b[39maxis(\u001b[38;5;124m'\u001b[39m\u001b[38;5;124moff\u001b[39m\u001b[38;5;124m'\u001b[39m) \u001b[38;5;66;03m# hide axis frame\u001b[39;00m\n\u001b[0;32m---> 14\u001b[0m     x,y \u001b[38;5;241m=\u001b[39m m(\u001b[38;5;241m*\u001b[39m(\u001b[43mlon_t\u001b[49m, lat_t))\n\u001b[1;32m     15\u001b[0m     vv \u001b[38;5;241m=\u001b[39m vort\u001b[38;5;241m.\u001b[39msel(time\u001b[38;5;241m=\u001b[39mdate, method\u001b[38;5;241m=\u001b[39m\u001b[38;5;124m'\u001b[39m\u001b[38;5;124mnearest\u001b[39m\u001b[38;5;124m'\u001b[39m)\u001b[38;5;241m*\u001b[39mnp\u001b[38;5;241m.\u001b[39msign(lat_t)\n\u001b[1;32m     16\u001b[0m \u001b[38;5;66;03m# TODO: also select spatial region to reduce memory load\u001b[39;00m\n",
      "\u001b[0;31mNameError\u001b[0m: name 'lon_t' is not defined"
     ]
    },
    {
     "data": {
      "image/png": "[encoded data removed]",
      "text/plain": [
       "<Figure size 1000x1000 with 1 Axes>"
      ]
     },
     "metadata": {},
     "output_type": "display_data"
    }
   ],
   "source": [
    "# for frame in range(0,365*6*10,2):\n",
    "#     date = tstart + pd.DateOffset(days=int(frame/5))\n",
    "\n",
    "for frame in range(0,360*7):\n",
    "    date = tstart + pd.DateOffset(days=int(frame))\n",
    "    lat, lon, zoom = camera(frame)\n",
    "    outname = NOSYNC+'vortmovie/'+ekey+'_vorticity_'+\\\n",
    "            str(frame).zfill(5)+'_'+\\\n",
    "            date.strftime('%Y_%m_%d')+'_'+\\\n",
    "            str(round(lon,2)).zfill(7)+'_'+str(round(lat,2)).zfill(7)+'_'+str(zoom).zfill(2)\n",
    "    if os.path.exists(os.path.join(figdir, outname+'.png')):\n",
    "        print('Skipping ' + outname + ' (file exists)')\n",
    "    else:\n",
    "        print('memory available:', psutil.virtual_memory().available/1024/1024, 'Mb')\n",
    "        print('Doing ' + outname)\n",
    "        fig = plot_vort(lon_0=lon, lat_0=lat, zoom=zoom, date=date) \n",
    "        plt.savefig(outname+'.png',dpi=110, bbox_inches=\"tight\")\n",
    "#         fig.clf()\n",
    "        plt.close()\n",
    "        gc.collect() # to avoid running out of memory....? doesn't make a difference?"
   ]
  },
  {
   "cell_type": "code",
   "execution_count": 15,
   "id": "63eeba4b",
   "metadata": {},
   "outputs": [
    {
     "ename": "NameError",
     "evalue": "name 'STOPHERE' is not defined",
     "output_type": "error",
     "traceback": [
      "\u001b[0;31m---------------------------------------------------------------------------\u001b[0m",
      "\u001b[0;31mNameError\u001b[0m                                 Traceback (most recent call last)",
      "Cell \u001b[0;32mIn[15], line 1\u001b[0m\n\u001b[0;32m----> 1\u001b[0m \u001b[43mSTOPHERE\u001b[49m\n",
      "\u001b[0;31mNameError\u001b[0m: name 'STOPHERE' is not defined"
     ]
    }
   ],
   "source": [
    "STOPHERE"
   ]
  },
  {
   "cell_type": "code",
   "execution_count": 16,
   "id": "e36dafdd",
   "metadata": {},
   "outputs": [
    {
     "ename": "NameError",
     "evalue": "name 'lon_t' is not defined",
     "output_type": "error",
     "traceback": [
      "\u001b[0;31m---------------------------------------------------------------------------\u001b[0m",
      "\u001b[0;31mNameError\u001b[0m                                 Traceback (most recent call last)",
      "Cell \u001b[0;32mIn[16], line 1\u001b[0m\n\u001b[0;32m----> 1\u001b[0m \u001b[43mplot_vort\u001b[49m\u001b[43m(\u001b[49m\u001b[43mlon_0\u001b[49m\u001b[38;5;241;43m=\u001b[39;49m\u001b[38;5;241;43m0\u001b[39;49m\u001b[43m,\u001b[49m\u001b[43m \u001b[49m\u001b[43mlat_0\u001b[49m\u001b[38;5;241;43m=\u001b[39;49m\u001b[38;5;241;43m90\u001b[39;49m\u001b[43m,\u001b[49m\u001b[43m \u001b[49m\u001b[43mzoom\u001b[49m\u001b[38;5;241;43m=\u001b[39;49m\u001b[38;5;241;43m20\u001b[39;49m\u001b[43m,\u001b[49m\u001b[43m \u001b[49m\u001b[43mdate\u001b[49m\u001b[38;5;241;43m=\u001b[39;49m\u001b[43mtstart\u001b[49m\u001b[43m)\u001b[49m\n",
      "Cell \u001b[0;32mIn[12], line 14\u001b[0m, in \u001b[0;36mplot_vort\u001b[0;34m(lon_0, lat_0, zoom, date)\u001b[0m\n\u001b[1;32m     12\u001b[0m     ax \u001b[38;5;241m=\u001b[39m fig\u001b[38;5;241m.\u001b[39madd_axes([\u001b[38;5;241m0.1\u001b[39m,\u001b[38;5;241m0.1\u001b[39m,\u001b[38;5;241m0.8\u001b[39m,\u001b[38;5;241m0.8\u001b[39m])\n\u001b[1;32m     13\u001b[0m     ax\u001b[38;5;241m.\u001b[39maxis(\u001b[38;5;124m'\u001b[39m\u001b[38;5;124moff\u001b[39m\u001b[38;5;124m'\u001b[39m) \u001b[38;5;66;03m# hide axis frame\u001b[39;00m\n\u001b[0;32m---> 14\u001b[0m     x,y \u001b[38;5;241m=\u001b[39m m(\u001b[38;5;241m*\u001b[39m(\u001b[43mlon_t\u001b[49m, lat_t))\n\u001b[1;32m     15\u001b[0m     vv \u001b[38;5;241m=\u001b[39m vort\u001b[38;5;241m.\u001b[39msel(time\u001b[38;5;241m=\u001b[39mdate, method\u001b[38;5;241m=\u001b[39m\u001b[38;5;124m'\u001b[39m\u001b[38;5;124mnearest\u001b[39m\u001b[38;5;124m'\u001b[39m)\u001b[38;5;241m*\u001b[39mnp\u001b[38;5;241m.\u001b[39msign(lat_t)\n\u001b[1;32m     16\u001b[0m \u001b[38;5;66;03m# TODO: also select spatial region to reduce memory load\u001b[39;00m\n",
      "\u001b[0;31mNameError\u001b[0m: name 'lon_t' is not defined"
     ]
    },
    {
     "data": {
      "image/png": "[encoded data removed]",
      "text/plain": [
       "<Figure size 1000x1000 with 1 Axes>"
      ]
     },
     "metadata": {},
     "output_type": "display_data"
    }
   ],
   "source": [
    "plot_vort(lon_0=0, lat_0=90, zoom=20, date=tstart)"
   ]
  },
  {
   "cell_type": "code",
   "execution_count": 17,
   "id": "45e7fc78",
   "metadata": {},
   "outputs": [
    {
     "ename": "NameError",
     "evalue": "name 'lon_t' is not defined",
     "output_type": "error",
     "traceback": [
      "\u001b[0;31m---------------------------------------------------------------------------\u001b[0m",
      "\u001b[0;31mNameError\u001b[0m                                 Traceback (most recent call last)",
      "Cell \u001b[0;32mIn[17], line 5\u001b[0m\n\u001b[1;32m      3\u001b[0m \u001b[38;5;66;03m#     m = Basemap(projection='mbtfpq', lon_0 = -100, resolution='l')\u001b[39;00m\n\u001b[1;32m      4\u001b[0m     m \u001b[38;5;241m=\u001b[39m Basemap(projection\u001b[38;5;241m=\u001b[39m\u001b[38;5;124m'\u001b[39m\u001b[38;5;124mcyl\u001b[39m\u001b[38;5;124m'\u001b[39m, lon_0 \u001b[38;5;241m=\u001b[39m \u001b[38;5;241m-\u001b[39m\u001b[38;5;241m100\u001b[39m, resolution\u001b[38;5;241m=\u001b[39m\u001b[38;5;124m'\u001b[39m\u001b[38;5;124ml\u001b[39m\u001b[38;5;124m'\u001b[39m)\n\u001b[0;32m----> 5\u001b[0m     x,y \u001b[38;5;241m=\u001b[39m m(\u001b[38;5;241m*\u001b[39m(\u001b[43mlon_t\u001b[49m, lat_t))\n\u001b[1;32m      6\u001b[0m     vv \u001b[38;5;241m=\u001b[39m vortsnap\u001b[38;5;241m*\u001b[39mnp\u001b[38;5;241m.\u001b[39msign(y) \u001b[38;5;66;03m# NB: sets vv=0 on equator\u001b[39;00m\n\u001b[1;32m      7\u001b[0m     \u001b[38;5;66;03m# m = Basemap(projection ='npstere',boundinglat=48,lon_0=0,resolution='l')\u001b[39;00m\n",
      "\u001b[0;31mNameError\u001b[0m: name 'lon_t' is not defined"
     ]
    },
    {
     "data": {
      "text/plain": [
       "<Figure size 1600x1000 with 0 Axes>"
      ]
     },
     "metadata": {},
     "output_type": "display_data"
    }
   ],
   "source": [
    "for locname,loc in locations.items():\n",
    "    fig = plt.figure(figsize=(16,10))\n",
    "#     m = Basemap(projection='mbtfpq', lon_0 = -100, resolution='l')\n",
    "    m = Basemap(projection='cyl', lon_0 = -100, resolution='l')\n",
    "    x,y = m(*(lon_t, lat_t))\n",
    "    vv = vortsnap*np.sign(y) # NB: sets vv=0 on equator\n",
    "    # m = Basemap(projection ='npstere',boundinglat=48,lon_0=0,resolution='l')\n",
    "    m.drawmapboundary(fill_color='gray') # background color - for non-ocean areas\n",
    "    ctr = m.contourf(x, y, vv, levels=levels, cmap=vortcmap, extend='both')\n",
    "    # ctr = m.contourf(x, y, vv) #, levels=levels, cmap=cm.cm.balance)\n",
    "    ctr.cmap.set_over(color='w', alpha=None)\n",
    "    ctr.cmap.set_under(color='w', alpha=None)\n",
    "    cbar = m.colorbar(ctr, location = 'bottom', pad = \"6%\")\n",
    "    cbar.set_label('Relative vorticity * sign(f) (1/s)',size=tick_font)\n",
    "    plt.xlim(loc[0],loc[1])\n",
    "    plt.ylim(loc[2],loc[3])\n",
    "    savefigure(locname)\n",
    "    break\n",
    "\n",
    "\n",
    "# parallels = np.arange(-80.,81,10.)\n",
    "# m.drawparallels(parallels,color='white',linewidth=0.5)\n",
    "# meridians = np.arange(0.,351.,30.)\n",
    "# m.drawmeridians(meridians,labels=[True,False,False,True],size=tick_font,color='white',linewidth=0.5)"
   ]
  },
  {
   "cell_type": "code",
   "execution_count": null,
   "id": "1e32a69d",
   "metadata": {
    "scrolled": true
   },
   "outputs": [],
   "source": [
    "ekey = '01deg'\n",
    "plot_vort(lat_0=-65, zoom=2, date=tstart)\n"
   ]
  },
  {
   "cell_type": "code",
   "execution_count": null,
   "id": "9b9de426",
   "metadata": {
    "scrolled": true
   },
   "outputs": [],
   "source": [
    "frame=2.5*720\n",
    "lat, lon, zoom=camera(frame)\n",
    "plot_vort(lon_0=lon, lat_0=lat, zoom=zoom, date=tstart + pd.DateOffset(days=int(frame)))\n",
    "plt.savefig('test110dpi-5.png',dpi=110, bbox_inches=\"tight\")"
   ]
  },
  {
   "cell_type": "code",
   "execution_count": null,
   "id": "110f285e",
   "metadata": {},
   "outputs": [],
   "source": [
    "STOPHERE"
   ]
  },
  {
   "cell_type": "code",
   "execution_count": null,
   "id": "2da8e1ac",
   "metadata": {},
   "outputs": [],
   "source": [
    "# plot vorticity globally\n",
    "vmax = 1e-4\n",
    "fig = plt.figure(figsize=(16,10))\n",
    "vv = vortsnap\n",
    "cax = plt.pcolormesh(vv.xt_ocean_sub01, vv.yt_ocean_sub01, vv, \n",
    "                    shading='flat', cmap=vortcmap, vmin=-vmax, vmax=vmax)\n",
    "plt.title(exptdata.exptdict[ekey]['desc'], fontsize=12)\n",
    "fig.colorbar(cax,shrink=0.8,label='Vertical relative vorticity (1/s)',extend='both')\n",
    "fig.tight_layout(rect=[0, 0.03, 1, 0.95])\n",
    "#     savefigure(locname+'_clim')"
   ]
  },
  {
   "cell_type": "code",
   "execution_count": null,
   "id": "d5addaea",
   "metadata": {},
   "outputs": [],
   "source": [
    "# plot vorticity in each location\n",
    "vmax = 1e-4\n",
    "ncols = 2\n",
    "nrows = math.ceil((len(locations))/ncols)\n",
    "i = 0\n",
    "for locname,loc in locations.items():\n",
    "    i = i + 1\n",
    "    fig = plt.figure(figsize=(16,10))\n",
    "    ax = fig.add_subplot(ncols, nrows, i)\n",
    "    print(loc)\n",
    "    vv = vortsnap.sel(yt_ocean_sub01=slice(loc[2],loc[3])) #.sel(xt_ocean_sub01=slice(loc[0],loc[1]))\n",
    "    cax = ax.pcolormesh(vv.xt_ocean_sub01, vv.yt_ocean_sub01, vv, \n",
    "                        shading='flat', cmap=vortcmap, vmin=-vmax, vmax=vmax)\n",
    "    plt.title(locname + ', ' + exptdata.exptdict[ekey]['desc'], fontsize=12)\n",
    "    plt.xlim(loc[0],loc[1])\n",
    "    plt.ylim(loc[2],loc[3])\n",
    "    fig.colorbar(cax,shrink=0.8,label='Vertical relative vorticity (1/s)',extend='max')\n",
    "    fig.tight_layout(rect=[0, 0.03, 1, 0.95])\n",
    "#     savefigure(locname+'_clim')"
   ]
  },
  {
   "cell_type": "code",
   "execution_count": null,
   "id": "d5f4fa6d",
   "metadata": {},
   "outputs": [],
   "source": [
    "STOPHERE\n",
    "# code below is from pv.ipynb"
   ]
  },
  {
   "cell_type": "code",
   "execution_count": null,
   "id": "45c640e6",
   "metadata": {},
   "outputs": [],
   "source": [
    "# load model speed climatologies and snapshots\n",
    "speeds = copy.deepcopy(exptdata.exptdict)  # this will store speed fields under the same keys as exptdata.exptdict\n",
    "for ekey in speeds.keys():\n",
    "     if ekey=='01deg': # for testing\n",
    "        expt = speeds[ekey]['expt']\n",
    "        print(ekey)\n",
    "\n",
    "        ## Load PV from expt\n",
    "        darray = cc.querying.getvar(session=session, expt=expt, variable='vert_pv')\n",
    "        pvall = darray\n",
    "        pvall = pvall.sel(st_ocean=slice(0,1000)).mean('st_ocean')\n",
    "\n",
    "        tend = pvall['time'].data[-1]  # final time in model data\n",
    "        tstart = pvall['time'].data[0]  # first time in model data\n",
    "        tclimend = tend  # end of climatology  --  NB: type should be numpy.datetime64 but might be <class 'datetime.datetime'>\n",
    "        if isinstance(tclimend, np.datetime64):\n",
    "            tclimstart = pd.to_datetime(tclimend) - pd.DateOffset(years=clim_years) + pd.DateOffset(days=1)  # start of climatology\n",
    "            tclimstart = tclimstart.to_datetime64()  # match to time type\n",
    "        else:\n",
    "            tclimstart = tclimend - pd.DateOffset(years=clim_years) + pd.DateOffset(days=1)  # start of climatology\n",
    "\n",
    "#         pv = pvall.isel(st_ocean=0).sel(time=slice(tclimstart,tclimend)).mean('time')\n",
    "#         pv_snap = pvall.isel(st_ocean=0).isel(time=-1)\n",
    "        pv = pvall.sel(time=slice(tclimstart,tclimend)).mean('time')\n",
    "        pv_snap = pvall.isel(time=-1)\n",
    "\n",
    "\n",
    "        speeds[ekey]['pv'] = pv\n",
    "        speeds[ekey]['pv_snap'] = pv_snap\n",
    "        speeds[ekey]['tend'] = tend\n",
    "        speeds[ekey]['tstart'] = tstart\n",
    "        speeds[ekey]['tclimend'] = tclimend\n",
    "        speeds[ekey]['tclimstart'] = tclimstart\n",
    "        del(pvall)"
   ]
  },
  {
   "cell_type": "code",
   "execution_count": null,
   "id": "4bb4060e",
   "metadata": {},
   "outputs": [],
   "source": [
    "# plot obs and all model mean speeds in each location\n",
    "vmax = 1e-8\n",
    "ncols = 2\n",
    "nrows = math.ceil((len(speeds)+1)/ncols)\n",
    "for locname,loc in locations.items():\n",
    "    fig = plt.figure(figsize=(16,10))\n",
    "    for i, ekey in enumerate(speeds.keys()):\n",
    "        if ekey=='01deg': # for testing\n",
    "            ax = fig.add_subplot(ncols, nrows, i+2)\n",
    "            speed = speeds[ekey]['pv'].sel(yt_ocean=slice(loc[2],loc[3])).sel(xt_ocean=slice(loc[0],loc[1]))\n",
    "            cax = ax.pcolormesh(speed.xt_ocean, speed.yt_ocean, speed, \n",
    "                                shading='flat', cmap=cm.cm.balance, vmin=-vmax, vmax=vmax)\n",
    "            plt.title(speeds[ekey]['model'], fontsize=12)\n",
    "            plt.xlim(loc[0],loc[1])\n",
    "            plt.ylim(loc[2],loc[3])\n",
    "            fig.colorbar(cax,shrink=0.8,label='Vertical Ertel PV (UNITS???)',extend='max')\n",
    "    fig.tight_layout(rect=[0, 0.03, 1, 0.95])\n",
    "#     savefigure(locname+'_clim')"
   ]
  },
  {
   "cell_type": "code",
   "execution_count": null,
   "id": "9a5a08b8",
   "metadata": {},
   "outputs": [],
   "source": [
    "# plot obs and all model mean speeds in each location\n",
    "vmax = 1e-8\n",
    "ncols = 2\n",
    "nrows = math.ceil((len(speeds)+1)/ncols)\n",
    "for locname,loc in locations.items():\n",
    "    fig = plt.figure(figsize=(16,10))\n",
    "    for i, ekey in enumerate(speeds.keys()):\n",
    "        if ekey=='01deg': # for testing\n",
    "            ax = fig.add_subplot(ncols, nrows, i+2)\n",
    "            speed = speeds[ekey]['pv_snap'].sel(yt_ocean=slice(loc[2],loc[3])).sel(xt_ocean=slice(loc[0],loc[1]))\n",
    "            cax = ax.pcolormesh(speed.xt_ocean, speed.yt_ocean, speed, \n",
    "                                shading='flat', cmap=cm.cm.balance, vmin=-vmax, vmax=vmax)\n",
    "            plt.title(speeds[ekey]['model'], fontsize=12)\n",
    "            plt.xlim(loc[0],loc[1])\n",
    "            plt.ylim(loc[2],loc[3])\n",
    "            fig.colorbar(cax,shrink=0.8,label='Vertical Ertel PV (UNITS???)',extend='max')\n",
    "    fig.tight_layout(rect=[0, 0.03, 1, 0.95])\n",
    "#     savefigure(locname+'_clim')"
   ]
  },
  {
   "cell_type": "code",
   "execution_count": null,
   "id": "e4b1f56e",
   "metadata": {},
   "outputs": [],
   "source": [
    "# plot obs and all model snapshot speeds in each location\n",
    "\n",
    "# TODO: get 1-day snapshots from ice?\n",
    "\n",
    "vmax = 0.8\n",
    "ncols = 2\n",
    "nrows = math.ceil((len(speeds)+1)/ncols)\n",
    "for locname,loc in locations.items():\n",
    "    fig = plt.figure(figsize=(16,10))\n",
    "    fig.suptitle('Observed surface current climatology and model snapshots - TODO: get 1-day snapshots from ice', fontsize=14)\n",
    "    oloc = copy.copy(loc)\n",
    "    # BUG: this probably won't work for regions that straddle 180E\n",
    "    if oloc[0]<-180:\n",
    "        oloc[0] = oloc[0]+360\n",
    "    if oloc[1]<-180:\n",
    "        oloc[1] = oloc[1]+360\n",
    "    obs_speed_loc = obs_speed.sel(latitude=slice(oloc[2],oloc[3])).sel(longitude=slice(oloc[0],oloc[1]))\n",
    "    ax = fig.add_subplot(ncols, nrows, 1)\n",
    "    cax = ax.pcolormesh(obs_speed_loc.longitude, obs_speed_loc.latitude, np.swapaxes(obs_speed_loc,0,1), \n",
    "                        shading='flat', cmap=cm.cm.thermal, vmin=0, vmax=vmax)\n",
    "    plt.title('Drifter observations (Laurindo et al., 2017)', fontsize=12)\n",
    "    plt.xlim(oloc[0],oloc[1])\n",
    "    plt.ylim(oloc[2],oloc[3])\n",
    "    fig.colorbar(cax,shrink=0.8,label='Speed (m/s)',extend='max')\n",
    "\n",
    "    for i, ekey in enumerate(speeds.keys()):\n",
    "        ax = fig.add_subplot(ncols, nrows, i+2)\n",
    "        speed = speeds[ekey]['speed_snap'].sel(yu_ocean=slice(loc[2],loc[3])).sel(xu_ocean=slice(loc[0],loc[1]))\n",
    "        cax = ax.pcolormesh(speed.xu_ocean, speed.yu_ocean, speed, \n",
    "                            shading='flat', cmap=cm.cm.thermal, vmin=0, vmax=vmax)\n",
    "        plt.title(speeds[ekey]['model'], fontsize=12)\n",
    "        plt.xlim(loc[0],loc[1])\n",
    "        plt.ylim(loc[2],loc[3])\n",
    "        fig.colorbar(cax,shrink=0.8,label='Speed (m/s)',extend='max')\n",
    "    fig.tight_layout(rect=[0, 0.03, 1, 0.95])\n",
    "    savefigure(locname+'_snap')"
   ]
  },
  {
   "cell_type": "code",
   "execution_count": null,
   "id": "284747e4",
   "metadata": {},
   "outputs": [],
   "source": []
  }
 ],
 "metadata": {
  "kernelspec": {
   "display_name": "Python [conda env:analysis3-23.07] *",
   "language": "python",
   "name": "conda-env-analysis3-23.07-py"
  },
  "language_info": {
   "codemirror_mode": {
    "name": "ipython",
    "version": 3
   },
   "file_extension": ".py",
   "mimetype": "text/x-python",
   "name": "python",
   "nbconvert_exporter": "python",
   "pygments_lexer": "ipython3",
   "version": "3.10.12"
  }
 },
 "nbformat": 4,
 "nbformat_minor": 5
}

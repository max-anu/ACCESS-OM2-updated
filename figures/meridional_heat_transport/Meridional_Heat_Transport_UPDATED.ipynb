{
 "cells": [
  {
   "cell_type": "markdown",
   "id": "fba01da8",
   "metadata": {
    "ein.tags": "worksheet-0",
    "slideshow": {
     "slide_type": "-"
    }
   },
   "source": [
    "# Calculate and plot meridional heat transport"
   ]
  },
  {
   "cell_type": "markdown",
   "id": "4119b737",
   "metadata": {
    "ein.tags": "worksheet-0",
    "slideshow": {
     "slide_type": "-"
    }
   },
   "source": [
    "## Uses two methods because of diagnostics available:\n",
    "- From surface heat flux assuming steady state\n",
    "- From temp_yflux_adv diagnostic (so does not include submeso or gm/diffusion if they are on)"
   ]
  },
  {
   "cell_type": "code",
   "execution_count": 1,
   "id": "df71a0ae",
   "metadata": {
    "autoscroll": false,
    "ein.tags": "worksheet-0",
    "slideshow": {
     "slide_type": "-"
    }
   },
   "outputs": [
    {
     "name": "stdout",
     "output_type": "stream",
     "text": [
      "Available exptdata keys:  ['1deg', '025deg', '01deg']\n"
     ]
    }
   ],
   "source": [
    "%matplotlib inline\n",
    "\n",
    "import pandas as pd\n",
    "import cosima_cookbook as cc\n",
    "import matplotlib.pyplot as plt\n",
    "import matplotlib\n",
    "import xarray as xr\n",
    "import numpy as np\n",
    "import pandas as pd\n",
    "import IPython.display\n",
    "import cmocean as c\n",
    "from dask.distributed import Client\n",
    "\n",
    "\n",
    "import sys, os\n",
    "\n",
    "os.chdir(os.path.join(os.getcwd(), \"ACCESS-OM2-updated/figures/meridional_heat_transport\"))\n",
    "sys.path.append(os.path.join(os.getcwd(), '..'))  # so we can import ../exptdata\n",
    "import exptdata\n",
    "\n",
    "print('Available exptdata keys: ', [k for k in exptdata.exptdict.keys()])"
   ]
  },
  {
   "cell_type": "code",
   "execution_count": 2,
   "id": "d5904fa2",
   "metadata": {
    "autoscroll": false,
    "ein.tags": "worksheet-0",
    "slideshow": {
     "slide_type": "-"
    }
   },
   "outputs": [],
   "source": [
    "# Set 1-degree data to be different for MHT diagnostics:\n",
    "exptdata.exptdict['1deg']['exptdir'] = '/g/data3/hh5/tmp/cosima/access-om2/1deg_jra55v13_iaf_spinup1_B1_lastcycle'\n",
    "exptdata.exptdict['1deg']['expt'] = '1deg_jra55v13_iaf_spinup1_B1_lastcycle'\n",
    "\n",
    "tstart = exptdata.clim_tstart\n",
    "tend = exptdata.clim_tend"
   ]
  },
  {
   "cell_type": "code",
   "execution_count": 3,
   "id": "5cf86409",
   "metadata": {
    "autoscroll": false,
    "ein.tags": "worksheet-0",
    "slideshow": {
     "slide_type": "-"
    }
   },
   "outputs": [],
   "source": [
    "figdir = ''\n",
    "def savefigure(fname):\n",
    "    plt.savefig(os.path.join(figdir, fname+'.png'),dpi=300, bbox_inches=\"tight\")  # comment out to disable saving\n",
    "    plt.savefig(os.path.join(figdir, fname+'.pdf'),dpi=300, bbox_inches=\"tight\")  # comment out to disable saving\n",
    "    return"
   ]
  },
  {
   "cell_type": "code",
   "execution_count": 4,
   "id": "ab9214d7",
   "metadata": {
    "autoscroll": false,
    "ein.tags": "worksheet-0",
    "slideshow": {
     "slide_type": "-"
    }
   },
   "outputs": [
    {
     "data": {
      "text/html": [
       "<div>\n",
       "    <div style=\"width: 24px; height: 24px; background-color: #e1e1e1; border: 3px solid #9D9D9D; border-radius: 5px; position: absolute;\"> </div>\n",
       "    <div style=\"margin-left: 48px;\">\n",
       "        <h3 style=\"margin-bottom: 0px;\">Client</h3>\n",
       "        <p style=\"color: #9D9D9D; margin-bottom: 0px;\">Client-436da2a4-73a1-11ee-ba4b-00000764fe80</p>\n",
       "        <table style=\"width: 100%; text-align: left;\">\n",
       "\n",
       "        <tr>\n",
       "        \n",
       "            <td style=\"text-align: left;\"><strong>Connection method:</strong> Direct</td>\n",
       "            <td style=\"text-align: left;\"></td>\n",
       "        \n",
       "        </tr>\n",
       "\n",
       "        \n",
       "            <tr>\n",
       "                <td style=\"text-align: left;\">\n",
       "                    <strong>Dashboard: </strong> <a href=\"/proxy/8787/status\" target=\"_blank\">/proxy/8787/status</a>\n",
       "                </td>\n",
       "                <td style=\"text-align: left;\"></td>\n",
       "            </tr>\n",
       "        \n",
       "\n",
       "        </table>\n",
       "\n",
       "        \n",
       "            <button style=\"margin-bottom: 12px;\" data-commandlinker-command=\"dask:populate-and-launch-layout\" data-commandlinker-args='{\"url\": \"/proxy/8787/status\" }'>\n",
       "                Launch dashboard in JupyterLab\n",
       "            </button>\n",
       "        \n",
       "\n",
       "        \n",
       "            <details>\n",
       "            <summary style=\"margin-bottom: 20px;\"><h3 style=\"display: inline;\">Scheduler Info</h3></summary>\n",
       "            <div style=\"\">\n",
       "    <div>\n",
       "        <div style=\"width: 24px; height: 24px; background-color: #FFF7E5; border: 3px solid #FF6132; border-radius: 5px; position: absolute;\"> </div>\n",
       "        <div style=\"margin-left: 48px;\">\n",
       "            <h3 style=\"margin-bottom: 0px;\">Scheduler</h3>\n",
       "            <p style=\"color: #9D9D9D; margin-bottom: 0px;\">Scheduler-cb4a6f72-b99f-42dd-8b83-8285b175f949</p>\n",
       "            <table style=\"width: 100%; text-align: left;\">\n",
       "                <tr>\n",
       "                    <td style=\"text-align: left;\">\n",
       "                        <strong>Comm:</strong> tcp://10.6.122.47:8786\n",
       "                    </td>\n",
       "                    <td style=\"text-align: left;\">\n",
       "                        <strong>Workers:</strong> 1\n",
       "                    </td>\n",
       "                </tr>\n",
       "                <tr>\n",
       "                    <td style=\"text-align: left;\">\n",
       "                        <strong>Dashboard:</strong> <a href=\"/proxy/8787/status\" target=\"_blank\">/proxy/8787/status</a>\n",
       "                    </td>\n",
       "                    <td style=\"text-align: left;\">\n",
       "                        <strong>Total threads:</strong> 28\n",
       "                    </td>\n",
       "                </tr>\n",
       "                <tr>\n",
       "                    <td style=\"text-align: left;\">\n",
       "                        <strong>Started:</strong> 43 minutes ago\n",
       "                    </td>\n",
       "                    <td style=\"text-align: left;\">\n",
       "                        <strong>Total memory:</strong> 126.00 GiB\n",
       "                    </td>\n",
       "                </tr>\n",
       "            </table>\n",
       "        </div>\n",
       "    </div>\n",
       "\n",
       "    <details style=\"margin-left: 48px;\">\n",
       "        <summary style=\"margin-bottom: 20px;\">\n",
       "            <h3 style=\"display: inline;\">Workers</h3>\n",
       "        </summary>\n",
       "\n",
       "        \n",
       "        <div style=\"margin-bottom: 20px;\">\n",
       "            <div style=\"width: 24px; height: 24px; background-color: #DBF5FF; border: 3px solid #4CC9FF; border-radius: 5px; position: absolute;\"> </div>\n",
       "            <div style=\"margin-left: 48px;\">\n",
       "            <details>\n",
       "                <summary>\n",
       "                    <h4 style=\"margin-bottom: 0px; display: inline;\">Worker: tcp://10.6.122.47:37795</h4>\n",
       "                </summary>\n",
       "                <table style=\"width: 100%; text-align: left;\">\n",
       "                    <tr>\n",
       "                        <td style=\"text-align: left;\">\n",
       "                            <strong>Comm: </strong> tcp://10.6.122.47:37795\n",
       "                        </td>\n",
       "                        <td style=\"text-align: left;\">\n",
       "                            <strong>Total threads: </strong> 28\n",
       "                        </td>\n",
       "                    </tr>\n",
       "                    <tr>\n",
       "                        <td style=\"text-align: left;\">\n",
       "                            <strong>Dashboard: </strong> <a href=\"/proxy/35465/status\" target=\"_blank\">/proxy/35465/status</a>\n",
       "                        </td>\n",
       "                        <td style=\"text-align: left;\">\n",
       "                            <strong>Memory: </strong> 126.00 GiB\n",
       "                        </td>\n",
       "                    </tr>\n",
       "                    <tr>\n",
       "                        <td style=\"text-align: left;\">\n",
       "                            <strong>Nanny: </strong> tcp://10.6.122.47:33005\n",
       "                        </td>\n",
       "                        <td style=\"text-align: left;\"></td>\n",
       "                    </tr>\n",
       "                    <tr>\n",
       "                        <td colspan=\"2\" style=\"text-align: left;\">\n",
       "                            <strong>Local directory: </strong> /scratch/iq82/mp7041/dasktmp4/dask-scratch-space/worker-sdafcvyu\n",
       "                        </td>\n",
       "                    </tr>\n",
       "\n",
       "                    \n",
       "\n",
       "                    \n",
       "                    <tr>\n",
       "                        <td style=\"text-align: left;\">\n",
       "                            <strong>Tasks executing: </strong> \n",
       "                        </td>\n",
       "                        <td style=\"text-align: left;\">\n",
       "                            <strong>Tasks in memory: </strong> \n",
       "                        </td>\n",
       "                    </tr>\n",
       "                    <tr>\n",
       "                        <td style=\"text-align: left;\">\n",
       "                            <strong>Tasks ready: </strong> \n",
       "                        </td>\n",
       "                        <td style=\"text-align: left;\">\n",
       "                            <strong>Tasks in flight: </strong>\n",
       "                        </td>\n",
       "                    </tr>\n",
       "                    <tr>\n",
       "                        <td style=\"text-align: left;\">\n",
       "                            <strong>CPU usage:</strong> 4.0%\n",
       "                        </td>\n",
       "                        <td style=\"text-align: left;\">\n",
       "                            <strong>Last seen: </strong> Just now\n",
       "                        </td>\n",
       "                    </tr>\n",
       "                    <tr>\n",
       "                        <td style=\"text-align: left;\">\n",
       "                            <strong>Memory usage: </strong> 1.70 GiB\n",
       "                        </td>\n",
       "                        <td style=\"text-align: left;\">\n",
       "                            <strong>Spilled bytes: </strong> 0 B\n",
       "                        </td>\n",
       "                    </tr>\n",
       "                    <tr>\n",
       "                        <td style=\"text-align: left;\">\n",
       "                            <strong>Read bytes: </strong> 9.39 kiB\n",
       "                        </td>\n",
       "                        <td style=\"text-align: left;\">\n",
       "                            <strong>Write bytes: </strong> 11.22 kiB\n",
       "                        </td>\n",
       "                    </tr>\n",
       "                    \n",
       "\n",
       "                </table>\n",
       "            </details>\n",
       "            </div>\n",
       "        </div>\n",
       "        \n",
       "\n",
       "    </details>\n",
       "</div>\n",
       "            </details>\n",
       "        \n",
       "\n",
       "    </div>\n",
       "</div>"
      ],
      "text/plain": [
       "<Client: 'tcp://10.6.122.47:8786' processes=1 threads=28, memory=126.00 GiB>"
      ]
     },
     "execution_count": 4,
     "metadata": {},
     "output_type": "execute_result"
    }
   ],
   "source": [
    "#cc.start_cluster()\n",
    "client = Client(\"tcp://10.6.122.47:8786\")\n",
    "client"
   ]
  },
  {
   "cell_type": "code",
   "execution_count": 5,
   "id": "f7b385b6",
   "metadata": {},
   "outputs": [],
   "source": [
    "session = cc.database.create_session()"
   ]
  },
  {
   "cell_type": "code",
   "execution_count": 6,
   "id": "9b2031cc",
   "metadata": {
    "autoscroll": false,
    "ein.tags": "worksheet-0",
    "slideshow": {
     "slide_type": "-"
    }
   },
   "outputs": [],
   "source": [
    "# use int_z MHT diagnostics:\n",
    "def find_MHF_intz(ekey):\n",
    "    expt = exptdata.exptdict[ekey]['expt']\n",
    "    n_files = exptdata.exptdict[ekey]['n_files']\n",
    "    # n_files = 1\n",
    "    time_units = exptdata.exptdict[ekey]['time_units']\n",
    "    offset = exptdata.exptdict[ekey]['offset']\n",
    "\n",
    "    darray = cc.querying.getvar(session=session, expt=expt, variable='temp_yflux_adv_int_z', n=n_files, use_cache=False)\n",
    "    if offset:\n",
    "        td = pd.Timedelta(days=offset)\n",
    "        darray = darray.assign_coords(time=darray.time + td)\n",
    "    temp_yflux_adv = darray\n",
    "    darray = cc.querying.getvar(session=session, expt=expt, variable='temp_yflux_submeso_int_z', n=n_files)\n",
    "    if offset:\n",
    "        td = pd.Timedelta(days=offset)\n",
    "        darray = darray.assign_coords(time=darray.time + td)\n",
    "    temp_yflux_submeso = darray\n",
    "    MHF = (temp_yflux_adv.sel(time=slice(tstart,tend)).mean('time').sum('xt_ocean')+temp_yflux_submeso.sel(time=slice(tstart,tend)).mean('time').sum('xt_ocean')).load()\n",
    "    if (ekey != '01deg'):\n",
    "        darray = cc.querying.getvar(session=session, expt=expt, variable='temp_yflux_gm_int_z', n=n_files)\n",
    "        if offset:\n",
    "            td = pd.Timedelta(days=offset)\n",
    "            darray = darray.assign_coords(time=darray.time + td)\n",
    "        temp_yflux_gm = darray\n",
    "        darray = cc.querying.getvar(session=session, expt=expt, variable='temp_yflux_ndiffuse_int_z', n=n_files)\n",
    "        if offset:\n",
    "            td = pd.Timedelta(days=offset)\n",
    "            darray = darray.assign_coords(time=darray.time + td)\n",
    "        temp_yflux_ndiffuse = darray\n",
    "        MHF = MHF + (temp_yflux_gm.sel(time=slice(tstart,tend)).mean('time').sum('xt_ocean')+temp_yflux_ndiffuse.sel(time=slice(tstart,tend)).mean('time').sum('xt_ocean')).load()\n",
    "\n",
    "    darray = cc.querying.getvar(session=session, expt=expt, variable='yu_ocean', n=1)\n",
    "    latv = darray.load()\n",
    "    return latv, MHF"
   ]
  },
  {
   "cell_type": "code",
   "execution_count": 7,
   "id": "c438709d",
   "metadata": {
    "autoscroll": false,
    "ein.tags": "worksheet-0",
    "slideshow": {
     "slide_type": "-"
    }
   },
   "outputs": [
    {
     "data": {
      "text/plain": [
       "(-2.0, 2.5)"
      ]
     },
     "execution_count": 7,
     "metadata": {},
     "output_type": "execute_result"
    },
    {
     "data": {
      "image/png": "[encoded data removed]",
      "text/plain": [
       "<Figure size 640x480 with 1 Axes>"
      ]
     },
     "metadata": {},
     "output_type": "display_data"
    }
   ],
   "source": [
    "# Read in observed meridional heat transport from Trenberth and Caron (http://www.cgd.ucar.edu/cas/catalog/ocean/ohts/rean_ohts.html)\n",
    "df=pd.read_csv('ANNUAL_TRANSPORTS_1985_1989.ascii.txt', sep=' ',skiprows=1,skipinitialspace=True)\n",
    "obs_lat = df.values[:,0]/100.\n",
    "obs_ncep = df.values[:,6]/100.\n",
    "obs_ncep_er = df.values[:,10]/100\n",
    "obs_ecmwf = df.values[:,14]/100.\n",
    "obs_ecmwf_er = df.values[:,18]/100.\n",
    "plt.errorbar(obs_lat[::5],obs_ncep[::5],yerr=obs_ncep_er[::5],fmt='xk',capsize=5)\n",
    "plt.errorbar(obs_lat[::5],obs_ecmwf[::5],yerr=obs_ecmwf_er[::5],fmt='ok',capsize=5)\n",
    "plt.ylim([-2, 2.5])\n",
    "\n",
    "# Read in observed MHT from Ganachaud and Wunsch 2000 (\n",
    "df=pd.read_csv('GW2003_GlobalMHT.txt', sep=' ',skiprows=0,skipinitialspace=True)\n",
    "obsGW2003_lat = df.values[:,0]\n",
    "obsGW2003_mht = df.values[:,1]\n",
    "obsGW2003_mhte = df.values[:,2]\n",
    "plt.errorbar(obsGW2003_lat,obsGW2003_mht,yerr=obsGW2003_mhte,fmt='dr',capsize=5)\n",
    "plt.ylim([-2, 2.5])"
   ]
  },
  {
   "cell_type": "code",
   "execution_count": 8,
   "id": "6a5c0ae1",
   "metadata": {
    "autoscroll": false,
    "ein.tags": "worksheet-0",
    "slideshow": {
     "slide_type": "-"
    }
   },
   "outputs": [
    {
     "ename": "VariableNotFoundError",
     "evalue": "No files were found containing 'temp_yflux_adv_int_z' in the '1deg_jra55v13_iaf_spinup1_B1_lastcycle' experiment",
     "output_type": "error",
     "traceback": [
      "\u001b[0;31m---------------------------------------------------------------------------\u001b[0m",
      "\u001b[0;31mVariableNotFoundError\u001b[0m                     Traceback (most recent call last)",
      "Cell \u001b[0;32mIn[8], line 6\u001b[0m\n\u001b[1;32m      4\u001b[0m plt\u001b[38;5;241m.\u001b[39mylabel(\u001b[38;5;124m'\u001b[39m\u001b[38;5;124mMeridional Heat Flux (PW)\u001b[39m\u001b[38;5;124m'\u001b[39m)\n\u001b[1;32m      5\u001b[0m \u001b[38;5;28;01mfor\u001b[39;00m i, ekey \u001b[38;5;129;01min\u001b[39;00m \u001b[38;5;28menumerate\u001b[39m(exptdata\u001b[38;5;241m.\u001b[39mexptdict\u001b[38;5;241m.\u001b[39mkeys()):\n\u001b[0;32m----> 6\u001b[0m     latv, MHF \u001b[38;5;241m=\u001b[39m \u001b[43mfind_MHF_intz\u001b[49m\u001b[43m(\u001b[49m\u001b[43mekey\u001b[49m\u001b[43m)\u001b[49m\n\u001b[1;32m      8\u001b[0m     hand \u001b[38;5;241m=\u001b[39m plt\u001b[38;5;241m.\u001b[39mplot(latv,MHF\u001b[38;5;241m/\u001b[39m\u001b[38;5;241m1.e15\u001b[39m,linewidth\u001b[38;5;241m=\u001b[39m\u001b[38;5;241m2\u001b[39m, label\u001b[38;5;241m=\u001b[39mexptdata\u001b[38;5;241m.\u001b[39mexptdict[ekey][\u001b[38;5;124m'\u001b[39m\u001b[38;5;124mdesc\u001b[39m\u001b[38;5;124m'\u001b[39m])\n\u001b[1;32m     10\u001b[0m plt\u001b[38;5;241m.\u001b[39mplot(obs_lat,obs_ncep,\u001b[38;5;124m'\u001b[39m\u001b[38;5;124mxk\u001b[39m\u001b[38;5;124m'\u001b[39m,label\u001b[38;5;241m=\u001b[39m\u001b[38;5;124m'\u001b[39m\u001b[38;5;124mNCEP\u001b[39m\u001b[38;5;124m'\u001b[39m, markersize\u001b[38;5;241m=\u001b[39m\u001b[38;5;241m6\u001b[39m)\n",
      "Cell \u001b[0;32mIn[6], line 9\u001b[0m, in \u001b[0;36mfind_MHF_intz\u001b[0;34m(ekey)\u001b[0m\n\u001b[1;32m      6\u001b[0m time_units \u001b[38;5;241m=\u001b[39m exptdata\u001b[38;5;241m.\u001b[39mexptdict[ekey][\u001b[38;5;124m'\u001b[39m\u001b[38;5;124mtime_units\u001b[39m\u001b[38;5;124m'\u001b[39m]\n\u001b[1;32m      7\u001b[0m offset \u001b[38;5;241m=\u001b[39m exptdata\u001b[38;5;241m.\u001b[39mexptdict[ekey][\u001b[38;5;124m'\u001b[39m\u001b[38;5;124moffset\u001b[39m\u001b[38;5;124m'\u001b[39m]\n\u001b[0;32m----> 9\u001b[0m darray \u001b[38;5;241m=\u001b[39m \u001b[43mcc\u001b[49m\u001b[38;5;241;43m.\u001b[39;49m\u001b[43mquerying\u001b[49m\u001b[38;5;241;43m.\u001b[39;49m\u001b[43mgetvar\u001b[49m\u001b[43m(\u001b[49m\u001b[43msession\u001b[49m\u001b[38;5;241;43m=\u001b[39;49m\u001b[43msession\u001b[49m\u001b[43m,\u001b[49m\u001b[43m \u001b[49m\u001b[43mexpt\u001b[49m\u001b[38;5;241;43m=\u001b[39;49m\u001b[43mexpt\u001b[49m\u001b[43m,\u001b[49m\u001b[43m \u001b[49m\u001b[43mvariable\u001b[49m\u001b[38;5;241;43m=\u001b[39;49m\u001b[38;5;124;43m'\u001b[39;49m\u001b[38;5;124;43mtemp_yflux_adv_int_z\u001b[39;49m\u001b[38;5;124;43m'\u001b[39;49m\u001b[43m,\u001b[49m\u001b[43m \u001b[49m\u001b[43mn\u001b[49m\u001b[38;5;241;43m=\u001b[39;49m\u001b[43mn_files\u001b[49m\u001b[43m,\u001b[49m\u001b[43m \u001b[49m\u001b[43muse_cache\u001b[49m\u001b[38;5;241;43m=\u001b[39;49m\u001b[38;5;28;43;01mFalse\u001b[39;49;00m\u001b[43m)\u001b[49m\n\u001b[1;32m     10\u001b[0m \u001b[38;5;28;01mif\u001b[39;00m offset:\n\u001b[1;32m     11\u001b[0m     td \u001b[38;5;241m=\u001b[39m pd\u001b[38;5;241m.\u001b[39mTimedelta(days\u001b[38;5;241m=\u001b[39moffset)\n",
      "File \u001b[0;32m/g/data/hh5/public/apps/miniconda3/envs/analysis3-23.07/lib/python3.10/site-packages/cosima_cookbook/querying.py:334\u001b[0m, in \u001b[0;36mgetvar\u001b[0;34m(expt, variable, session, ncfile, start_time, end_time, n, frequency, attrs, attrs_unique, return_dataset, **kwargs)\u001b[0m\n\u001b[1;32m    331\u001b[0m \u001b[38;5;28;01mif\u001b[39;00m attrs_unique \u001b[38;5;129;01mis\u001b[39;00m \u001b[38;5;28;01mNone\u001b[39;00m:\n\u001b[1;32m    332\u001b[0m     attrs_unique \u001b[38;5;241m=\u001b[39m {\u001b[38;5;124m\"\u001b[39m\u001b[38;5;124mcell_methods\u001b[39m\u001b[38;5;124m\"\u001b[39m: \u001b[38;5;124m\"\u001b[39m\u001b[38;5;124mtime: mean\u001b[39m\u001b[38;5;124m\"\u001b[39m}\n\u001b[0;32m--> 334\u001b[0m ncfiles \u001b[38;5;241m=\u001b[39m \u001b[43m_ncfiles_for_variable\u001b[49m\u001b[43m(\u001b[49m\n\u001b[1;32m    335\u001b[0m \u001b[43m    \u001b[49m\u001b[43mexpt\u001b[49m\u001b[43m,\u001b[49m\n\u001b[1;32m    336\u001b[0m \u001b[43m    \u001b[49m\u001b[43mvariable\u001b[49m\u001b[43m,\u001b[49m\n\u001b[1;32m    337\u001b[0m \u001b[43m    \u001b[49m\u001b[43msession\u001b[49m\u001b[43m,\u001b[49m\n\u001b[1;32m    338\u001b[0m \u001b[43m    \u001b[49m\u001b[43mncfile\u001b[49m\u001b[43m,\u001b[49m\n\u001b[1;32m    339\u001b[0m \u001b[43m    \u001b[49m\u001b[43mstart_time\u001b[49m\u001b[43m,\u001b[49m\n\u001b[1;32m    340\u001b[0m \u001b[43m    \u001b[49m\u001b[43mend_time\u001b[49m\u001b[43m,\u001b[49m\n\u001b[1;32m    341\u001b[0m \u001b[43m    \u001b[49m\u001b[43mn\u001b[49m\u001b[43m,\u001b[49m\n\u001b[1;32m    342\u001b[0m \u001b[43m    \u001b[49m\u001b[43mfrequency\u001b[49m\u001b[43m,\u001b[49m\n\u001b[1;32m    343\u001b[0m \u001b[43m    \u001b[49m\u001b[43mattrs\u001b[49m\u001b[43m,\u001b[49m\n\u001b[1;32m    344\u001b[0m \u001b[43m    \u001b[49m\u001b[43mattrs_unique\u001b[49m\u001b[43m,\u001b[49m\n\u001b[1;32m    345\u001b[0m \u001b[43m\u001b[49m\u001b[43m)\u001b[49m\n\u001b[1;32m    347\u001b[0m variables \u001b[38;5;241m=\u001b[39m [variable]\n\u001b[1;32m    348\u001b[0m \u001b[38;5;28;01mif\u001b[39;00m return_dataset:\n\u001b[1;32m    349\u001b[0m     \u001b[38;5;66;03m# we know at least one variable was returned, so we can index ncfiles\u001b[39;00m\n\u001b[1;32m    350\u001b[0m     \u001b[38;5;66;03m# ask for the extra variables associated with cell_methods, etc.\u001b[39;00m\n",
      "File \u001b[0;32m/g/data/hh5/public/apps/miniconda3/envs/analysis3-23.07/lib/python3.10/site-packages/cosima_cookbook/querying.py:505\u001b[0m, in \u001b[0;36m_ncfiles_for_variable\u001b[0;34m(expt, variable, session, ncfile, start_time, end_time, n, frequency, attrs, attrs_unique)\u001b[0m\n\u001b[1;32m    503\u001b[0m \u001b[38;5;66;03m# ensure we actually got a result\u001b[39;00m\n\u001b[1;32m    504\u001b[0m \u001b[38;5;28;01mif\u001b[39;00m \u001b[38;5;129;01mnot\u001b[39;00m ncfiles:\n\u001b[0;32m--> 505\u001b[0m     \u001b[38;5;28;01mraise\u001b[39;00m VariableNotFoundError(\n\u001b[1;32m    506\u001b[0m         \u001b[38;5;124m\"\u001b[39m\u001b[38;5;124mNo files were found containing \u001b[39m\u001b[38;5;124m'\u001b[39m\u001b[38;5;132;01m{}\u001b[39;00m\u001b[38;5;124m'\u001b[39m\u001b[38;5;124m in the \u001b[39m\u001b[38;5;124m'\u001b[39m\u001b[38;5;132;01m{}\u001b[39;00m\u001b[38;5;124m'\u001b[39m\u001b[38;5;124m experiment\u001b[39m\u001b[38;5;124m\"\u001b[39m\u001b[38;5;241m.\u001b[39mformat(\n\u001b[1;32m    507\u001b[0m             variable, expt\n\u001b[1;32m    508\u001b[0m         )\n\u001b[1;32m    509\u001b[0m     )\n\u001b[1;32m    511\u001b[0m \u001b[38;5;66;03m# check whether the results are unique\u001b[39;00m\n\u001b[1;32m    512\u001b[0m \u001b[38;5;28;01mfor\u001b[39;00m attr \u001b[38;5;129;01min\u001b[39;00m attrs_unique:\n",
      "\u001b[0;31mVariableNotFoundError\u001b[0m: No files were found containing 'temp_yflux_adv_int_z' in the '1deg_jra55v13_iaf_spinup1_B1_lastcycle' experiment"
     ]
    },
    {
     "data": {
      "image/png": "[encoded data removed]",
      "text/plain": [
       "<Figure size 800x600 with 1 Axes>"
      ]
     },
     "metadata": {},
     "output_type": "display_data"
    }
   ],
   "source": [
    "# plot both surface heat flux, temp_yflux_adv methods and observations:\n",
    "fig = plt.figure(figsize=(8,6))\n",
    "plt.xlabel('Latitude $(^\\circ N)$')\n",
    "plt.ylabel('Meridional Heat Flux (PW)')\n",
    "for i, ekey in enumerate(exptdata.exptdict.keys()):\n",
    "    latv, MHF = find_MHF_intz(ekey)\n",
    "\n",
    "    hand = plt.plot(latv,MHF/1.e15,linewidth=2, label=exptdata.exptdict[ekey]['desc'])\n",
    "\n",
    "plt.plot(obs_lat,obs_ncep,'xk',label='NCEP', markersize=6)\n",
    "plt.errorbar(obs_lat[3::5],obs_ncep[3::5],yerr=obs_ncep_er[3::5],fmt='xk',capsize=3)\n",
    "plt.plot(obs_lat,obs_ecmwf,'ok',label='ECMWF', markersize=3)\n",
    "plt.errorbar(obs_lat[::5],obs_ecmwf[::5],yerr=obs_ecmwf_er[::5],fmt='ok',capsize=3)\n",
    "plt.errorbar(obsGW2003_lat,obsGW2003_mht,yerr=obsGW2003_mhte,fmt='dr',capsize=8,label='GW2003')\n",
    "plt.plot([-90, 90],[0,0],'k-',linewidth=0.75)\n",
    "plt.legend(loc=2)\n",
    "plt.xlim([-90.,90.])\n",
    "plt.ylim([-2, 2.5])\n",
    "\n",
    "savefigure('meridional_heat_transport_intz_withobs')"
   ]
  },
  {
   "cell_type": "code",
   "execution_count": 9,
   "id": "b31a66b9",
   "metadata": {
    "autoscroll": false,
    "ein.tags": "worksheet-0",
    "slideshow": {
     "slide_type": "-"
    }
   },
   "outputs": [
    {
     "data": {
      "text/html": [
       "<div>\n",
       "<style scoped>\n",
       "    .dataframe tbody tr th:only-of-type {\n",
       "        vertical-align: middle;\n",
       "    }\n",
       "\n",
       "    .dataframe tbody tr th {\n",
       "        vertical-align: top;\n",
       "    }\n",
       "\n",
       "    .dataframe thead th {\n",
       "        text-align: right;\n",
       "    }\n",
       "</style>\n",
       "<table border=\"1\" class=\"dataframe\">\n",
       "  <thead>\n",
       "    <tr style=\"text-align: right;\">\n",
       "      <th></th>\n",
       "      <th>ncfile</th>\n",
       "      <th>index_time</th>\n",
       "    </tr>\n",
       "  </thead>\n",
       "  <tbody>\n",
       "  </tbody>\n",
       "</table>\n",
       "</div>"
      ],
      "text/plain": [
       "Empty DataFrame\n",
       "Columns: [ncfile, index_time]\n",
       "Index: []"
      ]
     },
     "execution_count": 9,
     "metadata": {},
     "output_type": "execute_result"
    }
   ],
   "source": [
    "cc.querying.get_ncfiles(session=session, experiment=exptdata.exptdict['1deg']['expt'])"
   ]
  },
  {
   "cell_type": "code",
   "execution_count": 10,
   "id": "7445db88",
   "metadata": {
    "autoscroll": false,
    "ein.tags": "worksheet-0",
    "slideshow": {
     "slide_type": "-"
    }
   },
   "outputs": [
    {
     "data": {
      "text/html": [
       "<div>\n",
       "<style scoped>\n",
       "    .dataframe tbody tr th:only-of-type {\n",
       "        vertical-align: middle;\n",
       "    }\n",
       "\n",
       "    .dataframe tbody tr th {\n",
       "        vertical-align: top;\n",
       "    }\n",
       "\n",
       "    .dataframe thead th {\n",
       "        text-align: right;\n",
       "    }\n",
       "</style>\n",
       "<table border=\"1\" class=\"dataframe\">\n",
       "  <thead>\n",
       "    <tr style=\"text-align: right;\">\n",
       "      <th></th>\n",
       "      <th>name</th>\n",
       "      <th>long_name</th>\n",
       "      <th>units</th>\n",
       "      <th>frequency</th>\n",
       "      <th>ncfile</th>\n",
       "      <th>cell_methods</th>\n",
       "      <th># ncfiles</th>\n",
       "      <th>time_start</th>\n",
       "      <th>time_end</th>\n",
       "    </tr>\n",
       "  </thead>\n",
       "  <tbody>\n",
       "  </tbody>\n",
       "</table>\n",
       "</div>"
      ],
      "text/plain": [
       "Empty DataFrame\n",
       "Columns: [name, long_name, units, frequency, ncfile, cell_methods, # ncfiles, time_start, time_end]\n",
       "Index: []"
      ]
     },
     "execution_count": 10,
     "metadata": {},
     "output_type": "execute_result"
    }
   ],
   "source": [
    "cc.querying.get_variables(session=session, experiment=exptdata.exptdict['1deg']['expt'])"
   ]
  },
  {
   "cell_type": "code",
   "execution_count": 11,
   "id": "4bef07c2",
   "metadata": {
    "autoscroll": false,
    "ein.tags": "worksheet-0",
    "slideshow": {
     "slide_type": "-"
    }
   },
   "outputs": [],
   "source": [
    "# Infer from surface heat flux:\n",
    "def find_MHF(ekey):\n",
    "    \n",
    "    expt = exptdata.exptdict[ekey]['expt']\n",
    "    n_files = exptdata.exptdict[ekey]['n_files']\n",
    "    #n_files = 1\n",
    "    time_units = exptdata.exptdict[ekey]['time_units']\n",
    "    offset = exptdata.exptdict[ekey]['offset']\n",
    "\n",
    "    darray = cc.querying.getvar(session=session, expt=expt, variable='net_sfc_heating', n=n_files, use_cache=True)\n",
    "    if offset:\n",
    "        td = pd.Timedelta(days=offset)\n",
    "        darray = darray.assign_coords(time=darray.time + td)\n",
    "    shflux = darray\n",
    "    shflux_am = shflux.mean('time').load()\n",
    "    darray = cc.querying.getvar(session=session, expt=expt, variable='area_t', n=1)\n",
    "    area = darray.load()\n",
    "    darray = cc.querying.getvar(session=session, expt=expt, variable='geolat_t', n=1)\n",
    "    lat = darray.load()\n",
    "    darray = cc.querying.getvar(session=session, expt=expt, variable='yt_ocean', n=1)\n",
    "    latv = darray.load()\n",
    "    MHF = np.zeros_like(latv)\n",
    "    for i in range(len(latv)):\n",
    "        inds = lat < latv[i]\n",
    "        MHF[i] = np.sum(area.where(lat < latv[i])*shflux_am.where(lat < latv[i]))\n",
    "\n",
    "    MHF = MHF + (MHF[0]-MHF[-1])/2\n",
    "    \n",
    "    return latv, MHF"
   ]
  },
  {
   "cell_type": "code",
   "execution_count": 12,
   "id": "d596ab00",
   "metadata": {
    "autoscroll": false,
    "ein.tags": "worksheet-0",
    "slideshow": {
     "slide_type": "-"
    }
   },
   "outputs": [
    {
     "ename": "VariableNotFoundError",
     "evalue": "No files were found containing 'net_sfc_heating' in the '1deg_jra55v13_iaf_spinup1_B1_lastcycle' experiment",
     "output_type": "error",
     "traceback": [
      "\u001b[0;31m---------------------------------------------------------------------------\u001b[0m",
      "\u001b[0;31mVariableNotFoundError\u001b[0m                     Traceback (most recent call last)",
      "Cell \u001b[0;32mIn[12], line 6\u001b[0m\n\u001b[1;32m      4\u001b[0m plt\u001b[38;5;241m.\u001b[39mylabel(\u001b[38;5;124m'\u001b[39m\u001b[38;5;124mMeridional Heat Flux (PW)\u001b[39m\u001b[38;5;124m'\u001b[39m)\n\u001b[1;32m      5\u001b[0m \u001b[38;5;28;01mfor\u001b[39;00m i, ekey \u001b[38;5;129;01min\u001b[39;00m \u001b[38;5;28menumerate\u001b[39m(exptdata\u001b[38;5;241m.\u001b[39mexptdict\u001b[38;5;241m.\u001b[39mkeys()):\n\u001b[0;32m----> 6\u001b[0m     latv, MHF \u001b[38;5;241m=\u001b[39m \u001b[43mfind_MHF\u001b[49m\u001b[43m(\u001b[49m\u001b[43mekey\u001b[49m\u001b[43m)\u001b[49m\n\u001b[1;32m      8\u001b[0m     plt\u001b[38;5;241m.\u001b[39mplot(latv,MHF\u001b[38;5;241m/\u001b[39m\u001b[38;5;241m1.e15\u001b[39m,linewidth\u001b[38;5;241m=\u001b[39m\u001b[38;5;241m2\u001b[39m, label\u001b[38;5;241m=\u001b[39mexptdata\u001b[38;5;241m.\u001b[39mexptdict[ekey][\u001b[38;5;124m'\u001b[39m\u001b[38;5;124mdesc\u001b[39m\u001b[38;5;124m'\u001b[39m])\n\u001b[1;32m     10\u001b[0m plt\u001b[38;5;241m.\u001b[39mlegend()\n",
      "Cell \u001b[0;32mIn[11], line 10\u001b[0m, in \u001b[0;36mfind_MHF\u001b[0;34m(ekey)\u001b[0m\n\u001b[1;32m      7\u001b[0m time_units \u001b[38;5;241m=\u001b[39m exptdata\u001b[38;5;241m.\u001b[39mexptdict[ekey][\u001b[38;5;124m'\u001b[39m\u001b[38;5;124mtime_units\u001b[39m\u001b[38;5;124m'\u001b[39m]\n\u001b[1;32m      8\u001b[0m offset \u001b[38;5;241m=\u001b[39m exptdata\u001b[38;5;241m.\u001b[39mexptdict[ekey][\u001b[38;5;124m'\u001b[39m\u001b[38;5;124moffset\u001b[39m\u001b[38;5;124m'\u001b[39m]\n\u001b[0;32m---> 10\u001b[0m darray \u001b[38;5;241m=\u001b[39m \u001b[43mcc\u001b[49m\u001b[38;5;241;43m.\u001b[39;49m\u001b[43mquerying\u001b[49m\u001b[38;5;241;43m.\u001b[39;49m\u001b[43mgetvar\u001b[49m\u001b[43m(\u001b[49m\u001b[43msession\u001b[49m\u001b[38;5;241;43m=\u001b[39;49m\u001b[43msession\u001b[49m\u001b[43m,\u001b[49m\u001b[43m \u001b[49m\u001b[43mexpt\u001b[49m\u001b[38;5;241;43m=\u001b[39;49m\u001b[43mexpt\u001b[49m\u001b[43m,\u001b[49m\u001b[43m \u001b[49m\u001b[43mvariable\u001b[49m\u001b[38;5;241;43m=\u001b[39;49m\u001b[38;5;124;43m'\u001b[39;49m\u001b[38;5;124;43mnet_sfc_heating\u001b[39;49m\u001b[38;5;124;43m'\u001b[39;49m\u001b[43m,\u001b[49m\u001b[43m \u001b[49m\u001b[43mn\u001b[49m\u001b[38;5;241;43m=\u001b[39;49m\u001b[43mn_files\u001b[49m\u001b[43m,\u001b[49m\u001b[43m \u001b[49m\u001b[43muse_cache\u001b[49m\u001b[38;5;241;43m=\u001b[39;49m\u001b[38;5;28;43;01mTrue\u001b[39;49;00m\u001b[43m)\u001b[49m\n\u001b[1;32m     11\u001b[0m \u001b[38;5;28;01mif\u001b[39;00m offset:\n\u001b[1;32m     12\u001b[0m     td \u001b[38;5;241m=\u001b[39m pd\u001b[38;5;241m.\u001b[39mTimedelta(days\u001b[38;5;241m=\u001b[39moffset)\n",
      "File \u001b[0;32m/g/data/hh5/public/apps/miniconda3/envs/analysis3-23.07/lib/python3.10/site-packages/cosima_cookbook/querying.py:334\u001b[0m, in \u001b[0;36mgetvar\u001b[0;34m(expt, variable, session, ncfile, start_time, end_time, n, frequency, attrs, attrs_unique, return_dataset, **kwargs)\u001b[0m\n\u001b[1;32m    331\u001b[0m \u001b[38;5;28;01mif\u001b[39;00m attrs_unique \u001b[38;5;129;01mis\u001b[39;00m \u001b[38;5;28;01mNone\u001b[39;00m:\n\u001b[1;32m    332\u001b[0m     attrs_unique \u001b[38;5;241m=\u001b[39m {\u001b[38;5;124m\"\u001b[39m\u001b[38;5;124mcell_methods\u001b[39m\u001b[38;5;124m\"\u001b[39m: \u001b[38;5;124m\"\u001b[39m\u001b[38;5;124mtime: mean\u001b[39m\u001b[38;5;124m\"\u001b[39m}\n\u001b[0;32m--> 334\u001b[0m ncfiles \u001b[38;5;241m=\u001b[39m \u001b[43m_ncfiles_for_variable\u001b[49m\u001b[43m(\u001b[49m\n\u001b[1;32m    335\u001b[0m \u001b[43m    \u001b[49m\u001b[43mexpt\u001b[49m\u001b[43m,\u001b[49m\n\u001b[1;32m    336\u001b[0m \u001b[43m    \u001b[49m\u001b[43mvariable\u001b[49m\u001b[43m,\u001b[49m\n\u001b[1;32m    337\u001b[0m \u001b[43m    \u001b[49m\u001b[43msession\u001b[49m\u001b[43m,\u001b[49m\n\u001b[1;32m    338\u001b[0m \u001b[43m    \u001b[49m\u001b[43mncfile\u001b[49m\u001b[43m,\u001b[49m\n\u001b[1;32m    339\u001b[0m \u001b[43m    \u001b[49m\u001b[43mstart_time\u001b[49m\u001b[43m,\u001b[49m\n\u001b[1;32m    340\u001b[0m \u001b[43m    \u001b[49m\u001b[43mend_time\u001b[49m\u001b[43m,\u001b[49m\n\u001b[1;32m    341\u001b[0m \u001b[43m    \u001b[49m\u001b[43mn\u001b[49m\u001b[43m,\u001b[49m\n\u001b[1;32m    342\u001b[0m \u001b[43m    \u001b[49m\u001b[43mfrequency\u001b[49m\u001b[43m,\u001b[49m\n\u001b[1;32m    343\u001b[0m \u001b[43m    \u001b[49m\u001b[43mattrs\u001b[49m\u001b[43m,\u001b[49m\n\u001b[1;32m    344\u001b[0m \u001b[43m    \u001b[49m\u001b[43mattrs_unique\u001b[49m\u001b[43m,\u001b[49m\n\u001b[1;32m    345\u001b[0m \u001b[43m\u001b[49m\u001b[43m)\u001b[49m\n\u001b[1;32m    347\u001b[0m variables \u001b[38;5;241m=\u001b[39m [variable]\n\u001b[1;32m    348\u001b[0m \u001b[38;5;28;01mif\u001b[39;00m return_dataset:\n\u001b[1;32m    349\u001b[0m     \u001b[38;5;66;03m# we know at least one variable was returned, so we can index ncfiles\u001b[39;00m\n\u001b[1;32m    350\u001b[0m     \u001b[38;5;66;03m# ask for the extra variables associated with cell_methods, etc.\u001b[39;00m\n",
      "File \u001b[0;32m/g/data/hh5/public/apps/miniconda3/envs/analysis3-23.07/lib/python3.10/site-packages/cosima_cookbook/querying.py:505\u001b[0m, in \u001b[0;36m_ncfiles_for_variable\u001b[0;34m(expt, variable, session, ncfile, start_time, end_time, n, frequency, attrs, attrs_unique)\u001b[0m\n\u001b[1;32m    503\u001b[0m \u001b[38;5;66;03m# ensure we actually got a result\u001b[39;00m\n\u001b[1;32m    504\u001b[0m \u001b[38;5;28;01mif\u001b[39;00m \u001b[38;5;129;01mnot\u001b[39;00m ncfiles:\n\u001b[0;32m--> 505\u001b[0m     \u001b[38;5;28;01mraise\u001b[39;00m VariableNotFoundError(\n\u001b[1;32m    506\u001b[0m         \u001b[38;5;124m\"\u001b[39m\u001b[38;5;124mNo files were found containing \u001b[39m\u001b[38;5;124m'\u001b[39m\u001b[38;5;132;01m{}\u001b[39;00m\u001b[38;5;124m'\u001b[39m\u001b[38;5;124m in the \u001b[39m\u001b[38;5;124m'\u001b[39m\u001b[38;5;132;01m{}\u001b[39;00m\u001b[38;5;124m'\u001b[39m\u001b[38;5;124m experiment\u001b[39m\u001b[38;5;124m\"\u001b[39m\u001b[38;5;241m.\u001b[39mformat(\n\u001b[1;32m    507\u001b[0m             variable, expt\n\u001b[1;32m    508\u001b[0m         )\n\u001b[1;32m    509\u001b[0m     )\n\u001b[1;32m    511\u001b[0m \u001b[38;5;66;03m# check whether the results are unique\u001b[39;00m\n\u001b[1;32m    512\u001b[0m \u001b[38;5;28;01mfor\u001b[39;00m attr \u001b[38;5;129;01min\u001b[39;00m attrs_unique:\n",
      "\u001b[0;31mVariableNotFoundError\u001b[0m: No files were found containing 'net_sfc_heating' in the '1deg_jra55v13_iaf_spinup1_B1_lastcycle' experiment"
     ]
    },
    {
     "data": {
      "image/png": "[encoded data removed]",
      "text/plain": [
       "<Figure size 800x500 with 1 Axes>"
      ]
     },
     "metadata": {},
     "output_type": "display_data"
    }
   ],
   "source": [
    "# Plot just surface heat flux inferred method:\n",
    "fig = plt.figure(figsize=(8,5))\n",
    "plt.xlabel('Latitude $(^\\circ N)$')\n",
    "plt.ylabel('Meridional Heat Flux (PW)')\n",
    "for i, ekey in enumerate(exptdata.exptdict.keys()):\n",
    "    latv, MHF = find_MHF(ekey)\n",
    "\n",
    "    plt.plot(latv,MHF/1.e15,linewidth=2, label=exptdata.exptdict[ekey]['desc'])\n",
    "\n",
    "plt.legend()\n",
    "savefigure('meridional_heat_transport')"
   ]
  },
  {
   "cell_type": "code",
   "execution_count": null,
   "id": "27fc6bbc-3f9a-48db-bf2d-98c2c6985f3e",
   "metadata": {},
   "outputs": [],
   "source": []
  }
 ],
 "metadata": {
  "kernelspec": {
   "display_name": "Python [conda env:analysis3-23.07] *",
   "language": "python",
   "name": "conda-env-analysis3-23.07-py"
  },
  "language_info": {
   "codemirror_mode": {
    "name": "ipython",
    "version": 3
   },
   "file_extension": ".py",
   "mimetype": "text/x-python",
   "name": "python",
   "nbconvert_exporter": "python",
   "pygments_lexer": "ipython3",
   "version": "3.10.12"
  },
  "name": "Meridional_Heat_Transport.ipynb"
 },
 "nbformat": 4,
 "nbformat_minor": 5
}

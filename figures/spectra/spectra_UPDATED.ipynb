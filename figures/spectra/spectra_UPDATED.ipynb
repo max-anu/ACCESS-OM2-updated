{
 "cells": [
  {
   "cell_type": "markdown",
   "id": "2f4bf6db",
   "metadata": {},
   "source": [
    "# Spatial spectra\n",
    "\n",
    "## Available snapshot data\n",
    "```\n",
    "grep ocean_snapshot /g/data/hh5/tmp/cosima/access-om2-*/*/output*/ocean/diag_table\n",
    "```\n",
    "\n",
    "As of 24 May 2019:\n",
    "\n",
    "`vorticity_z` only:\n",
    "\n",
    "`01deg_jra55v13_iaf`\n",
    "\n",
    "`eta_t`, `u`, `v`:\n",
    "\n",
    "`01deg_jra55v13_ryf8485_spinup6`\n",
    "\n",
    "`01deg_jra55v13_ryf8485_spinup6_newtopog`\n",
    "\n",
    "`025deg_jra55v13_iaf_gmredi6`\n",
    "\n",
    "`025deg_jra55v13_iaf_gmredi6_abswind`\n",
    "\n",
    "`025deg_jra55v13_iaf_nogmredi6`\n",
    "\n",
    "`025deg_jra55v13_ryf8485_gmredi6`\n",
    "\n",
    "`025deg_jra55v13_ryf9091_gmredi6`\n",
    "\n",
    "`025deg_jra55v13_ryf9091_gmredi6`\n",
    "\n",
    "so nothing available at 1deg as yet\n",
    "\n",
    "## Relevant papers\n",
    "- CapetMcWilliamsMolemakerShchepetkin2008a http://dx.doi.org/10.1175/2007JPO3671.1\n",
    "- SouffletMarchesielloLemarieJouannoCapetDebreuBenshila2016a http://dx.doi.org/10.1016/j.ocemod.2015.12.004\n",
    "- AluieHechtVallis2018a http://dx.doi.org/10.1175/JPO-D-17-0100.1\n",
    "- ArbicPolzinScottRichmanShriver2013a http://dx.doi.org/10.1175/JPO-D-11-0240.1\n",
    "- TullochMarshallHillSmith2011a http://journals.ametsoc.org/doi/abs/10.1175/2011JPO4404.1\n",
    "- ScottWang2005a http://dx.doi.org/10.1175/JPO2771.1\n",
    "- DurranWeynMenchaca2017a http://dx.doi.org/10.1175/MWR-D-17-0056.1\n",
    "- DanilovGurarie2000a https://doi.org/10.1070%2Fpu2000v043n09abeh000782\n",
    "- Scott Bachman?\n",
    "- Kitsios?\n",
    "- strictly speaking we should probably use spherical harmonics, e.g. SHTools, WieczorekMeschede2018a http://dx.doi.org/10.1029/2018GC007529\n",
    "- or Slepian functions may be more appropriate: Simons2010a http://dx.doi.org/10.1007/978-3-642-01546-5_30 and also http://users.cecs.anu.edu.au/~alice.bates/publications.html\n",
    "\n",
    "## also see\n",
    "- https://docs.scipy.org/doc/scipy/reference/tutorial/fftpack.html"
   ]
  },
  {
   "cell_type": "code",
   "execution_count": 1,
   "id": "23c18f32",
   "metadata": {},
   "outputs": [
    {
     "name": "stdout",
     "output_type": "stream",
     "text": [
      "netcdf_index loaded.\n"
     ]
    },
    {
     "name": "stderr",
     "output_type": "stream",
     "text": [
      "/g/data3/hh5/public/apps/miniconda3/envs/analysis3-19.01/lib/python3.6/site-packages/dask/config.py:168: YAMLLoadWarning: calling yaml.load() without Loader=... is deprecated, as the default Loader is unsafe. Please read https://msg.pyyaml.org/load for full details.\n",
      "  data = yaml.load(f.read()) or {}\n",
      "/g/data3/hh5/public/apps/miniconda3/envs/analysis3-19.01/lib/python3.6/site-packages/distributed/config.py:20: YAMLLoadWarning: calling yaml.load() without Loader=... is deprecated, as the default Loader is unsafe. Please read https://msg.pyyaml.org/load for full details.\n",
      "  defaults = yaml.load(f)\n"
     ]
    },
    {
     "name": "stdout",
     "output_type": "stream",
     "text": [
      "Available exptdata keys:  ['1deg', '025deg', '01deg']\n"
     ]
    }
   ],
   "source": [
    "# import pyfftw # faster but not available - get this installed?\n",
    "import pandas as pd\n",
    "import numpy as np\n",
    "import cosima_cookbook as cc\n",
    "import matplotlib.pyplot as plt\n",
    "import pandas as pd\n",
    "import xarray as xr\n",
    "import copy\n",
    "from scipy.fftpack import fft2, fftn, fftshift\n",
    "import scipy.signal.windows as ssw\n",
    "# import matplotlib.colors as colors\n",
    "# import xarray as xr\n",
    "# import netCDF4 as nc\n",
    "# from tqdm import tqdm_notebook\n",
    "# from mpl_toolkits.basemap import Basemap\n",
    "# from calendar import month_abbr\n",
    "# import cmocean as cm\n",
    "\n",
    "import sys, os\n",
    "\n",
    "os.chdir(os.path.join(os.getcwd(), \"ACCESS-OM2-updated/figures/spectra\"))\n",
    "sys.path.append(os.path.join(os.getcwd(), '..'))  # so we can import ../exptdata\n",
    "import exptdata\n",
    "print('Available exptdata keys: ', [k for k in exptdata.exptdict.keys()])\n",
    "\n",
    "# use common start and end dates for all runs\n",
    "tstart = exptdata.clim_tstart\n",
    "tend = exptdata.clim_tend"
   ]
  },
  {
   "cell_type": "code",
   "execution_count": 2,
   "id": "af516671",
   "metadata": {},
   "outputs": [
    {
     "data": {
      "text/html": [
       "<table style=\"border: 2px solid white;\">\n",
       "<tr>\n",
       "<td style=\"vertical-align: top; border: 0px solid white\">\n",
       "<h3>Client</h3>\n",
       "<ul>\n",
       "  <li><b>Scheduler: </b>tcp://127.0.0.1:39899\n",
       "  <li><b>Dashboard: </b><a href='/proxy/8787/status' target='_blank'>/proxy/8787/status</a>\n",
       "</ul>\n",
       "</td>\n",
       "<td style=\"vertical-align: top; border: 0px solid white\">\n",
       "<h3>Cluster</h3>\n",
       "<ul>\n",
       "  <li><b>Workers: </b>8</li>\n",
       "  <li><b>Cores: </b>96</li>\n",
       "  <li><b>Memory: </b>202.49 GB</li>\n",
       "</ul>\n",
       "</td>\n",
       "</tr>\n",
       "</table>"
      ],
      "text/plain": [
       "<Client: scheduler='tcp://127.0.0.1:39899' processes=8 cores=96>"
      ]
     },
     "execution_count": 2,
     "metadata": {},
     "output_type": "execute_result"
    }
   ],
   "source": [
    "from dask.distributed import Client\n",
    "client = Client(\"tcp://10.6.1.23:8786\")\n",
    "client"
   ]
  },
  {
   "cell_type": "code",
   "execution_count": null,
   "id": "ec7a4a9e",
   "metadata": {},
   "outputs": [],
   "source": [
    "session = cc.database.create_session()"
   ]
  },
  {
   "cell_type": "code",
   "execution_count": 3,
   "id": "25beb38e",
   "metadata": {},
   "outputs": [],
   "source": [
    "# adjust to reflect available snapshot data\n",
    "exptdata.exptdict['01deg']['expt'] = '01deg_jra55v13_ryf8485_spinup6'\n",
    "exptdata.exptdict['01deg']['exptdir'] = '/g/data3/hh5/tmp/cosima/access-om2-01/01deg_jra55v13_ryf8485_spinup6'\n",
    "# del exptdata.exptdict['1deg']"
   ]
  },
  {
   "cell_type": "code",
   "execution_count": 4,
   "id": "0a071fd7",
   "metadata": {},
   "outputs": [
    {
     "data": {
      "text/plain": [
       "OrderedDict([('1deg',\n",
       "              {'model': 'access-om2',\n",
       "               'expt': '1deg_jra55v13_iaf_spinup1_B1',\n",
       "               'desc': 'ACCESS-OM2',\n",
       "               'n_files': -12,\n",
       "               'time_units': 'days since 1718-01-01',\n",
       "               'offset': -87658,\n",
       "               'exptdir': '/g/data/hh5/tmp/cosima/access-om2/1deg_jra55v13_iaf_spinup1_B1'}),\n",
       "             ('025deg',\n",
       "              {'model': 'access-om2-025',\n",
       "               'expt': '025deg_jra55v13_iaf_gmredi6',\n",
       "               'desc': 'ACCESS-OM2-025',\n",
       "               'n_files': -34,\n",
       "               'time_units': 'days since 1718-01-01',\n",
       "               'offset': -87658,\n",
       "               'exptdir': '/g/data/hh5/tmp/cosima/access-om2-025/025deg_jra55v13_iaf_gmredi6'}),\n",
       "             ('01deg',\n",
       "              {'model': 'access-om2-01',\n",
       "               'expt': '01deg_jra55v13_ryf8485_spinup6',\n",
       "               'desc': 'ACCESS-OM2-01',\n",
       "               'n_files': None,\n",
       "               'time_units': 'days since 0001-01-01',\n",
       "               'offset': None,\n",
       "               'exptdir': '/g/data3/hh5/tmp/cosima/access-om2-01/01deg_jra55v13_ryf8485_spinup6'})])"
      ]
     },
     "execution_count": 4,
     "metadata": {},
     "output_type": "execute_result"
    }
   ],
   "source": [
    "exptdata.exptdict"
   ]
  },
  {
   "cell_type": "code",
   "execution_count": 5,
   "id": "12e44af3",
   "metadata": {},
   "outputs": [],
   "source": [
    "# cc.build_index()"
   ]
  },
  {
   "cell_type": "code",
   "execution_count": 6,
   "id": "dd5e5055",
   "metadata": {},
   "outputs": [
    {
     "name": "stdout",
     "output_type": "stream",
     "text": [
      "1993-2017\n",
      "tstart =  1993-01-01 00:00:00\n",
      "tend =  2018-01-01 00:00:00\n"
     ]
    }
   ],
   "source": [
    "firstyear = pd.to_datetime(tstart).year  # assumes tstart is 1 January!\n",
    "lastyear = pd.to_datetime(tend).year-1  # assumes tend is 1 January!\n",
    "yearrange = str(firstyear)+'-'+str(lastyear)\n",
    "print(yearrange)\n",
    "print('tstart = ', tstart)\n",
    "print('tend = ', tend)"
   ]
  },
  {
   "cell_type": "code",
   "execution_count": 7,
   "id": "2d13e9aa",
   "metadata": {},
   "outputs": [],
   "source": [
    "figdir = ''\n",
    "# NOSYNC = '/g/data/v45/aek156/figures/ACCESS-OM2-1-025-010deg-report/figures/ice_validation/NOSYNC/' # where to save figs we don't want to sync\n",
    "NOSYNC = 'NOSYNC/' # where to save figs we don't want to sync\n",
    "if not os.path.exists(NOSYNC):\n",
    "    os.makedirs(NOSYNC)\n",
    "def savefigure(fname):\n",
    "    plt.savefig(os.path.join(figdir, fname+'.png'),dpi=300, bbox_inches=\"tight\")  # comment out to disable saving\n",
    "    plt.savefig(os.path.join(figdir, fname+'.pdf'),dpi=300, bbox_inches=\"tight\")  # comment out to disable saving\n",
    "    return"
   ]
  },
  {
   "cell_type": "code",
   "execution_count": 8,
   "id": "0064ed4f",
   "metadata": {},
   "outputs": [],
   "source": [
    "# location coords: [ minlon, maxlon, minlat, maxlat ]\n",
    "# key names are used as filenames so should not have spaces\n",
    "locations = { \n",
    "# #               'EACACCSouthPacific': [140-360,240-360,-65,-20], \n",
    "# #               'EACACC':             [140-360,190-360,-65,-20],\n",
    "#               'EAC':                     [145-360,175-360,-45,-20],\n",
    "#               'Kuroshio':                [125-360,155-360,25,50],\n",
    "#               'GulfStream':             [-85,-50,25,50],\n",
    "#               'Agulhas':                 [10,40,-45,-20],\n",
    "    'California Current': [-130, -123, 32, 38], # near ICC domain in fig 1 of CapetMcWilliamsMolemakerShchepetkin2008a http://dx.doi.org/10.1175/2007JPO3671.1\n",
    "    'Eastern North Pacific': [-200, -123, 10, 33],\n",
    "    'Southern Ocean': [-250, -220, -60, -45] # Marine's region\n",
    "\n",
    "    # TODO: ACC\n",
    "}"
   ]
  },
  {
   "cell_type": "code",
   "execution_count": 9,
   "id": "da5db1ad",
   "metadata": {},
   "outputs": [],
   "source": [
    "use_cache = True"
   ]
  },
  {
   "cell_type": "code",
   "execution_count": 10,
   "id": "356d900d",
   "metadata": {},
   "outputs": [
    {
     "name": "stdout",
     "output_type": "stream",
     "text": [
      "Using database sqlite:////g/data3/hh5/tmp/cosima/cosima-cookbook/cosima-cookbook.db\n",
      "Saving cache file cache_get_nc_variable_1deg_jra55v13_iaf_spinup1_B1_ocean_snapshot.nc_u_None_days-since-1900-01-01_None_False.pkl\n",
      "Using database sqlite:////g/data3/hh5/tmp/cosima/cosima-cookbook/cosima-cookbook.db\n",
      "Saving cache file cache_get_nc_variable_1deg_jra55v13_iaf_spinup1_B1_ocean_snapshot.nc_v_None_days-since-1900-01-01_None_False.pkl\n",
      "Reading from cache file cache_get_nc_variable_025deg_jra55v13_iaf_gmredi6_ocean_snapshot.nc_u_None_days-since-1900-01-01_None_False.pkl\n"
     ]
    },
    {
     "name": "stderr",
     "output_type": "stream",
     "text": [
      "/g/data3/hh5/public/apps/miniconda3/envs/analysis3-19.01/lib/python3.6/site-packages/cosima_cookbook/netcdf_index.py:391: UserWarning: ShareDict has been deprecated in favor of HighLevelGraph and will be removed in future versions\n",
      "  return pickle.load(cachefile)\n"
     ]
    },
    {
     "name": "stdout",
     "output_type": "stream",
     "text": [
      "Reading from cache file cache_get_nc_variable_025deg_jra55v13_iaf_gmredi6_ocean_snapshot.nc_v_None_days-since-1900-01-01_None_False.pkl\n",
      "Reading from cache file cache_get_nc_variable_01deg_jra55v13_ryf8485_spinup6_ocean_snapshot.nc_u_None_days-since-1900-01-01_None_False.pkl\n",
      "Reading from cache file cache_get_nc_variable_01deg_jra55v13_ryf8485_spinup6_ocean_snapshot.nc_v_None_days-since-1900-01-01_None_False.pkl\n"
     ]
    }
   ],
   "source": [
    "# load model surface KE snapshots\n",
    "kes = copy.deepcopy(exptdata.exptdict)  # this will store KE fields under the same keys as exptdata.exptdict\n",
    "for ekey in kes.keys():\n",
    "#     if ekey == '025deg':\n",
    "        expt = kes[ekey]['expt']\n",
    "#         n_files = kes[ekey]['n_files']\n",
    "        n_files = None\n",
    "\n",
    "#         n_files = -1\n",
    "\n",
    "        time_units = kes[ekey]['time_units']\n",
    "        offset = kes[ekey]['offset']\n",
    "#         print(ekey, n_files)\n",
    "\n",
    "        ## Load zonal velocity from expt\n",
    "#         tmp = cc.get_nc_variable(expt, 'ocean_snapshot.nc', 'u',n=n_files,time_units=time_units, offset=offset, use_cache=use_cache)\n",
    "        darray = cc.querying.getvar(session=session, expt=expt, variable='u', n=n_files, use_cache=use_cache)\n",
    "        tmp = darray\n",
    "        u = tmp.isel(st_ocean=0)#.sel(time=slice(tstart,tend)) #.mean('time')\n",
    "\n",
    "        ## Load meridional velocity from expt \n",
    "#         tmp = cc.get_nc_variable(expt, 'ocean_snapshot.nc', 'v',n=n_files,time_units=time_units, offset=offset, use_cache=use_cache)\n",
    "        darray = cc.querying.getvar(session=session, expt=expt, variable='v', n=n_files, use_cache=use_cache)\n",
    "        tmp = darray\n",
    "        v = tmp.isel(st_ocean=0)#.sel(time=slice(tstart,tend)) #.mean('time')\n",
    "        \n",
    "        kes[ekey]['u'] = u.fillna(0.0)  # fill land with zeros\n",
    "        kes[ekey]['v'] = v.fillna(0.0)  # fill land with zeros\n",
    "        kes[ekey]['ke'] = (u**2+v**2).fillna(0.0)/2  # fill land with zeros\n",
    "        \n",
    "        del(tmp, u, v)"
   ]
  },
  {
   "cell_type": "code",
   "execution_count": 11,
   "id": "a20a360b",
   "metadata": {},
   "outputs": [],
   "source": [
    "def detrend(f,dim):\n",
    "    \"\"\"\n",
    "    Detrend multidimensional dataarray f in dimension dim.\n",
    "    In all other dimensions, remove linear function from first to last element in dimension given by string dim.\n",
    "    Follows method of Errico1985a sec 2a http://dx.doi.org/10.1175/1520-0493(1985)113<1554:SCFALA>2.0.CO;2\n",
    "    WARNING: can produce a plaid pattern that produces artifacts in fft. Better to use window instead.\n",
    "    \n",
    "    cf. ArbicPolzinScottRichmanShriver2013a - they detrend with a 2d least-squares fit (this won't ensure periodicity but doesn't introduce spurious patterns)\n",
    "    \"\"\"\n",
    "    # I don't like using eval but I can't think of a better way right now...\n",
    "    first = eval('f.isel('+dim+'=0)')\n",
    "    last = eval('f.isel('+dim+'=-1)')\n",
    "    n = f[dim].size\n",
    "    slope = (last-first)/(n-1)\n",
    "    scale = xr.DataArray(np.arange((1-n)/2,(n+1)/2), coords={dim: f[dim]}, dims=[dim])\n",
    "    return f-scale*slope # subtract outer product    "
   ]
  },
  {
   "cell_type": "code",
   "execution_count": 12,
   "id": "94ed6e67",
   "metadata": {},
   "outputs": [],
   "source": [
    "def window(f,dim,window='hamming'):\n",
    "    \"\"\"\n",
    "    Apply window to multidimensional dataarray f in dimension dim.\n",
    "    \n",
    "    cf. ArbicPolzinScottRichmanShriver2013a http://dx.doi.org/10.1175/JPO-D-11-0240.1\n",
    "    - they detrend with a 2d least-squares fit before windowing (and use a different window function)\n",
    "    ScottWang2005a do something similar\n",
    "    TullochMarshallHillSmith2011a use flipping instead to ensure periodicity\n",
    "    \"\"\"\n",
    "    return f*xr.DataArray(ssw.get_window(window, f[dim].size), coords={dim: f[dim]}, dims=[dim])"
   ]
  },
  {
   "cell_type": "code",
   "execution_count": 1,
   "id": "85225636",
   "metadata": {
    "autoscroll": false,
    "ein.hycell": false,
    "ein.tags": "worksheet-0",
    "slideshow": {
     "slide_type": "-"
    }
   },
   "outputs": [],
   "source": [
    "def fftgrid(v2):\n",
    "    \"\"\"\n",
    "    0.5 * FFT squared magnitude (time-mean spectrum, in grid space).\n",
    "    Coords are assumed to be t, y, x (in that order).\n",
    "    \"\"\"\n",
    "    tdim, ydim, xdim = v2.dims  # abstract out dimension names - NB: assumes this order of dimensions\n",
    "    nx = v2[xdim].size\n",
    "    ny = v2[ydim].size\n",
    "    dx = np.max(np.diff(v2[xdim]))\n",
    "    dy = np.max(np.diff(v2[ydim]))\n",
    "\n",
    "# detrend data\n",
    "    v2dt = v2\n",
    "#     v2dt = detrend(detrend(v2dt,xdim),ydim)  # don't use on its own - produces artifacts\n",
    "    v2dt = window(window(v2dt,xdim),ydim)\n",
    "    v2dt -= v2dt.mean(xdim, skipna=True).mean(ydim, skipna=True)  # remove mean at each time\n",
    "\n",
    "# calculate 0.5 * FFT squared magnitude\n",
    "    v2dtfft = fftn(v2dt.values, axes=(1,2))  # fft amplitude at each time\n",
    "    v2dtfft = (v2dtfft*v2dtfft.conjugate()).real  # squared magnitude\n",
    "    v2dtfft = v2dtfft.mean(axis=0)  # time-mean\n",
    "    v2dtfft[0,0] = np.nan  # nan at removed zero frequency\n",
    "    v2dtfft = fftshift(v2dtfft)  # put zero wavenumber in array centre\n",
    "    v2dtfft *= dx*dy/(8.0*(np.pi)**2*nx*ny)  # scaling as per eq (22) of DurranWeynMenchaca2017a http://dx.doi.org/10.1175/MWR-D-17-0056.1\n",
    "\n",
    "# set up metadata\n",
    "    v2dtfft = xr.DataArray(v2dtfft, dims=['kj','ki'], \n",
    "                coords={'kj': np.linspace(-0.5, 0.5+(ny%2-1)/ny, num=ny), \n",
    "                        'ki': np.linspace(-0.5, 0.5+(nx%2-1)/nx, num=nx)},\n",
    "                attrs={'long_name': 'wavenumber spectrum in grid units'})\n",
    "    v2dtfft.ki.attrs['units'] = 'cycles/dx'\n",
    "    v2dtfft.kj.attrs['units'] = 'cycles/dy'\n",
    "    v2dtfft.ki.attrs['long_name'] = 'x wavenumber'\n",
    "    v2dtfft.kj.attrs['long_name'] = 'y wavenumber'\n",
    "\n",
    "    return v2dtfft"
   ]
  },
  {
   "cell_type": "code",
   "execution_count": 2,
   "id": "5122156e",
   "metadata": {
    "autoscroll": false,
    "ein.hycell": false,
    "ein.tags": "worksheet-0",
    "slideshow": {
     "slide_type": "-"
    }
   },
   "outputs": [],
   "source": [
    "def azimuthal_sum(v2dtfft):  # following DurranWeynMenchaca2017a http://dx.doi.org/10.1175/MWR-D-17-0056.1\n",
    "# NB: omits zero wavenumber\n",
    "# NB: probably should truncate upper end of spectrum - it is based on anisotropically-sampled values from corners (p3906)\n",
    "    dkh = np.max([np.max(np.diff(v2dtfft.ki)), np.max(np.diff(v2dtfft.kj))])\n",
    "    dkmin = np.min([np.min(np.diff(v2dtfft.ki)), np.min(np.diff(v2dtfft.kj))])\n",
    "    Nmax = int(np.ceil(np.sqrt(2)*max(v2dtfft.shape)/2))  # NB: extends sqrt(2) times further to get into corners\n",
    "    kp = dkh*range(1,Nmax+1)\n",
    "    C = 0.0*kp  # number of wavenumber points in each annulus (C in DurranWeynMenchaca2017a)\n",
    "    v2dtfftradial = 0.0*kp\n",
    "    radius = np.sqrt(v2dtfft.ki**2+v2dtfft.kj**2)\n",
    "    ones = 1 + 0*v2dtfft\n",
    "    \n",
    "    # sum in each annulus\n",
    "    for i,k in enumerate(kp):\n",
    "        v2dtfftradial[i] = v2dtfft.where(radius>=k-dkh/2).where(radius<k+dkh/2).sum()\n",
    "        C[i] = ones.where(radius>k-dkh/2).where(radius<=k+dkh/2).sum()\n",
    "\n",
    "    v2dtfftradial *= dkmin  # scale as in eq (24) (assuming scaling in eq (22) is already done)\n",
    "\n",
    "# eq (26): compensate for number of (k,l) pairs in each annulus\n",
    "# NB: Parseval's theorem no longer exactly holds (p 3905)\n",
    "    C = np.where(C==0, 1, C)  # ensures no division by zero (v2dtfftradial=0 there anyway)\n",
    "    v2dtfftradial *= 2.0*np.pi*kp/C/dkmin\n",
    "\n",
    "    v2dtfftradial = xr.DataArray(v2dtfftradial, dims=['k'], coords={'k': kp})\n",
    "    v2dtfftradial.k.attrs['units'] = 'cycles/dx'\n",
    "    v2dtfftradial.k.attrs['long_name'] = 'wavenumber magnitude'\n",
    "    return v2dtfftradial"
   ]
  },
  {
   "cell_type": "code",
   "execution_count": 3,
   "id": "38f1d147",
   "metadata": {},
   "outputs": [
    {
     "ename": "NameError",
     "evalue": "name 'locations' is not defined",
     "output_type": "error",
     "traceback": [
      "\u001b[0;31m---------------------------------------------------------------------------\u001b[0m",
      "\u001b[0;31mNameError\u001b[0m                                 Traceback (most recent call last)",
      "\u001b[0;32m<ipython-input-3-5a48bcd04bf0>\u001b[0m in \u001b[0;36m<module>\u001b[0;34m\u001b[0m\n\u001b[0;32m----> 1\u001b[0;31m \u001b[0;32mfor\u001b[0m \u001b[0mlocname\u001b[0m\u001b[0;34m,\u001b[0m\u001b[0mloc\u001b[0m \u001b[0;32min\u001b[0m \u001b[0mlocations\u001b[0m\u001b[0;34m.\u001b[0m\u001b[0mitems\u001b[0m\u001b[0;34m(\u001b[0m\u001b[0;34m)\u001b[0m\u001b[0;34m:\u001b[0m\u001b[0;34m\u001b[0m\u001b[0;34m\u001b[0m\u001b[0m\n\u001b[0m\u001b[1;32m      2\u001b[0m     \u001b[0;32mfor\u001b[0m \u001b[0mekey\u001b[0m \u001b[0;32min\u001b[0m \u001b[0mkes\u001b[0m\u001b[0;34m.\u001b[0m\u001b[0mkeys\u001b[0m\u001b[0;34m(\u001b[0m\u001b[0;34m)\u001b[0m\u001b[0;34m:\u001b[0m\u001b[0;34m\u001b[0m\u001b[0;34m\u001b[0m\u001b[0m\n\u001b[1;32m      3\u001b[0m         \u001b[0mke\u001b[0m \u001b[0;34m=\u001b[0m \u001b[0mkes\u001b[0m\u001b[0;34m[\u001b[0m\u001b[0mekey\u001b[0m\u001b[0;34m]\u001b[0m\u001b[0;34m[\u001b[0m\u001b[0;34m'ke'\u001b[0m\u001b[0;34m]\u001b[0m\u001b[0;34m.\u001b[0m\u001b[0msel\u001b[0m\u001b[0;34m(\u001b[0m\u001b[0myu_ocean\u001b[0m\u001b[0;34m=\u001b[0m\u001b[0mslice\u001b[0m\u001b[0;34m(\u001b[0m\u001b[0mloc\u001b[0m\u001b[0;34m[\u001b[0m\u001b[0;36m2\u001b[0m\u001b[0;34m]\u001b[0m\u001b[0;34m,\u001b[0m\u001b[0mloc\u001b[0m\u001b[0;34m[\u001b[0m\u001b[0;36m3\u001b[0m\u001b[0;34m]\u001b[0m\u001b[0;34m)\u001b[0m\u001b[0;34m)\u001b[0m\u001b[0;34m.\u001b[0m\u001b[0msel\u001b[0m\u001b[0;34m(\u001b[0m\u001b[0mxu_ocean\u001b[0m\u001b[0;34m=\u001b[0m\u001b[0mslice\u001b[0m\u001b[0;34m(\u001b[0m\u001b[0mloc\u001b[0m\u001b[0;34m[\u001b[0m\u001b[0;36m0\u001b[0m\u001b[0;34m]\u001b[0m\u001b[0;34m,\u001b[0m\u001b[0mloc\u001b[0m\u001b[0;34m[\u001b[0m\u001b[0;36m1\u001b[0m\u001b[0;34m]\u001b[0m\u001b[0;34m)\u001b[0m\u001b[0;34m)\u001b[0m\u001b[0;34m\u001b[0m\u001b[0;34m\u001b[0m\u001b[0m\n\u001b[1;32m      4\u001b[0m         \u001b[0mu\u001b[0m \u001b[0;34m=\u001b[0m \u001b[0mkes\u001b[0m\u001b[0;34m[\u001b[0m\u001b[0mekey\u001b[0m\u001b[0;34m]\u001b[0m\u001b[0;34m[\u001b[0m\u001b[0;34m'u'\u001b[0m\u001b[0;34m]\u001b[0m\u001b[0;34m.\u001b[0m\u001b[0msel\u001b[0m\u001b[0;34m(\u001b[0m\u001b[0myu_ocean\u001b[0m\u001b[0;34m=\u001b[0m\u001b[0mslice\u001b[0m\u001b[0;34m(\u001b[0m\u001b[0mloc\u001b[0m\u001b[0;34m[\u001b[0m\u001b[0;36m2\u001b[0m\u001b[0;34m]\u001b[0m\u001b[0;34m,\u001b[0m\u001b[0mloc\u001b[0m\u001b[0;34m[\u001b[0m\u001b[0;36m3\u001b[0m\u001b[0;34m]\u001b[0m\u001b[0;34m)\u001b[0m\u001b[0;34m)\u001b[0m\u001b[0;34m.\u001b[0m\u001b[0msel\u001b[0m\u001b[0;34m(\u001b[0m\u001b[0mxu_ocean\u001b[0m\u001b[0;34m=\u001b[0m\u001b[0mslice\u001b[0m\u001b[0;34m(\u001b[0m\u001b[0mloc\u001b[0m\u001b[0;34m[\u001b[0m\u001b[0;36m0\u001b[0m\u001b[0;34m]\u001b[0m\u001b[0;34m,\u001b[0m\u001b[0mloc\u001b[0m\u001b[0;34m[\u001b[0m\u001b[0;36m1\u001b[0m\u001b[0;34m]\u001b[0m\u001b[0;34m)\u001b[0m\u001b[0;34m)\u001b[0m\u001b[0;34m\u001b[0m\u001b[0;34m\u001b[0m\u001b[0m\n\u001b[1;32m      5\u001b[0m         \u001b[0mv\u001b[0m \u001b[0;34m=\u001b[0m \u001b[0mkes\u001b[0m\u001b[0;34m[\u001b[0m\u001b[0mekey\u001b[0m\u001b[0;34m]\u001b[0m\u001b[0;34m[\u001b[0m\u001b[0;34m'v'\u001b[0m\u001b[0;34m]\u001b[0m\u001b[0;34m.\u001b[0m\u001b[0msel\u001b[0m\u001b[0;34m(\u001b[0m\u001b[0myu_ocean\u001b[0m\u001b[0;34m=\u001b[0m\u001b[0mslice\u001b[0m\u001b[0;34m(\u001b[0m\u001b[0mloc\u001b[0m\u001b[0;34m[\u001b[0m\u001b[0;36m2\u001b[0m\u001b[0;34m]\u001b[0m\u001b[0;34m,\u001b[0m\u001b[0mloc\u001b[0m\u001b[0;34m[\u001b[0m\u001b[0;36m3\u001b[0m\u001b[0;34m]\u001b[0m\u001b[0;34m)\u001b[0m\u001b[0;34m)\u001b[0m\u001b[0;34m.\u001b[0m\u001b[0msel\u001b[0m\u001b[0;34m(\u001b[0m\u001b[0mxu_ocean\u001b[0m\u001b[0;34m=\u001b[0m\u001b[0mslice\u001b[0m\u001b[0;34m(\u001b[0m\u001b[0mloc\u001b[0m\u001b[0;34m[\u001b[0m\u001b[0;36m0\u001b[0m\u001b[0;34m]\u001b[0m\u001b[0;34m,\u001b[0m\u001b[0mloc\u001b[0m\u001b[0;34m[\u001b[0m\u001b[0;36m1\u001b[0m\u001b[0;34m]\u001b[0m\u001b[0;34m)\u001b[0m\u001b[0;34m)\u001b[0m\u001b[0;34m\u001b[0m\u001b[0;34m\u001b[0m\u001b[0m\n",
      "\u001b[0;31mNameError\u001b[0m: name 'locations' is not defined"
     ]
    }
   ],
   "source": [
    "for locname,loc in locations.items():\n",
    "    for ekey in kes.keys():\n",
    "        ke = kes[ekey]['ke'].sel(yu_ocean=slice(loc[2],loc[3])).sel(xu_ocean=slice(loc[0],loc[1]))\n",
    "        u = kes[ekey]['u'].sel(yu_ocean=slice(loc[2],loc[3])).sel(xu_ocean=slice(loc[0],loc[1]))\n",
    "        v = kes[ekey]['v'].sel(yu_ocean=slice(loc[2],loc[3])).sel(xu_ocean=slice(loc[0],loc[1]))\n",
    "\n",
    "        fig = plt.figure(figsize=(12,8))\n",
    "        ke.isel(time=0).plot()\n",
    "        plt.title(locname+' surface KE, '+kes[ekey]['model'])\n",
    "\n",
    "#         kefft = fftgrid(ke)   # incorrect\n",
    "        kefft = fftgrid(u)+fftgrid(v)  # following DurranWeynMenchaca2017a eq (24)\n",
    "\n",
    "        fig2 = plt.figure(figsize=(12,8))\n",
    "        np.log(kefft).plot()  # xlim=(-0.05,0.05),ylim=(-0.05,0.05))\n",
    "        plt.title(locname+' log of time-mean surface KE FFT amplitude, '+kes[ekey]['model'])\n",
    "\n",
    "        kefftradial = azimuthal_sum(kefft)\n",
    "        fig2 = plt.figure(figsize=(12,8))\n",
    "        kefftradial.plot(xscale='log', yscale='log')\n",
    "        plt.grid(which='both', axis='both')\n",
    "        plt.title(locname+' time-mean surface KE FFT amplitude, '+kes[ekey]['model'])"
   ]
  },
  {
   "cell_type": "markdown",
   "id": "5622a7e8",
   "metadata": {},
   "source": [
    "## Surface enstrophy spectra"
   ]
  },
  {
   "cell_type": "code",
   "execution_count": null,
   "id": "fb74f4ce",
   "metadata": {},
   "outputs": [],
   "source": [
    "# load model surface vorticity snapshots\n",
    "ekey = '01deg'\n",
    "darray = cc.querying.getvar(session=session, expt='01deg_jra55v13_iaf', variable='vorticity_z', use_cache=use_cache)\n",
    "vort = darray.isel(st_ocean=0)\n",
    "vort = vort.fillna(0.0) # fill and with zeros"
   ]
  },
  {
   "cell_type": "code",
   "execution_count": null,
   "id": "58589e9d",
   "metadata": {},
   "outputs": [],
   "source": [
    "for locname,loc in locations.items():\n",
    "    v = vort.sel(yt_ocean=slice(loc[2],loc[3])).sel(xt_ocean=slice(loc[0],loc[1]))\n",
    "#     tdim, ydim, xdim = v.dims  # abstract out dimension names - NB: assumes this order of dimensions\n",
    "#     nx = v[xdim].size\n",
    "#     ny = v[ydim].size\n",
    "\n",
    "    fig = plt.figure(figsize=(12,8))\n",
    "    v.isel(time=0).plot()\n",
    "    plt.title(locname+' surface relative vorticity')\n",
    "\n",
    "    v2 = v**2\n",
    "# #     fig = plt.figure(figsize=(12,8))\n",
    "# #     v2.isel(time=0).plot()\n",
    "# #     plt.title(locname+' surface enstrophy')\n",
    "\n",
    "    v2dtfft = fftgrid(v2)\n",
    "\n",
    "    fig2 = plt.figure(figsize=(12,8))\n",
    "    np.log(v2dtfft).plot()  # xlim=(-0.05,0.05),ylim=(-0.05,0.05))\n",
    "    plt.title(locname+' log of time-mean surface enstrophy FFT amplitude')\n",
    "\n",
    "    v2dtfftradial = azimuthal_sum(v2dtfft)\n",
    "    fig2 = plt.figure(figsize=(12,8))\n",
    "    v2dtfftradial.plot(xscale='log', yscale='log')\n",
    "    plt.grid(which='both', axis='both')\n",
    "    plt.title(locname+' time-mean surface enstrophy FFT amplitude, '+kes[ekey]['model'])\n",
    "#     break"
   ]
  },
  {
   "cell_type": "markdown",
   "id": "a6f7a420",
   "metadata": {},
   "source": [
    "# TODO\n",
    "- first test with dummy data with known spectral content\n",
    "- interpolate onto grid in units of metres (choose a power of 2)\n",
    "- remove trends from interpolated data - see Errico1985a http://dx.doi.org/10.1175/1520-0493(1985)113<1554:SCFALA>2.0.CO;2\n",
    "- remove mean (do this with interpolated data so it is area-weighted)\n",
    "- 2d FFT\n",
    "- calc squared magnitude\n",
    "- convert to spectrum wrt |k| - see DurranWeynMenchaca2017a http://dx.doi.org/10.1175/MWR-D-17-0056.1\n"
   ]
  }
 ],
 "metadata": {
  "kernelspec": {
   "display_name": "Python [conda env:analysis3-20.07] *",
   "language": "python",
   "name": "conda-env-analysis3-20.07-py"
  },
  "language_info": {
   "codemirror_mode": {
    "name": "ipython",
    "version": 3
   },
   "file_extension": ".py",
   "mimetype": "text/x-python",
   "name": "python",
   "nbconvert_exporter": "python",
   "pygments_lexer": "ipython3",
   "version": "3.7.8"
  }
 },
 "nbformat": 4,
 "nbformat_minor": 5
}
